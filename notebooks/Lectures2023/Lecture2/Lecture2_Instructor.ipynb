{
 "cells": [
  {
   "cell_type": "markdown",
   "metadata": {
    "id": "yXi0l2XpclEA"
   },
   "source": [
    "# Contents\n",
    "\n",
    "\n",
    "\n",
    "1.   [**Review**](#Review)\n",
    "\n",
    "2.   [**Intro to Numpy Arrays**](#intro)\n",
    "\n",
    "      a. Negative Indexing [Exercise](#neg_ex)\n",
    "      \n",
    "      b. Ranges [Exercise](#range_ex)\n",
    "      \n",
    "      c. Indexing & Slicing [Exercises](#slice_ex)\n",
    "\n",
    "3. [**Functions in Numpy**](#numpy_funcs)\n",
    "\n",
    "      a. Numpy Trig Function [Exercises](#trig_ex)\n",
    "\n",
    "4. [**User-Defined Functions**](#user_funcs)\n",
    "\n",
    "      a. Path Length Function [Exercises](#ex_pathlen)\n",
    "\n",
    "5. [**Loading and Saving Numpy Arrays**](#load_save)\n",
    "\n",
    "      a. Time-Series Data [Exercises](#ex_timeseries)\n",
    "\n",
    "6. [**Loading Data \"Automatically\"**](#sec_load)\n",
    "\n",
    "7. [**Summary and Further Resources!**](#summary)"
   ]
  },
  {
   "cell_type": "markdown",
   "metadata": {
    "id": "wlxE9uISw0Yv"
   },
   "source": [
    "## Review from the previous lecture\n",
    "<a id='Review'></a>\n",
    "\n",
    "\n",
    "The previous lecture covered basic mathematical operations, variables, and lists. Last lecture also introduced you to conditional statements, loops, and basic plotting using matplotlib. Before moving forward, here is a quick review."
   ]
  },
  {
   "cell_type": "markdown",
   "metadata": {
    "id": "PFfwgHTIw0Yw"
   },
   "source": [
    "*Instructor:* First, let's make a list to play with."
   ]
  },
  {
   "cell_type": "code",
   "execution_count": 7,
   "metadata": {
    "id": "gODpUW41w0Yw"
   },
   "outputs": [],
   "source": [
    "ourList = [0, 1, 2, 3, 4, 5, 6, 7, 8, 9]"
   ]
  },
  {
   "cell_type": "markdown",
   "metadata": {
    "id": "tyj8M4Tbw0Yw"
   },
   "source": [
    " **Loops** with **dummy variables** are useful to iterate over lists and perform operations on each element."
   ]
  },
  {
   "cell_type": "markdown",
   "metadata": {
    "id": "Oh6_jxw-KdPX"
   },
   "source": [
    "*Instructor:* For example, say we want to print `ourList` with each element multiplied by 10. We can use a **while** loop to do this:"
   ]
  },
  {
   "cell_type": "code",
   "execution_count": 8,
   "metadata": {
    "colab": {
     "base_uri": "https://localhost:8080/"
    },
    "id": "hTYBYH_Ww0Yw",
    "outputId": "ddab0898-16e7-42a7-fa97-839d02e59704"
   },
   "outputs": [
    {
     "name": "stdout",
     "output_type": "stream",
     "text": [
      "0\n",
      "10\n",
      "20\n",
      "30\n",
      "40\n",
      "50\n",
      "60\n",
      "70\n",
      "80\n",
      "90\n"
     ]
    }
   ],
   "source": [
    "i = 0\n",
    "while i < len(ourList):\n",
    "    num = ourList[i] * 10\n",
    "    print(num)\n",
    "    i = i+1"
   ]
  },
  {
   "cell_type": "markdown",
   "metadata": {
    "id": "T12P3qJ7w0Yw"
   },
   "source": [
    "Conditional statements like **if** and **else** are used to implement more complex logic."
   ]
  },
  {
   "cell_type": "markdown",
   "metadata": {
    "id": "YZk1UuSFKhfq"
   },
   "source": [
    "*Instructor:* What if we wanted to print out all the elements in `ourList` that are smaller than 5? We can use conditional statements to do this:"
   ]
  },
  {
   "cell_type": "code",
   "execution_count": 9,
   "metadata": {
    "colab": {
     "base_uri": "https://localhost:8080/"
    },
    "id": "Odjh-Z-Sw0Yw",
    "outputId": "ad20db0c-3791-4213-e028-253bde068f46"
   },
   "outputs": [
    {
     "name": "stdout",
     "output_type": "stream",
     "text": [
      "0\n",
      "1\n",
      "2\n",
      "3\n",
      "4\n",
      "I only print numbers less than 5!\n",
      "I only print numbers less than 5!\n",
      "I only print numbers less than 5!\n",
      "I only print numbers less than 5!\n",
      "I only print numbers less than 5!\n"
     ]
    }
   ],
   "source": [
    "i = 0\n",
    "while i < len(ourList):\n",
    "    num = ourList[i]\n",
    "    if num < 5:\n",
    "        print(num)\n",
    "    else:\n",
    "        print(\"I only print numbers less than 5!\")\n",
    "    i = i+1"
   ]
  },
  {
   "cell_type": "markdown",
   "metadata": {},
   "source": [
    "*Instructor:* Now let's try briefly extending some of the things that we learned about loops and iterables in Lesson 1."
   ]
  },
  {
   "cell_type": "markdown",
   "metadata": {
    "id": "yCyvx4yWMGKT"
   },
   "source": [
    "The other kind of loop that you might encounter more often while working in Python is the `for` loop. A for-loop has the dummy variable \"built in,\" in a sense."
   ]
  },
  {
   "cell_type": "code",
   "execution_count": 10,
   "metadata": {
    "colab": {
     "base_uri": "https://localhost:8080/"
    },
    "id": "-YjZ_Rn7MZF-",
    "outputId": "fb73c24b-5841-4e2f-c97b-6f70f8a8128c"
   },
   "outputs": [
    {
     "name": "stdout",
     "output_type": "stream",
     "text": [
      "0\n",
      "0\n",
      "1\n",
      "1\n",
      "2\n",
      "2\n",
      "3\n",
      "3\n",
      "4\n",
      "4\n",
      "5\n",
      "I only print numbers less than 5!\n",
      "6\n",
      "I only print numbers less than 5!\n",
      "7\n",
      "I only print numbers less than 5!\n",
      "8\n",
      "I only print numbers less than 5!\n",
      "9\n",
      "I only print numbers less than 5!\n"
     ]
    }
   ],
   "source": [
    "for num in ourList:\n",
    "    print(num)\n",
    "    #Edited to print only less than 5 (remove above print statement)\n",
    "    if num < 5:\n",
    "        print(num)\n",
    "    else:\n",
    "        print(\"I only print numbers less than 5!\")"
   ]
  },
  {
   "cell_type": "markdown",
   "metadata": {
    "id": "EyxPEAcIZBan"
   },
   "source": [
    "*Instructor*: Try editing the above code to make it only print the numbers in `ourList` that are less than 5!"
   ]
  },
  {
   "cell_type": "markdown",
   "metadata": {
    "id": "KXO-fmi4Mg0o"
   },
   "source": [
    "*Instructor:* You might find yourself wanting a regular sequence of numbers, like what we wrote into `ourList`, but without handwriting them yourself. You can use the built-in Python `range` function."
   ]
  },
  {
   "cell_type": "markdown",
   "metadata": {
    "id": "oKUpRTFXMv1N"
   },
   "source": [
    "The `range` function can be iterated over to produce a regular sequence of numbers."
   ]
  },
  {
   "cell_type": "markdown",
   "metadata": {
    "id": "gJkQuou8M5x9"
   },
   "source": [
    "`range` can be used as `range(end_)`, or as `range(start_, end_)`, or as `range(start_, end_, step_)`. Here's the [official documentation](https://docs.python.org/3/library/functions.html#func-range) as well as an [easier-to-read explainer webpage](https://www.w3schools.com/python/ref_func_range.asp).\n",
    "\n",
    "*Instructor*: Let's see how our code from above changes if we use range instead of defining the whole list by ourselves!"
   ]
  },
  {
   "cell_type": "code",
   "execution_count": 11,
   "metadata": {
    "id": "r0-kbZDTM1qL"
   },
   "outputs": [
    {
     "name": "stdout",
     "output_type": "stream",
     "text": [
      "0\n",
      "1\n",
      "2\n",
      "3\n",
      "4\n",
      "5\n",
      "6\n",
      "7\n",
      "8\n",
      "9\n"
     ]
    }
   ],
   "source": [
    "for num in range(10):\n",
    "    print(num)"
   ]
  },
  {
   "cell_type": "markdown",
   "metadata": {
    "id": "qQtT2SSTYmv6"
   },
   "source": [
    "Now try it yourself!"
   ]
  },
  {
   "cell_type": "markdown",
   "metadata": {
    "id": "Rtx7E-o8NF1z"
   },
   "source": [
    "*Instructor:* Try using a for-loop and the `range` function to print even numbers between 10 and 20 (you don't have to include 20)."
   ]
  },
  {
   "cell_type": "code",
   "execution_count": 12,
   "metadata": {
    "id": "uWR9e5CnNTPU"
   },
   "outputs": [
    {
     "name": "stdout",
     "output_type": "stream",
     "text": [
      "10\n",
      "12\n",
      "14\n",
      "16\n",
      "18\n"
     ]
    }
   ],
   "source": [
    "#Your code goes here\n",
    "for num in range(10, 20, 2):\n",
    "    print(num)"
   ]
  },
  {
   "cell_type": "markdown",
   "metadata": {
    "id": "y7scwvhLw0Yw"
   },
   "source": [
    "Finally, recall that the **matplotlib** module can be used to plot data.\n",
    "\n",
    "First, import the module - this is always the first step whenever you're using a python module, but it's easy to forget! Then, we use a magic command that makes the figure appear within the cell."
   ]
  },
  {
   "cell_type": "markdown",
   "metadata": {
    "id": "Elqew84KKxNE"
   },
   "source": [
    "*Instructor:* Say we wanted to plot each element of `ourList` versus the square of each element. "
   ]
  },
  {
   "cell_type": "code",
   "execution_count": 13,
   "metadata": {
    "id": "nyQHClgow0Yw"
   },
   "outputs": [
    {
     "data": {
      "image/png": "[encoded data removed]",
      "text/plain": [
       "<Figure size 432x288 with 1 Axes>"
      ]
     },
     "metadata": {
      "needs_background": "light"
     },
     "output_type": "display_data"
    }
   ],
   "source": [
    "import matplotlib.pyplot as plt  #importing module into python and naming it plt\n",
    "%matplotlib inline \n",
    "\n",
    "squareList = [0, 1, 4, 9, 16, 25, 36, 49, 64, 81]\n",
    "\n",
    "plt.plot(ourList,squareList)\n",
    "plt.show()"
   ]
  },
  {
   "cell_type": "markdown",
   "metadata": {
    "id": "Q82yTzDTw0Yx"
   },
   "source": [
    "# Lecture 2 - NumPy, Functions, and Data\n",
    "\n",
    "Today, we will learn about NumPy, learn how to define our own functions, and learn about handling data in Python.\n",
    "\n",
    "1. An introduction to **numpy** and **numpy arrays** and a discussion of their usefulness in solving real problems\n",
    "2. **Functions** and how to define new ones. \n",
    "3. **Reading in data** from text and numpy file formats, along with creating your own outputs to be used later\n",
    "    "
   ]
  },
  {
   "cell_type": "markdown",
   "metadata": {
    "id": "eWoP8Tfuw0Yy"
   },
   "source": [
    "## A. Introduction to Numpy Arrays - Initialization and Advanced Indexing\n",
    "<a id='intro'></a>"
   ]
  },
  {
   "cell_type": "markdown",
   "metadata": {
    "id": "3DR1oDfEw0Yy"
   },
   "source": [
    "The Python `list` is a fast and flexible built-in data type, but because of its flexbility, it is limited in the operations we can perform on it. A popular scientific computing package called `numpy`, short for \"numerical Python\", can help by way of its incredibly powerful object type: the `array`."
   ]
  },
  {
   "cell_type": "markdown",
   "metadata": {
    "id": "0yQA2gbuaGPL"
   },
   "source": [
    "*Instructor*: As we learned in the previous lecture, Python is a modular language. We can add tools and functionality as we need them, in the same way that we imported **matplotlib**. Today we'll be learning about a module called `numpy` (short for \"numerical Python\"). "
   ]
  },
  {
   "cell_type": "markdown",
   "metadata": {
    "id": "o6egDwlt8nRa"
   },
   "source": [
    "*Instructor:* First, let's create a regular old list to play with. **What do you think the code below will do?**\n",
    "\n",
    "*Instructor*: Print out `c` to find out."
   ]
  },
  {
   "cell_type": "code",
   "execution_count": 14,
   "metadata": {
    "id": "DKWCEZRKw0Yy"
   },
   "outputs": [],
   "source": [
    "c = list(range(10))"
   ]
  },
  {
   "cell_type": "markdown",
   "metadata": {
    "id": "xPgg85FLw0Yy"
   },
   "source": [
    "*Instructor*:\n",
    "\n",
    "**Poll:** What do you think the next block of code will do?\n",
    "\n",
    "A. Square each element of the list\n",
    "\n",
    "B. Cross product of c with itself\n",
    "\n",
    "C. Dot product of c with itself\n",
    "\n",
    "**D. Give an error**\n",
    "\n",
    "Let's find out! "
   ]
  },
  {
   "cell_type": "markdown",
   "metadata": {
    "id": "6oyPgobScrOM"
   },
   "source": [
    "**POLL** -- Wait for the instructor to open polling before running the next block of code!"
   ]
  },
  {
   "cell_type": "code",
   "execution_count": 15,
   "metadata": {
    "id": "ra9Iga_sw0Yz"
   },
   "outputs": [
    {
     "ename": "TypeError",
     "evalue": "unsupported operand type(s) for ** or pow(): 'list' and 'int'",
     "output_type": "error",
     "traceback": [
      "\u001b[0;31m---------------------------------------------------------------------------\u001b[0m",
      "\u001b[0;31mTypeError\u001b[0m                                 Traceback (most recent call last)",
      "\u001b[0;32m/tmp/ipykernel_5151/78922717.py\u001b[0m in \u001b[0;36m<module>\u001b[0;34m\u001b[0m\n\u001b[0;32m----> 1\u001b[0;31m \u001b[0md\u001b[0m \u001b[0;34m=\u001b[0m \u001b[0mc\u001b[0m\u001b[0;34m**\u001b[0m\u001b[0;36m2\u001b[0m\u001b[0;34m\u001b[0m\u001b[0;34m\u001b[0m\u001b[0m\n\u001b[0m\u001b[1;32m      2\u001b[0m \u001b[0mprint\u001b[0m\u001b[0;34m(\u001b[0m\u001b[0md\u001b[0m\u001b[0;34m)\u001b[0m\u001b[0;34m\u001b[0m\u001b[0;34m\u001b[0m\u001b[0m\n",
      "\u001b[0;31mTypeError\u001b[0m: unsupported operand type(s) for ** or pow(): 'list' and 'int'"
     ]
    }
   ],
   "source": [
    "d = c**2\n",
    "print(d)"
   ]
  },
  {
   "cell_type": "markdown",
   "metadata": {
    "id": "S2gbAqh5w0Yz"
   },
   "source": [
    "*Instructor:* It doesn't work! Let's take a minute to understand this error message and why regular Python lists don't have this functionality. Next, let's convert our list to a NumPy array and see what happens."
   ]
  },
  {
   "cell_type": "markdown",
   "metadata": {
    "id": "KLVB6o30cEKW"
   },
   "source": [
    "First, import the numpy module. We typically abbreviate it as `np`.\n",
    "\n",
    "To convert the list to a numpy array, use `np.array()`.\n",
    "<a id='array'></a>"
   ]
  },
  {
   "cell_type": "code",
   "execution_count": 16,
   "metadata": {
    "id": "IX82Khm_w0Yz"
   },
   "outputs": [],
   "source": [
    "# Import the numpy module\n",
    "import numpy as np"
   ]
  },
  {
   "cell_type": "code",
   "execution_count": 17,
   "metadata": {
    "id": "u8dlnbV3w0Yz"
   },
   "outputs": [],
   "source": [
    "# convert the list c to an array\n",
    "c = np.array(c)"
   ]
  },
  {
   "cell_type": "markdown",
   "metadata": {
    "id": "OP3O9vvfcSv2"
   },
   "source": [
    "*Instructor*: **What will happen if we try to perform the same operation on our array that previously threw an error with our list?**\n",
    "\n",
    "Use same poll as before"
   ]
  },
  {
   "cell_type": "markdown",
   "metadata": {
    "id": "iRq_yyTGc_aj"
   },
   "source": [
    "**POLL** -- Wait for the instructor to open polling before running the next block of code!"
   ]
  },
  {
   "cell_type": "code",
   "execution_count": 18,
   "metadata": {
    "colab": {
     "base_uri": "https://localhost:8080/"
    },
    "id": "UFqeZJ-Kw0Yz",
    "outputId": "0da1eda2-b67f-44ea-f9bf-08c91d5f49b0"
   },
   "outputs": [
    {
     "name": "stdout",
     "output_type": "stream",
     "text": [
      "[ 0  1  4  9 16 25 36 49 64 81]\n"
     ]
    }
   ],
   "source": [
    "d = c**2\n",
    "print(d)"
   ]
  },
  {
   "cell_type": "markdown",
   "metadata": {
    "id": "L_mjF3godU8M"
   },
   "source": [
    "*Instructor*: **What was the result of the above code?** (Discuss with the students)"
   ]
  },
  {
   "cell_type": "markdown",
   "metadata": {
    "id": "J8hqYtbYw0Yz"
   },
   "source": [
    "<a id='ranges'></a>\n",
    "There are a few easier ways to create arrays besides creating a list and turning it into a numpy array. These include:\n",
    "* `np.arange(start_,stop_,step_)`\n",
    "* `np.linspace(first_,last_,num_)`\n",
    "\n",
    "(And the accompanying official documentation pages: [numpy.arange](https://numpy.org/doc/stable/reference/generated/numpy.arange.html), [numpy.linspace](https://numpy.org/doc/stable/reference/generated/numpy.linspace.html#numpy.linspace))\n",
    "\n",
    "These create arrays of numbers within a range with a fixed step-size between each consecutive number in the array. You can try these out below.\n",
    "\n",
    "`np.arange(start_,stop_,step_)` works just like the `range` function we introduced at the beginning of this lesson! But instead of the mysterious `range` object type, the numpy function returns a nice, neat numpy array."
   ]
  },
  {
   "cell_type": "markdown",
   "metadata": {
    "id": "k1nMLkHldmpK"
   },
   "source": [
    "*Instructor*: Numpy has excellent documentation, so let's take a look back at those manual pages before we do our examples. Learning to read documentation is a valuable skill in every programmer's toolbox; if you don't know how to do something, you need to know how to look it up! (Help them read the np.arange documentation page)"
   ]
  },
  {
   "cell_type": "code",
   "execution_count": 19,
   "metadata": {
    "colab": {
     "base_uri": "https://localhost:8080/"
    },
    "id": "xDhsW07Fw0Yz",
    "outputId": "fdf33219-fb2c-40f8-f71d-a368370c0ed1"
   },
   "outputs": [
    {
     "data": {
      "text/plain": [
       "array([0, 1, 2, 3, 4, 5, 6, 7, 8, 9])"
      ]
     },
     "execution_count": 19,
     "metadata": {},
     "output_type": "execute_result"
    }
   ],
   "source": [
    "np.arange(0, 10, 1)"
   ]
  },
  {
   "cell_type": "code",
   "execution_count": 20,
   "metadata": {
    "colab": {
     "base_uri": "https://localhost:8080/"
    },
    "id": "_Ooc_Ia5w0Yz",
    "outputId": "7e7dc87a-906b-4d2c-fe0f-290d0de4ce44"
   },
   "outputs": [
    {
     "data": {
      "text/plain": [
       "array([ 0.,  1.,  2.,  3.,  4.,  5.,  6.,  7.,  8.,  9., 10.])"
      ]
     },
     "execution_count": 20,
     "metadata": {},
     "output_type": "execute_result"
    }
   ],
   "source": [
    "np.linspace(0, 10, 11)"
   ]
  },
  {
   "cell_type": "markdown",
   "metadata": {
    "id": "HWgRFSFZcgzU"
   },
   "source": [
    "*Instructor*: **What differences do you notice between the results from running the two previous cells?** (followed by) **How can we make them do the same thing?**"
   ]
  },
  {
   "cell_type": "markdown",
   "metadata": {
    "id": "j62mXK4xw0Yz"
   },
   "source": [
    "<a id='empty'></a>\n",
    "Sometimes it is handy to create an array of all constant values, which can then be replaced later with data. This can be done in several ways by using the following commands (click the sample function name to go to the documentation page):\n",
    "\n",
    "* [`np.zeros(size_)`](https://numpy.org/doc/stable/reference/generated/numpy.zeros.html) To fill the array with zeros\n",
    "* [`np.ones(size_)`](https://numpy.org/doc/stable/reference/generated/numpy.oness.html) To fill the array with ones\n",
    "* [`np.empty(size_)`](https://numpy.org/doc/stable/reference/generated/numpy.empty.html) To fill the array with arbitrary values\n",
    "\n",
    "These create arrays of the given size, filled with zeros, ones, or arbitrary values, depending on your specific needs. Great for initializing an array to store important data in later!"
   ]
  },
  {
   "cell_type": "markdown",
   "metadata": {
    "id": "zMl6NGYUgNTf"
   },
   "source": [
    "*Instructor*: Let's say we want to store 10 numbers in an numpy array for easy access in the future. To ready such an array, we call the function `np.zeros()` with the size of the array as an input variable."
   ]
  },
  {
   "cell_type": "code",
   "execution_count": 21,
   "metadata": {
    "colab": {
     "base_uri": "https://localhost:8080/"
    },
    "id": "xj08PatOw0Yz",
    "outputId": "d723a987-4f89-46c9-cc90-5eef7befd058"
   },
   "outputs": [
    {
     "name": "stdout",
     "output_type": "stream",
     "text": [
      "[0. 0. 0. 0. 0. 0. 0. 0. 0. 0.]\n"
     ]
    }
   ],
   "source": [
    "data = np.zeros(10)\n",
    "print(data)"
   ]
  },
  {
   "cell_type": "markdown",
   "metadata": {
    "id": "LTeHZWcwgY5n"
   },
   "source": [
    "*Instructor*: Retry the above block of code using `np.ones` or `np.empty`. **What does np.empty do? Is one of these methods better than another for any situation you can think of?**"
   ]
  },
  {
   "cell_type": "markdown",
   "metadata": {
    "collapsed": true,
    "id": "h9_sUv6iw0Yz"
   },
   "source": [
    "<a id='indexing'></a>\n",
    "We can also assign new values to elements of existing arrays, using the following \"square bracket\" notation. This is the same as the list indexing we taught you in Lecture #1!\n",
    "> `array_name[index_number] = value` \n",
    "\n",
    "This command will replace whatever value is currently in the position corresponding to ``index_number`` in the array called ``array_name`` with the value stored in ``value``.\n",
    "\n",
    "Recall that arrays are numbered starting from 0, such that\n",
    "\n",
    "* Index of first position = 0\n",
    "* Index of second position = 1\n",
    "* Index of third position = 2\n",
    "* etc.\n"
   ]
  },
  {
   "cell_type": "markdown",
   "metadata": {
    "id": "e4fvKb7yhlnz"
   },
   "source": [
    "*Instructor*: Try it out yourself below by changing and printing different indices in our `data` array defined above."
   ]
  },
  {
   "cell_type": "code",
   "execution_count": 22,
   "metadata": {
    "id": "xmMeeKOzw0Yz"
   },
   "outputs": [
    {
     "ename": "SyntaxError",
     "evalue": "invalid syntax (3585998961.py, line 1)",
     "output_type": "error",
     "traceback": [
      "\u001b[0;36m  File \u001b[0;32m\"/tmp/ipykernel_5151/3585998961.py\"\u001b[0;36m, line \u001b[0;32m1\u001b[0m\n\u001b[0;31m    data[0] = #\u001b[0m\n\u001b[0m              ^\u001b[0m\n\u001b[0;31mSyntaxError\u001b[0m\u001b[0;31m:\u001b[0m invalid syntax\n"
     ]
    }
   ],
   "source": [
    "data[0] = #\n",
    "print(data[0])"
   ]
  },
  {
   "cell_type": "markdown",
   "metadata": {
    "id": "iU9mjbijiMyA"
   },
   "source": [
    "*Instructor*: Let's say you wanted the last element of the array, but you don't recall the size of the array. One of the easiest ways to access that element  is to use negative indexing."
   ]
  },
  {
   "cell_type": "markdown",
   "metadata": {
    "id": "SFN325_pw0Yz"
   },
   "source": [
    "**Negative indexing** is the same as normal indexing, but backward, in the sense that you start with the last element of the array and count toward the first.  More explicitly, for any array:\n",
    "\n",
    "* array[-1] = last element of array\n",
    "* array[-2] = second to last element of the array\n",
    "* array[-3] = third to last element of the array\n",
    "* etc"
   ]
  },
  {
   "cell_type": "markdown",
   "metadata": {
    "id": "OPlqobhYiu9-"
   },
   "source": [
    "*Instructor*: Now let's create an array using `np.arange()` with 10 elements, and see if you can access the last element and the second to last element using negative indexing and print out those values."
   ]
  },
  {
   "cell_type": "markdown",
   "metadata": {
    "id": "ykJvqGYki-60"
   },
   "source": [
    "### **Exercise**: Negative Indexing\n",
    "<a id='neg_ex'></a>\n"
   ]
  },
  {
   "cell_type": "markdown",
   "metadata": {
    "id": "s83A7lKmkaDu"
   },
   "source": [
    "Create an array with 10 elements using `np.arange()` and print out the last and second-to-last elements using negative indexing!"
   ]
  },
  {
   "cell_type": "code",
   "execution_count": null,
   "metadata": {
    "id": "nHDQLDKpw0Yz"
   },
   "outputs": [],
   "source": [
    "#Your code goes here\n",
    "array = np.arange(0, 10, 1)\n",
    "print(array)\n",
    "\n",
    "print(array[-1])\n",
    "print(array[-2])"
   ]
  },
  {
   "cell_type": "markdown",
   "metadata": {
    "id": "oT7kzVoTw0Yz"
   },
   "source": [
    "Sometimes it's useful to access more than one element of an array. Let's say that we have an array spanning the range [0,10] (including endpoints), with a step size of 0.1. If you recall, this can be done via the `np.linspace()` or `np.arange()` functions."
   ]
  },
  {
   "cell_type": "markdown",
   "metadata": {
    "id": "IhK6eu2bw0Yz"
   },
   "source": [
    "<a id='slicing'></a>\n",
    "In order to get a range of elements in an array, rather than simply a single one, use **array slicing**:\n",
    "\n",
    "* `array_name[start_index:end_index]` To grab all of the values from `start_index` to `end_index - 1`\n",
    "* `array_name[:end_index]` To grab all of the values up to `end_index-1`\n",
    "* `array_name[start_index:]` To grab all of the values from `start_index` and beyond\n",
    "\n",
    "In this notation, \":\" means you want everything between your start and end indices, including the value to the left but excluding the value to the right."
   ]
  },
  {
   "cell_type": "markdown",
   "metadata": {
    "id": "HA-GwVV8lT5b"
   },
   "source": [
    "*Instructor*: Let's define an array to play with so that we can test this array slicing notation."
   ]
  },
  {
   "cell_type": "markdown",
   "metadata": {
    "id": "gOG4eEu4l17Z"
   },
   "source": [
    "### **Exercise**: `np.linspace` and `np.arange`\n",
    "<a id='range_ex'></a>\n"
   ]
  },
  {
   "cell_type": "markdown",
   "metadata": {
    "id": "V2Nr0LiHkmVz"
   },
   "source": [
    "Create an array named `x` of values from 0 to 10 (including 10) in steps of 0.1. *(Hint: use `np.arange` or `np.linspace`)*"
   ]
  },
  {
   "cell_type": "code",
   "execution_count": 23,
   "metadata": {
    "colab": {
     "base_uri": "https://localhost:8080/"
    },
    "id": "OPd_0Zffw0Yz",
    "outputId": "f1dcea35-c745-451e-91f7-10bb3578822b",
    "scrolled": true
   },
   "outputs": [],
   "source": [
    "#Your code here\n",
    "x = np.linspace(0, 10, 101)\n",
    "#OR\n",
    "x = np.arange(0, 10.1, 0.1)\n"
   ]
  },
  {
   "cell_type": "markdown",
   "metadata": {
    "id": "Zt9J6Bylw0Yz"
   },
   "source": [
    "*Instructor*: **Who would like to give an example of how they constructed their array above?** (have the student read out what they did, type it in the code box above, do this for both linspace and arange)"
   ]
  },
  {
   "cell_type": "markdown",
   "metadata": {
    "id": "J3DUCAMNmker"
   },
   "source": [
    "*Instructor*: Based on the descriptions above, for array slicing, **what would each of the following lines of code do?** (Let different students answer, ask whether the bounds are inclusive for each one)"
   ]
  },
  {
   "cell_type": "code",
   "execution_count": 24,
   "metadata": {
    "id": "46plKnZtw0Yz"
   },
   "outputs": [
    {
     "data": {
      "text/plain": [
       "array([0. , 0.1, 0.2, 0.3, 0.4, 0.5, 0.6, 0.7, 0.8, 0.9, 1. , 1.1, 1.2,\n",
       "       1.3, 1.4, 1.5, 1.6, 1.7, 1.8, 1.9, 2. , 2.1, 2.2, 2.3, 2.4])"
      ]
     },
     "execution_count": 24,
     "metadata": {},
     "output_type": "execute_result"
    }
   ],
   "source": [
    "x[1:4]\n",
    "\n",
    "x[90:]\n",
    "\n",
    "x[:25]"
   ]
  },
  {
   "cell_type": "markdown",
   "metadata": {
    "id": "2YRR7FmdnZCk"
   },
   "source": [
    "## **Exercise 1**: Indexing and slicing \n",
    "<a id='slice_ex'></a>\n"
   ]
  },
  {
   "cell_type": "markdown",
   "metadata": {
    "id": "Gkn9iwvQw0Yz"
   },
   "source": [
    "\n",
    "So, let's say that you would want everything up to and including the tenth element of the array $x$ which we created above. How would you do that?\n",
    "\n",
    "(Remember, the tenth element has an index of 9)"
   ]
  },
  {
   "cell_type": "code",
   "execution_count": 25,
   "metadata": {
    "id": "OI0RRhV6w0Yz"
   },
   "outputs": [
    {
     "data": {
      "text/plain": [
       "array([0. , 0.1, 0.2, 0.3, 0.4, 0.5, 0.6, 0.7, 0.8, 0.9])"
      ]
     },
     "execution_count": 25,
     "metadata": {},
     "output_type": "execute_result"
    }
   ],
   "source": [
    "#Your code goes here\n",
    "x[0:10]\n",
    "# OR\n",
    "x[:10]"
   ]
  },
  {
   "cell_type": "markdown",
   "metadata": {
    "id": "Tm6NGKp5w0Y0"
   },
   "source": [
    "Now try to select just the first half of the array. "
   ]
  },
  {
   "cell_type": "code",
   "execution_count": 26,
   "metadata": {
    "id": "GB0GmxO-w0Y0"
   },
   "outputs": [
    {
     "name": "stdout",
     "output_type": "stream",
     "text": [
      "[0.  0.1 0.2 0.3 0.4 0.5 0.6 0.7 0.8 0.9 1.  1.1 1.2 1.3 1.4 1.5 1.6 1.7\n",
      " 1.8 1.9 2.  2.1 2.2 2.3 2.4 2.5 2.6 2.7 2.8 2.9 3.  3.1 3.2 3.3 3.4 3.5\n",
      " 3.6 3.7 3.8 3.9 4.  4.1 4.2 4.3 4.4 4.5 4.6 4.7 4.8 4.9]\n"
     ]
    }
   ],
   "source": [
    "#Your code goes here\n",
    "print(x[:50])"
   ]
  },
  {
   "cell_type": "markdown",
   "metadata": {
    "id": "cN6BSHqpw0Y0"
   },
   "source": [
    "Then, pick out middle sixty elements of the array."
   ]
  },
  {
   "cell_type": "code",
   "execution_count": 27,
   "metadata": {
    "id": "bir2j1ztw0Y0"
   },
   "outputs": [
    {
     "name": "stdout",
     "output_type": "stream",
     "text": [
      "[2.  2.1 2.2 2.3 2.4 2.5 2.6 2.7 2.8 2.9 3.  3.1 3.2 3.3 3.4 3.5 3.6 3.7\n",
      " 3.8 3.9 4.  4.1 4.2 4.3 4.4 4.5 4.6 4.7 4.8 4.9 5.  5.1 5.2 5.3 5.4 5.5\n",
      " 5.6 5.7 5.8 5.9 6.  6.1 6.2 6.3 6.4 6.5 6.6 6.7 6.8 6.9 7.  7.1 7.2 7.3\n",
      " 7.4 7.5 7.6 7.7 7.8 7.9]\n"
     ]
    }
   ],
   "source": [
    "#Your code goes here\n",
    "print(x[20:80])"
   ]
  },
  {
   "cell_type": "markdown",
   "metadata": {
    "id": "Nd8BK-OwptIp"
   },
   "source": [
    "Let's try a few more. In the next block of code, perform the following actions on different lines:\n",
    "\n",
    "* Access all elements of your `x` up to, but not including the 17th element\n",
    "* Access the last 20 elements of `x`\n",
    "* Create a new array named `y` that contains the 12th through 38th elements of `x`, including the 38th element\n"
   ]
  },
  {
   "cell_type": "code",
   "execution_count": 28,
   "metadata": {
    "id": "p1eH9J4np94W"
   },
   "outputs": [
    {
     "name": "stdout",
     "output_type": "stream",
     "text": [
      "[0.  0.1 0.2 0.3 0.4 0.5 0.6 0.7 0.8 0.9 1.  1.1 1.2 1.3 1.4 1.5 1.6]\n",
      "[ 8.1  8.2  8.3  8.4  8.5  8.6  8.7  8.8  8.9  9.   9.1  9.2  9.3  9.4\n",
      "  9.5  9.6  9.7  9.8  9.9 10. ]\n"
     ]
    }
   ],
   "source": [
    "#Your code goes here\n",
    "print(x[:17])\n",
    "print(x[-20:])\n",
    "y = x[12:39]"
   ]
  },
  {
   "cell_type": "markdown",
   "metadata": {
    "id": "zuFluWa6w0Y0"
   },
   "source": [
    "Finally, how would you get all of the elements in the array using colon notation?"
   ]
  },
  {
   "cell_type": "code",
   "execution_count": 29,
   "metadata": {
    "id": "S-aNw-Miw0Y0"
   },
   "outputs": [
    {
     "data": {
      "text/plain": [
       "array([ 0. ,  0.1,  0.2,  0.3,  0.4,  0.5,  0.6,  0.7,  0.8,  0.9,  1. ,\n",
       "        1.1,  1.2,  1.3,  1.4,  1.5,  1.6,  1.7,  1.8,  1.9,  2. ,  2.1,\n",
       "        2.2,  2.3,  2.4,  2.5,  2.6,  2.7,  2.8,  2.9,  3. ,  3.1,  3.2,\n",
       "        3.3,  3.4,  3.5,  3.6,  3.7,  3.8,  3.9,  4. ,  4.1,  4.2,  4.3,\n",
       "        4.4,  4.5,  4.6,  4.7,  4.8,  4.9,  5. ,  5.1,  5.2,  5.3,  5.4,\n",
       "        5.5,  5.6,  5.7,  5.8,  5.9,  6. ,  6.1,  6.2,  6.3,  6.4,  6.5,\n",
       "        6.6,  6.7,  6.8,  6.9,  7. ,  7.1,  7.2,  7.3,  7.4,  7.5,  7.6,\n",
       "        7.7,  7.8,  7.9,  8. ,  8.1,  8.2,  8.3,  8.4,  8.5,  8.6,  8.7,\n",
       "        8.8,  8.9,  9. ,  9.1,  9.2,  9.3,  9.4,  9.5,  9.6,  9.7,  9.8,\n",
       "        9.9, 10. ])"
      ]
     },
     "execution_count": 29,
     "metadata": {},
     "output_type": "execute_result"
    }
   ],
   "source": [
    "#Your code goes here\n",
    "x[:]"
   ]
  },
  {
   "cell_type": "markdown",
   "metadata": {
    "id": "h5iseseK6c_h"
   },
   "source": [
    "## B. Functions\n",
    "<a id='sec_funcs'></a>\n"
   ]
  },
  {
   "cell_type": "markdown",
   "metadata": {
    "id": "Czoqiv9zlXo8"
   },
   "source": [
    "### More Numpy functions\n",
    "<a id='numpy_funcs'></a>\n",
    "\n",
    "The previous section introduces a built-in Python function, `range`, as well as a couple `numpy` module functions, `np.arange` and `np.linspace`, but there are many, many more functions that you'll encounter.\n",
    "Functions are the most fundamental way to process data in Python; they take some inputs, which they may alter, and they (usually) return a result.\n",
    "\n",
    "\\begin{gather}\n",
    "function(input) \\rightarrow output\n",
    "\\end{gather}"
   ]
  },
  {
   "cell_type": "markdown",
   "metadata": {
    "id": "-XqW42C67Y2b"
   },
   "source": [
    "*Instructor:* You can think about functions like some sort of machine. You read the instructions (documentation), it tells you what to put in, what will happen to what you put in, and what you'll get out. You don't necessarily need to know how it works.\n",
    "\n",
    "You can use your toaster at home without knowing exactly how the circuitry works or how to build your own toaster, right? It's like a function! You put in bread, and you know that afterwards, your bread will be warm and toasted."
   ]
  },
  {
   "cell_type": "markdown",
   "metadata": {
    "id": "vncvi9OC8qMb"
   },
   "source": [
    "*Instructor:* Let's import `numpy` and try out their square root function. Run the code below."
   ]
  },
  {
   "cell_type": "code",
   "execution_count": 30,
   "metadata": {
    "colab": {
     "base_uri": "https://localhost:8080/"
    },
    "id": "GXt3Ir2jw0Y2",
    "outputId": "61c045c7-da4c-438f-eb5a-26daa7d7bd6b"
   },
   "outputs": [
    {
     "name": "stdout",
     "output_type": "stream",
     "text": [
      "5.0\n"
     ]
    }
   ],
   "source": [
    "import numpy as np\n",
    "\n",
    "print(np.sqrt(25))"
   ]
  },
  {
   "cell_type": "markdown",
   "metadata": {
    "id": "WEb9yL1O9J4D"
   },
   "source": [
    "*Instructor:* Let's try to use another `numpy` math function. **What's $sin(\\pi/2)$?** Print the result below.\n",
    "\n",
    "You can either try to guess what `numpy` calls this function, or you can Google it.\n",
    "Both of these are valid approaches that we use all the time.\n",
    "\n",
    "Numpy defines some useful variables like `pi` and `e`."
   ]
  },
  {
   "cell_type": "markdown",
   "metadata": {
    "id": "x-7rPD8Y-8n8"
   },
   "source": [
    "### **Exercise:** Numpy trig functions\n",
    "<a id='trig_ex'></a>\n"
   ]
  },
  {
   "cell_type": "markdown",
   "metadata": {
    "id": "30whhvSSlReT"
   },
   "source": [
    "Find a `numpy` function for the mathematical $sin$ function and use it to print the value of $sin(\\pi/2)$.\n",
    "\n",
    "Once you've found $sin$, see if you can find $cos$. *(Hint: try your first guess)*"
   ]
  },
  {
   "cell_type": "code",
   "execution_count": 31,
   "metadata": {
    "colab": {
     "base_uri": "https://localhost:8080/"
    },
    "id": "6teWzbWz84CI",
    "outputId": "2f84e83c-23b2-48ec-934c-3842256af6c3"
   },
   "outputs": [
    {
     "name": "stdout",
     "output_type": "stream",
     "text": [
      "The value of pi is 3.141592653589793 and 2pi is 6.283185307179586\n",
      "1.0\n"
     ]
    }
   ],
   "source": [
    "# the numpy package defines np.pi; it's just the precise value of pi stored as a \"float\". It's a variable you don't have to set yourself!\n",
    "print(\"The value of pi is\", np.pi, \"and 2pi is\", 2*np.pi)\n",
    "\n",
    "#Your code here\n",
    "print(np.sin(np.pi/2))"
   ]
  },
  {
   "cell_type": "markdown",
   "metadata": {
    "id": "oe0eQQo_ILbm"
   },
   "source": [
    "### **Exercise:** Combining Numpy range and trig functions\n",
    "Use one of the `numpy` array-generating functions from the previous section to create an array of values from $0$ to $4\\pi$ in incrememnts of $\\pi/8$. Then evaluate the cosine of all the values in this array.\n",
    "\n",
    "Use the plotting code included in the next cell to see what your array looks like.\n",
    "\n",
    "What's the **frequency** of your cosine? Try to change the frequency in your expression for the cosine array. Re-plot it, did it work?"
   ]
  },
  {
   "cell_type": "code",
   "execution_count": 32,
   "metadata": {
    "id": "7d0sDbqgIKnn"
   },
   "outputs": [],
   "source": [
    "#Your code here\n",
    "# 0 to 4pi in incrememnts of pi/8\n",
    "x = np.arange(0, 4*np.pi, np.pi/8)\n",
    "# cosine of x\n",
    "y = np.cos(2*x)"
   ]
  },
  {
   "cell_type": "code",
   "execution_count": 33,
   "metadata": {
    "id": "tYR10JTSJl0t"
   },
   "outputs": [
    {
     "data": {
      "text/plain": [
       "[<matplotlib.lines.Line2D at 0x7f12c64c13f0>]"
      ]
     },
     "execution_count": 33,
     "metadata": {},
     "output_type": "execute_result"
    },
    {
     "data": {
      "image/png": "[encoded data removed]",
      "text/plain": [
       "<Figure size 432x288 with 1 Axes>"
      ]
     },
     "metadata": {
      "needs_background": "light"
     },
     "output_type": "display_data"
    }
   ],
   "source": [
    "import matplotlib.pyplot as plt\n",
    "%matplotlib inline\n",
    "plt.plot(x, y)"
   ]
  },
  {
   "cell_type": "markdown",
   "metadata": {
    "id": "hovLawfpw0Y2"
   },
   "source": [
    "<a id='built-in'></a>\n",
    "In general, most common mathematical functions like sqrt, log, exp, sin, cos can be found in the numpy module.\n",
    "\n",
    "For more information, the documentation of many **built-in functions** that can be applied to integers and floats (i.e. single numbers), as well as **numpy arrays**, can be found here: https://numpy.org/doc/stable/reference/routines.math.html"
   ]
  },
  {
   "cell_type": "markdown",
   "metadata": {
    "id": "_hodpy14QYZb"
   },
   "source": [
    "When in need of a mathematical function like one of the above, or even a more complicated one (like the \"erf\" function, or \"Riemann zeta function\", if you've ever encountered those), **never** spend time writing it yourself. Nearly every mathematical function one can think of already exists in some well-documented module. Check [numpy](https://numpy.org/doc/stable/reference/) and [scipy](https://docs.scipy.org/doc/scipy/reference/); google search \"numpy `<function name>`\" or \"scipy `<function name>`\" and you should find your desired function.\n",
    "\n",
    "If `numpy` and `scipy` don't have your function, it is likely that someone has posted it on StackExchange or StackOverflow or somewhere.\n",
    "Google search \"python `<function name>`\".\n",
    "\n",
    "Copy+paste from the Internet is a very efficient way to code, and we do it all the time.\n",
    "If you're worried about things like plagiarism, you should paste the link to the webpage where you found the code as a comment in your notebook.\n",
    "Then you've cited your source!"
   ]
  },
  {
   "cell_type": "code",
   "execution_count": 34,
   "metadata": {
    "id": "-w0VmUurS9wc"
   },
   "outputs": [
    {
     "name": "stdout",
     "output_type": "stream",
     "text": [
      "1.0\n",
      "19.999099979189474\n",
      "10\n"
     ]
    }
   ],
   "source": [
    "# More numpy functions\n",
    "print(np.sin(np.pi/2))\n",
    "print(np.exp(np.pi)-np.pi)\n",
    "print(np.sum(np.arange(5))) # 0 + 1 + 2 + 3 + 4 + 5 = ..."
   ]
  },
  {
   "cell_type": "markdown",
   "metadata": {
    "id": "ltvMPy0iw0Y0"
   },
   "source": [
    "### Defining your own functions\n",
    "<a id='user_funcs'></a>\n",
    "\n",
    "\n",
    "Python allows you to define your own functions, too.\n",
    "**User-defined functions** allow you to clean up your code and apply the same set of operations to multiple variables.\n",
    "Organizing your code into functions is also a good way to write code that other people will use."
   ]
  },
  {
   "cell_type": "markdown",
   "metadata": {
    "id": "-XygEu77QFG6"
   },
   "source": [
    "*Instructor:* So far, we have focused on learning **built-in functions** (such as from `numpy` and `matplotlib`), but what about **defining our own**? This allows you to **clean up** your code, and **apply the same set of operations to multiple variables** without having to explicitly write them out every time."
   ]
  },
  {
   "cell_type": "markdown",
   "metadata": {
    "id": "wtGjcQzCw0Y2"
   },
   "source": [
    "<a id='user-def'></a>\n",
    "The outline for a function is:\n",
    "```python\n",
    "def <function name> (<input variables>):\n",
    "    <some code here>\n",
    "    return <output variables>\n",
    "```"
   ]
  },
  {
   "cell_type": "markdown",
   "metadata": {
    "id": "MjPE3UUOQDf6"
   },
   "source": [
    "*Instructor*: As an example, let's say we want to define a function that takes the square root of a number. Let's check to make sure the number is positive first, so that we don't end up with an imaginary answer. "
   ]
  },
  {
   "cell_type": "code",
   "execution_count": 35,
   "metadata": {
    "id": "kVskdO_Tw0Y0",
    "scrolled": true
   },
   "outputs": [],
   "source": [
    "#Defining a square root function\n",
    "def sqrt(x):\n",
    "    if (x < 0):\n",
    "        print(\"Your input is not positive!\")\n",
    "    else: \n",
    "        return x**(0.5)"
   ]
  },
  {
   "cell_type": "markdown",
   "metadata": {
    "id": "eIxS9hXN3Lns"
   },
   "source": [
    "*Instructor:* Try the function on a positive number"
   ]
  },
  {
   "cell_type": "code",
   "execution_count": 36,
   "metadata": {
    "colab": {
     "base_uri": "https://localhost:8080/"
    },
    "id": "bm_N6HMUw0Y1",
    "outputId": "2e0cd300-6f0d-4d27-b404-37ddd845baeb"
   },
   "outputs": [
    {
     "data": {
      "text/plain": [
       "2.0"
      ]
     },
     "execution_count": 36,
     "metadata": {},
     "output_type": "execute_result"
    }
   ],
   "source": [
    "#Your code here\n",
    "sqrt(4)"
   ]
  },
  {
   "cell_type": "markdown",
   "metadata": {
    "id": "RgvWQW4x3X66"
   },
   "source": [
    "*Instructor:* Try it on a negative number"
   ]
  },
  {
   "cell_type": "code",
   "execution_count": 37,
   "metadata": {
    "colab": {
     "base_uri": "https://localhost:8080/"
    },
    "id": "n71GVxEyw0Y2",
    "outputId": "db51a8c3-6fc8-4a50-a95d-85deff614861"
   },
   "outputs": [
    {
     "name": "stdout",
     "output_type": "stream",
     "text": [
      "Your input is not positive!\n"
     ]
    }
   ],
   "source": [
    "#Your code here\n",
    "sqrt(-4)"
   ]
  },
  {
   "cell_type": "markdown",
   "metadata": {
    "id": "PAwy-2QV33qf"
   },
   "source": [
    "*Instructor:* Now let's see how `numpy` deals with negatives!"
   ]
  },
  {
   "cell_type": "code",
   "execution_count": 38,
   "metadata": {
    "colab": {
     "base_uri": "https://localhost:8080/"
    },
    "id": "HcZFFATS4UJ4",
    "outputId": "083a24c6-0ae9-4cbb-eb7f-6e9dc6c4dcba"
   },
   "outputs": [
    {
     "name": "stderr",
     "output_type": "stream",
     "text": [
      "/tmp/ipykernel_5151/507081735.py:2: RuntimeWarning: invalid value encountered in sqrt\n",
      "  np.sqrt(-25)\n"
     ]
    },
    {
     "data": {
      "text/plain": [
       "nan"
      ]
     },
     "execution_count": 38,
     "metadata": {},
     "output_type": "execute_result"
    }
   ],
   "source": [
    "#Your code goes here\n",
    "np.sqrt(-25)"
   ]
  },
  {
   "cell_type": "markdown",
   "metadata": {
    "id": "gfaLd1QRw0Y2"
   },
   "source": [
    "When defining your own functions, you can also use **multiple input variables**.\n"
   ]
  },
  {
   "cell_type": "markdown",
   "metadata": {
    "id": "Juy8q5TgU7cw"
   },
   "source": [
    "*Instructor:* For example, if we want to calculate the **length** of a vector $(x,y)$, we can create a function that takes in the components $x$ and $y$ individually. "
   ]
  },
  {
   "cell_type": "code",
   "execution_count": 39,
   "metadata": {
    "id": "2-iD316Vw0Y2"
   },
   "outputs": [],
   "source": [
    "def length(x, y):\n",
    "    \"\"\"Calculates the length of a 2D vector (x,y) using the Pythagorean theorem.\"\"\"\n",
    "    return np.sqrt(x**2 + y**2)"
   ]
  },
  {
   "cell_type": "markdown",
   "metadata": {
    "id": "ppu66auOw0Y2"
   },
   "source": [
    "*Instructor:* Call this function on the vector (3,4), we should get 5. "
   ]
  },
  {
   "cell_type": "code",
   "execution_count": 40,
   "metadata": {
    "colab": {
     "base_uri": "https://localhost:8080/"
    },
    "id": "LgoHh4Dsw0Y2",
    "outputId": "e6ebfa42-4fd9-4e4f-e3a2-fe9b4aa59261"
   },
   "outputs": [
    {
     "data": {
      "text/plain": [
       "5.0"
      ]
     },
     "execution_count": 40,
     "metadata": {},
     "output_type": "execute_result"
    }
   ],
   "source": [
    "#Your code goes here\n",
    "length(3,4)"
   ]
  },
  {
   "cell_type": "markdown",
   "metadata": {
    "id": "t1NeFU08VOam"
   },
   "source": [
    "<a id='multi-line'></a>\n",
    "A note about that funny looking comment line in that `length` function: it's good Python etiquette to comment the functions you write.\n",
    "Even if you never intend to share your code with anyone else, it is extremely useful to write yourself reminders about what your functions do.\n",
    "You can even include an example (this is pretty common in professional documentation).\n",
    "\n",
    "One common way to document the functions you write is with a \"**multi-line comment**\" immediately following the `def` line.\n",
    "A multi-line comment starts and ends with three double quotation marks."
   ]
  },
  {
   "cell_type": "code",
   "execution_count": 41,
   "metadata": {
    "id": "SODQjd6-WBsO"
   },
   "outputs": [],
   "source": [
    "def my_function(arg):\n",
    "    \"\"\"\n",
    "    This is my function. It's for doing this one important thing.\n",
    "    This function needs one argument, which should be a single number.\n",
    "    The function will return another number.\n",
    "\n",
    "    Example:\n",
    "    >>> my_function(3)\n",
    "    7\n",
    "    \"\"\"\n",
    "    return arg + 4\n"
   ]
  },
  {
   "cell_type": "markdown",
   "metadata": {
    "id": "dtdz1LMBw0Y2"
   },
   "source": [
    "In this lecture, we've learned about numpy arrays, loops, and defining functions. You'll have a chance to test these skills in the following exercises!"
   ]
  },
  {
   "cell_type": "markdown",
   "metadata": {
    "id": "tIhqm1n7w0Y2"
   },
   "source": [
    "## Exercise 2: Define a simple function"
   ]
  },
  {
   "cell_type": "markdown",
   "metadata": {
    "id": "EI0L0UOxk53y"
   },
   "source": [
    "Define a function that prints every even-indexed element of an array."
   ]
  },
  {
   "cell_type": "code",
   "execution_count": 42,
   "metadata": {
    "id": "rdEyywMXw0Y2"
   },
   "outputs": [
    {
     "name": "stdout",
     "output_type": "stream",
     "text": [
      "0\n",
      "2\n",
      "4\n",
      "6\n",
      "8\n",
      "10\n"
     ]
    }
   ],
   "source": [
    "#Your code here\n",
    "def even(array):\n",
    "    i = 0\n",
    "    while i<=len(array):\n",
    "        print(array[i])\n",
    "        i = i+2\n",
    "\n",
    "even([0, 1, 2, 3, 4, 5, 6, 7, 8, 9, 10])"
   ]
  },
  {
   "cell_type": "markdown",
   "metadata": {
    "id": "CuEwq0Uuw0Y2"
   },
   "source": [
    "## Exercise 3a: Path Length Function\n",
    "<a id='ex_pathlen'></a>\n"
   ]
  },
  {
   "cell_type": "markdown",
   "metadata": {
    "id": "0389_ykgw0Y2"
   },
   "source": [
    "For a given set of points, the **pathlength** $L$ from $(x_0,y_0)$ to $(x_n,y_n)$ is given by the following expression,\n",
    "\\begin{gather}\n",
    "L = \\sum_{i = 1}^n \\sqrt{ \\left(x_i - x_{i-1}\\right)^2 + \\left(y_i - y_{i-1} \\right)^2}\n",
    "\\end{gather}\n",
    "\n",
    "What this quantity represents is the sum of the **lengths** between $(x_{i-1},y_{i-1})$ and $(x_i,y_i)$ for $i$ between 1 and $n$.\n",
    "\n",
    "Write a function `pathLength` which computes $L$ given two numpy arrays `x_array` and `y_array` as input variables. You'll need this function later on to work on the challenge problem."
   ]
  },
  {
   "cell_type": "code",
   "execution_count": 43,
   "metadata": {
    "id": "3GGvPGR5w0Y2"
   },
   "outputs": [],
   "source": [
    "def pathLength(x_array,y_array):\n",
    "    #Your code goes here\n",
    "    if len(x_array) != len(y_array):\n",
    "        raise Exception(\"Vectors do not have the same length\")\n",
    "        \n",
    "    n = len(x_array)\n",
    "    i = 1\n",
    "    L = 0\n",
    "    while (i < n):\n",
    "        L = L + length(x_array[i]-x_array[i-1],y_array[i]-y_array[i-1])\n",
    "        i = i+1\n",
    "    return L"
   ]
  },
  {
   "cell_type": "markdown",
   "metadata": {
    "id": "UZVMZkWCw0Y2"
   },
   "source": [
    "Test your function on the example below. Your answer should come out to $4\\sqrt{2} \\approx 5.657$"
   ]
  },
  {
   "cell_type": "code",
   "execution_count": 44,
   "metadata": {
    "colab": {
     "base_uri": "https://localhost:8080/"
    },
    "id": "6asqFL6yw0Y2",
    "outputId": "570e8477-8d14-4430-8202-48adf0df910a"
   },
   "outputs": [
    {
     "data": {
      "text/plain": [
       "5.656854249492381"
      ]
     },
     "execution_count": 44,
     "metadata": {},
     "output_type": "execute_result"
    }
   ],
   "source": [
    "x = np.array([1, 2, 3, 4, 5])\n",
    "y = np.array([1, 2, 3, 4, 5])\n",
    "pathLength(x,y)"
   ]
  },
  {
   "cell_type": "markdown",
   "metadata": {
    "id": "7bnrE7O1aY0d"
   },
   "source": [
    "## Exercise 3b: Fix my path length function\n",
    "\n",
    "The instructors attempted Exercise 2a, but not everything went quite right. Try to de-bug their code!"
   ]
  },
  {
   "cell_type": "markdown",
   "metadata": {
    "id": "HndI2W8Obe_J"
   },
   "source": [
    "*Instructor:* Look, I tried that exercise I just gave you, and it didn't go so well for me.\n",
    "See if you can figure out what's wrong with my function."
   ]
  },
  {
   "cell_type": "code",
   "execution_count": 45,
   "metadata": {
    "id": "ke5C5vTRRTzm"
   },
   "outputs": [
    {
     "ename": "TypeError",
     "evalue": "pathLength() missing 1 required positional argument: 'z_array'",
     "output_type": "error",
     "traceback": [
      "\u001b[0;31m---------------------------------------------------------------------------\u001b[0m",
      "\u001b[0;31mTypeError\u001b[0m                                 Traceback (most recent call last)",
      "\u001b[0;32m/tmp/ipykernel_5151/3515918924.py\u001b[0m in \u001b[0;36m<module>\u001b[0;34m\u001b[0m\n\u001b[1;32m     21\u001b[0m \u001b[0mx\u001b[0m \u001b[0;34m=\u001b[0m \u001b[0mnp\u001b[0m\u001b[0;34m.\u001b[0m\u001b[0marray\u001b[0m\u001b[0;34m(\u001b[0m\u001b[0;34m[\u001b[0m\u001b[0;36m1\u001b[0m\u001b[0;34m,\u001b[0m \u001b[0;36m2\u001b[0m\u001b[0;34m,\u001b[0m \u001b[0;36m3\u001b[0m\u001b[0;34m,\u001b[0m \u001b[0;36m4\u001b[0m\u001b[0;34m,\u001b[0m \u001b[0;36m5\u001b[0m\u001b[0;34m]\u001b[0m\u001b[0;34m)\u001b[0m\u001b[0;34m\u001b[0m\u001b[0;34m\u001b[0m\u001b[0m\n\u001b[1;32m     22\u001b[0m \u001b[0my\u001b[0m \u001b[0;34m=\u001b[0m \u001b[0mnp\u001b[0m\u001b[0;34m.\u001b[0m\u001b[0marray\u001b[0m\u001b[0;34m(\u001b[0m\u001b[0;34m[\u001b[0m\u001b[0;36m1\u001b[0m\u001b[0;34m,\u001b[0m \u001b[0;36m2\u001b[0m\u001b[0;34m,\u001b[0m \u001b[0;36m3\u001b[0m\u001b[0;34m,\u001b[0m \u001b[0;36m4\u001b[0m\u001b[0;34m,\u001b[0m \u001b[0;36m5\u001b[0m\u001b[0;34m]\u001b[0m\u001b[0;34m)\u001b[0m\u001b[0;34m\u001b[0m\u001b[0;34m\u001b[0m\u001b[0m\n\u001b[0;32m---> 23\u001b[0;31m \u001b[0mpathLength\u001b[0m\u001b[0;34m(\u001b[0m\u001b[0mx\u001b[0m\u001b[0;34m,\u001b[0m\u001b[0my\u001b[0m\u001b[0;34m)\u001b[0m \u001b[0;31m# Should print approximately 5.657\u001b[0m\u001b[0;34m\u001b[0m\u001b[0;34m\u001b[0m\u001b[0m\n\u001b[0m",
      "\u001b[0;31mTypeError\u001b[0m: pathLength() missing 1 required positional argument: 'z_array'"
     ]
    }
   ],
   "source": [
    "# Version as broken code\n",
    "def pathLength(x_array, y_array, z_array): # too many arguments\n",
    "    \"\"\"\n",
    "    This function returns the path length given the x and y arrays\n",
    "    It will print out a single number\n",
    "\n",
    "    It doesn't work right now...\n",
    "    \"\"\"\n",
    "    if len(x_array) == len(y_array): # should be !=\n",
    "        raise Exception(\"Vectors do not have the same length\")\n",
    "        \n",
    "    n = len(x_array)\n",
    "    i = 1\n",
    "    L = 0\n",
    "    while (i < n):\n",
    "        L = L + length(x_array[i] - x_array[i-1], y_array[i] - y_array[i-1])\n",
    "        # needs increment condition i = i + 1\n",
    "    return L\n",
    "\n",
    "# Test case\n",
    "x = np.array([1, 2, 3, 4, 5])\n",
    "y = np.array([1, 2, 3, 4, 5])\n",
    "pathLength(x,y) # Should print approximately 5.657"
   ]
  },
  {
   "cell_type": "markdown",
   "metadata": {
    "id": "EnJRTohkZ5v5"
   },
   "source": [
    "There are always multiple valid ways to write a function. There are no wrong answers as long as the code works as intended.\n",
    "\n",
    "Here's that same function written using Numpy functions and advanced indexing.\n"
   ]
  },
  {
   "cell_type": "markdown",
   "metadata": {
    "id": "fKiQhHUacik8"
   },
   "source": [
    "*Instructor:* Try running this cell. Same answer, right?"
   ]
  },
  {
   "cell_type": "code",
   "execution_count": null,
   "metadata": {
    "id": "RmmstDjGcaDT"
   },
   "outputs": [],
   "source": [
    "import numpy as np\n",
    "\n",
    "def pathLength(x_array, y_array):\n",
    "    return np.sum(np.sqrt( (x_array[1:] - x_array[:-1])**2 + (y_array[1:] - y_array[:-1])**2 ))\n",
    "\n",
    "# Test case\n",
    "x = np.array([1, 2, 3, 4, 5])\n",
    "y = np.array([1, 2, 3, 4, 5])\n",
    "pathLength(x,y) # Should print approximately 5.657"
   ]
  },
  {
   "cell_type": "markdown",
   "metadata": {
    "id": "EogHQ8RRcwmb"
   },
   "source": [
    "*Instructor:* Play around in the code block above and see if you can figure out what those `[:-1]` indexes do.\n",
    "\n",
    "What are some benefits and drawbacks of writing a function like the one in the code block above?"
   ]
  },
  {
   "cell_type": "markdown",
   "metadata": {
    "id": "767Nt0y1w0Y2"
   },
   "source": [
    "## C. Loading And Saving Data Arrays\n",
    "<a id='load_save'></a>\n",
    "\n",
    "\n",
    "Up to now, the data that you have handled has been self-defined: you have constructed an array and fill that array with values that you operate on all in the same code. Often, in scientific programming, this is not the case. One program or piece of equipment creates and stores data, while another loads, operates on, and analyzes it. Thus it is essential to learn the ways that one can **load** and **save** data in python."
   ]
  },
  {
   "cell_type": "markdown",
   "metadata": {
    "id": "cq65M5hHWIKZ"
   },
   "source": [
    "*Instructor*: \n",
    "While there are many ways to import data, and some which are a bit complicated at times, we're going to teach you the most basic, most general, and most useful ways.\n",
    "\n",
    "First, if you haven't already, import the matplotlib module."
   ]
  },
  {
   "cell_type": "code",
   "execution_count": null,
   "metadata": {
    "id": "nMYSvCfew0Y2"
   },
   "outputs": [],
   "source": [
    "import numpy as np\n",
    "#%matplotlib nbagg\n",
    "import matplotlib.pyplot as plt\n"
   ]
  },
  {
   "cell_type": "markdown",
   "metadata": {
    "id": "-DF0c0QEWlgQ"
   },
   "source": [
    "<a id='loadtxt'></a>\n",
    "The simplest way to **load data from a plain-text file** with numpy is using [`numpy.loadtext`](https://numpy.org/doc/stable/reference/generated/numpy.loadtxt.html). At its simplest, the usage is:\n",
    "* data_array_name = `np.loadtxt('path_to_file')`\n",
    "\n",
    "  (Note that the path should be listed as a string!)\n",
    "  \n",
    "From the documentation page, it seems there a lot of **optional arguments** that let you specify more precisely how you want to read the data, but at its most basic, the function will work the way we have shown above."
   ]
  },
  {
   "cell_type": "markdown",
   "metadata": {
    "id": "Rj8jFuhxX5y9"
   },
   "source": [
    "*Instructor*: Now that we have brought it up, let's talk briefly about how to specify the **path** to a file in python (or in general on a terminal)."
   ]
  },
  {
   "cell_type": "markdown",
   "metadata": {
    "id": "Q4oRvVC6YEoB"
   },
   "source": [
    "<a id='path'></a>\n",
    "A file's **path** is its specific location in the file structure of your computer. This is most often defined relative to your current place in the file structure. To specify the folder you are currently working in (your **current working directory**), use a single period followed by a forward slash. To specify a subfolder or file within a folder use the name of the subfolder or file, always following a folder name with a forward slash.\n",
    "\n",
    "* `./` = Path to the current folder that you are working in.\n",
    "* `./subfolder1/` = Path to a folder that exists inside of your current folder, named \"subfolder1\"\n",
    "* `./subfolder1/myfile` = Path to a file that exists inside of a folder that exists inside of your current folder\n",
    "* `../` = Path to the folder that contains the folder you are currently working in\n",
    "\n",
    "The above works as written for Linux and Mac systems. Windows systems are a little different, which you can [read more about](https://www.howtogeek.com/137096/6-ways-the-linux-file-system-is-different-from-the-windows-file-system/) if you'd like, but the general directory structure lessons remain the same."
   ]
  },
  {
   "cell_type": "markdown",
   "metadata": {
    "id": "uXjvVXEBw0Y2"
   },
   "source": [
    "*Instructor*: Now then, let's say we are doing a timing experiment, where we look at the brightness of an object as a function of time. This is actually a very common type of measurement that you may do in research, such as looking for dips in the brightness of stars as a way to detect planets."
   ]
  },
  {
   "cell_type": "markdown",
   "metadata": {
    "id": "7a0cchEPao52"
   },
   "source": [
    "Our data file is stored in a text file named `timeseries_data.txt` in the directory `lecture2_data`, which exists as a subfolder of the one we are currently working in."
   ]
  },
  {
   "cell_type": "markdown",
   "metadata": {
    "id": "t9DDAu8Ma1wV"
   },
   "source": [
    "*Instructor*: Let's load in the data together. **Who wants to try to specify a part of the path to our data file?** (Try to get at least 2 people to specify part of the path)"
   ]
  },
  {
   "cell_type": "code",
   "execution_count": null,
   "metadata": {
    "id": "o_htwjeiw0Y3"
   },
   "outputs": [],
   "source": [
    "path = \"Your_Path_Here\"\n",
    "timeseriesData = np.loadtxt(path)\n",
    "###Solution\n",
    "path = \"./lecture2_data/timeseries_data.txt\"\n",
    "timeseriesData = np.loadtxt(path)"
   ]
  },
  {
   "cell_type": "markdown",
   "metadata": {
    "id": "5Odeaaabw0Y3"
   },
   "source": [
    "<a id='shape'></a>\n",
    "One handy thing you can do after loading data into a numpy array is to use Python to find the dimensions of the array. This is done by using the [``array.shape``](https://numpy.org/doc/stable/reference/generated/numpy.ndarray.shape.html) method like so."
   ]
  },
  {
   "cell_type": "code",
   "execution_count": null,
   "metadata": {
    "id": "1pj6SE2Jw0Y3"
   },
   "outputs": [],
   "source": [
    "timeseriesData.shape"
   ]
  },
  {
   "cell_type": "markdown",
   "metadata": {
    "id": "1DrzS7nFw0Y3"
   },
   "source": [
    "*Instructor*: Looking at the output from the above cell, **how many rows and how many columns does our time series data have?** (answer: 2 rows, 1000 columns)"
   ]
  },
  {
   "cell_type": "markdown",
   "metadata": {
    "id": "zm91VoAipJAZ"
   },
   "source": [
    "This is an example of a **2-dimensional array**, also known as a **matrix**. \n",
    "\n",
    "The first row of `timeseriesData` gives the time stamp of when each measurement was taken, while the second row gives the measured value of the brightness at that time."
   ]
  },
  {
   "cell_type": "markdown",
   "metadata": {
    "id": "QrPLgWRJpMqZ"
   },
   "source": [
    "*Instructor*: For ease of handling this data, we can take each of these rows and create new arrays out of them.  Let's do just that.\n",
    "\n",
    "Since `timeseriesData` is 2-dimensional, each element has two indices. "
   ]
  },
  {
   "cell_type": "code",
   "execution_count": null,
   "metadata": {
    "id": "bDRJP-8Bw0Y3"
   },
   "outputs": [],
   "source": [
    "t = timeseriesData[0,:] # this represents the time\n",
    "signal = timeseriesData[1,:] # this represents the brightness"
   ]
  },
  {
   "cell_type": "markdown",
   "metadata": {
    "id": "ZaGWIsaEw0Y3"
   },
   "source": [
    "<a id='matrix'></a>\n",
    "By convention, we first specify the row index followed by the column index.\n",
    "- `array_name[n,:]` is the n-th row, and all columns within that row.\n",
    "- `array_name[:,n]` is the n-th column, and all rows within that particular column."
   ]
  },
  {
   "cell_type": "markdown",
   "metadata": {
    "id": "tXIyyJvu5DK7"
   },
   "source": [
    "*Instructor*: **Let's see what the data looks like** using the `plot()` function with `t` as your x-axis and `signal` as your y-axis."
   ]
  },
  {
   "cell_type": "markdown",
   "metadata": {
    "id": "fmIFWLgg5X_7"
   },
   "source": [
    "### **Exercise**: Plotting time-series data\n",
    "<a id='ex_timeseries'></a>\n",
    "\n",
    "\n",
    "Plot the loaded data with time on the x-axis and the signal on the y-axis\n"
   ]
  },
  {
   "cell_type": "code",
   "execution_count": null,
   "metadata": {
    "id": "KUDst6VFw0Y3",
    "scrolled": false
   },
   "outputs": [],
   "source": [
    "#Your code goes here\n",
    "plt.plot(t,signal)"
   ]
  },
  {
   "cell_type": "markdown",
   "metadata": {
    "id": "tEdxVclfw0Y3"
   },
   "source": [
    "*Instructor*: Looking at our data, you see clear spikes that jump well above most of the signal. (I've added this to the data to represent outliers that may sometimes appear when you're messing with raw data, and those must be dealt with). In astronomy, you sometimes have relativistic charged particles, not from your source, that hit the detector known as cosmic rays, and we often have to remove these."
   ]
  },
  {
   "cell_type": "markdown",
   "metadata": {
    "id": "3ISm-jzMqivX"
   },
   "source": [
    "<a id='conditional'></a>\n",
    "In order to choose only the parts of an array that meet some criteria, you can use **conditional indexing** in place of normal indices. This involves taking a **conditional statement** (more on those later) and testing whether it evaluates to True on each element in the array.\n",
    "\n",
    "This gives an array of Booleans, which you can use as **logical indices** to select *only* the entries for which the logical statement is `True`. "
   ]
  },
  {
   "cell_type": "markdown",
   "metadata": {
    "id": "ZGLZyH2pqu8Z"
   },
   "source": [
    "*Instructor*: There are some very complex codes that handle cosmic rays, but for our purposes (keeping it easy), we're going to just set a hard cut off of, let's say 15. **Let's do that together in the example below.** (walk them through the example)"
   ]
  },
  {
   "cell_type": "code",
   "execution_count": null,
   "metadata": {
    "id": "jzNV6wMkw0Y3"
   },
   "outputs": [],
   "source": [
    "cutOff = # Cutoff Value Here #\n",
    "signalFix = signal[signal < cutOff]\n",
    "### Solution ###\n",
    "cutOff = 15.\n",
    "signalFix = signal[signal < cutOff]"
   ]
  },
  {
   "cell_type": "markdown",
   "metadata": {
    "id": "sekGg0i-w0Y3"
   },
   "source": [
    "*Instructor* In this case, the **conditional statement** that we have used is `signal < cutOff`. \n",
    "\n",
    "**Conditional indexing** keeps the data that the programmer deems \"good\" by their specified criteria.\n",
    "\n",
    "*Instructor:* Print out the `signal < cutoff` array to see exactly what it is you're using as an index. Then play around with the statement, change `<` to `>`. Before you print that out, how do you think the array and its values will change? (e.g. will the array change shape, what will happen to the values?)"
   ]
  },
  {
   "cell_type": "code",
   "execution_count": null,
   "metadata": {
    "id": "-3a2m5KDg9n5"
   },
   "outputs": [],
   "source": [
    "print(signal < cutOff)"
   ]
  },
  {
   "cell_type": "markdown",
   "metadata": {
    "id": "uZRmGyDGsAur"
   },
   "source": [
    "*Instructor*: We can also do the same for the corresponding time stamps, since `t` and `signal` have the same length. **What conditional statement should we use so that we get the values for `t` that correspond to the values we kept in `signal`?**"
   ]
  },
  {
   "cell_type": "code",
   "execution_count": null,
   "metadata": {
    "id": "KuR331hVw0Y3"
   },
   "outputs": [],
   "source": [
    "tFix = t[# Conditional Statement Here #]\n",
    "### Solution ###\n",
    "tFix = t[signal < cutOff]"
   ]
  },
  {
   "cell_type": "markdown",
   "metadata": {
    "id": "ag6q8lRjw0Y3"
   },
   "source": [
    "### **Exercise**: Plotting filtered data"
   ]
  },
  {
   "cell_type": "markdown",
   "metadata": {
    "id": "Ehx5MFNPmCHe"
   },
   "source": [
    "Try to plot the \"fixed\" data!"
   ]
  },
  {
   "cell_type": "code",
   "execution_count": null,
   "metadata": {
    "id": "IgMJ7Dnpw0Y3",
    "scrolled": true
   },
   "outputs": [],
   "source": [
    "#Your code goes here\n",
    "plt.plot(tFix,signalFix)\n",
    "plt.show()"
   ]
  },
  {
   "cell_type": "markdown",
   "metadata": {
    "id": "iqy539-9w0Y3"
   },
   "source": [
    "*Instructor*: Now that you have your data all cleaned up, it would be nice if we could save it for later and not have to go through the process of cleaning it up every time.  Fear not!  Python has you covered."
   ]
  },
  {
   "cell_type": "markdown",
   "metadata": {
    "id": "_Cx5ha6cuo4m"
   },
   "source": [
    "First, package your two cleaned up arrays into one again. This can be done simply with the `np.array()` function."
   ]
  },
  {
   "cell_type": "code",
   "execution_count": null,
   "metadata": {
    "id": "vhd19_gww0Y3"
   },
   "outputs": [],
   "source": [
    "dataFix = np.array([tFix,signalFix]) "
   ]
  },
  {
   "cell_type": "markdown",
   "metadata": {
    "id": "4COwODKvw0Y3"
   },
   "source": [
    "<a id='save'></a>\n",
    "Here we cover two main ways to **save data files** for use again later, one that is Python-specific, and the other a simple text format.\n",
    "\n",
    "* [`np.save('file_path', array_name)`](https://numpy.org/doc/stable/reference/generated/numpy.save.html) - Creates a `.npy` file (Python readable only!)\n",
    "* [`np.savetxt('file_path', array_name)`](https://numpy.org/doc/stable/reference/generated/numpy.savetxt.html#numpy.savetxt) - Creates a `plain text` (or `.txt`) file (more generally readable)\n",
    "\n",
    "The basic syntax is pretty much the same for each. What differs is the type of file that the functions create. Below is an example of how each function can be called to store the same data."
   ]
  },
  {
   "cell_type": "code",
   "execution_count": null,
   "metadata": {
    "id": "IzbBliDow0Y4"
   },
   "outputs": [],
   "source": [
    "np.save('./lecture2_data/dataFix.npy',dataFix)\n",
    "np.savetxt('./lecture2_data/dataFix.txt',dataFix)"
   ]
  },
  {
   "cell_type": "markdown",
   "metadata": {
    "id": "PYcGereew0Y4"
   },
   "source": [
    "After saving a data file, you can load it up again using `np.loadtxt()` and `np.load()` for .txt and .npy files respectively. "
   ]
  },
  {
   "cell_type": "markdown",
   "metadata": {
    "id": "AahG9rN-wrUv"
   },
   "source": [
    "*Instructor*: We used `np.loadtxt()` above, and `np.load` works the same way. So, let's load in the .npy file and see if our data was saved correctly."
   ]
  },
  {
   "cell_type": "code",
   "execution_count": null,
   "metadata": {
    "id": "J42ZKCXYw0Y4"
   },
   "outputs": [],
   "source": [
    "data = np.load('./lecture2_data/dataFix.npy')\n",
    "t = data[0,:]\n",
    "signal = data[1,:]\n",
    "plt.plot(t,signal)\n",
    "plt.show()"
   ]
  },
  {
   "cell_type": "markdown",
   "metadata": {
    "id": "o_XowDBKw0Y4"
   },
   "source": [
    "### **Exercise**: Load data from a .txt file"
   ]
  },
  {
   "cell_type": "markdown",
   "metadata": {
    "id": "2QWbVpZWnef-"
   },
   "source": [
    "See if you can do the same thing, but with the .txt file that we saved."
   ]
  },
  {
   "cell_type": "code",
   "execution_count": null,
   "metadata": {
    "id": "Jqh-N9ATw0Y4"
   },
   "outputs": [],
   "source": [
    "#Your code goes here\n",
    "data = np.loadtxt('./lecture2_data/dataFix.txt')\n",
    "t = data[0,:]\n",
    "signal = data[1,:]\n",
    "plt.plot(t,signal)\n",
    "plt.show()"
   ]
  },
  {
   "cell_type": "markdown",
   "metadata": {
    "id": "CAsYNg89w0Y4"
   },
   "source": [
    "## D. Loading data files automatically\n",
    "<a id='sec_load'></a>\n",
    "\n",
    "\n",
    "We can combine what we learned about loops to make our data workflow more efficient. Suppose we have a set of data saved in separate text files that we would like to load automatically. For our example, in `./lecture2_data/` you will find files `c1.dat`, `c2.dat`, `c3.dat`, `c4.dat`, `c5.dat`, `c6.dat`. \n",
    "\n",
    "Rather than loading each of these files individually, you can use a for (or while) loop, constructing a string at each iteration corresponding to each of these files. \n",
    "\n",
    "In Python you can use `+` to concatenate strings together, as shown below:"
   ]
  },
  {
   "cell_type": "markdown",
   "metadata": {
    "id": "xkDshAegq30g"
   },
   "source": [
    "*Instructor:* Run the cells below to see what they print out."
   ]
  },
  {
   "cell_type": "code",
   "execution_count": null,
   "metadata": {
    "colab": {
     "base_uri": "https://localhost:8080/"
    },
    "id": "IjLT3d3pw0Y4",
    "outputId": "24cbda0d-b5c9-4352-9725-ce2654a69d98"
   },
   "outputs": [],
   "source": [
    "first_string = 'a'\n",
    "second_string = 'b'\n",
    "print(first_string + second_string)"
   ]
  },
  {
   "cell_type": "markdown",
   "metadata": {
    "id": "66f_I_eqw0Y4"
   },
   "source": [
    "You can also cast an integer to a string using the `str` command."
   ]
  },
  {
   "cell_type": "code",
   "execution_count": null,
   "metadata": {
    "colab": {
     "base_uri": "https://localhost:8080/"
    },
    "id": "kH5gRHrsw0Y4",
    "outputId": "d153a8c7-9a07-4425-b95b-a2b6c7f44569"
   },
   "outputs": [],
   "source": [
    "first_string = 'a'\n",
    "second_string = str(1)\n",
    "print(first_string + second_string)"
   ]
  },
  {
   "cell_type": "markdown",
   "metadata": {
    "id": "SZXsbcBgw0Y4"
   },
   "source": [
    "## Exercise 4: Load multiple files\n",
    "<a id='exercise_load'></a>\n",
    "\n",
    "Your goal in this task is to write some code to load in this set of 6 `.dat` files as numpy arrays. \n",
    "\n",
    "We will define an empty list (call it `datalist`) that will store the data. \n"
   ]
  },
  {
   "cell_type": "code",
   "execution_count": null,
   "metadata": {
    "id": "LlMoNMW6w0Y4"
   },
   "outputs": [],
   "source": [
    "datalist = []"
   ]
  },
  {
   "cell_type": "markdown",
   "metadata": {
    "id": "0X_FcYMxw0Y4"
   },
   "source": [
    "This is an odd idea, defining a list variable without any elements, so instead think of it as a basket without anything inside of it yet. We will use the `append()` class function to fill it.\n",
    "\n",
    "Next, we call `np.loadtxt` on a single `.dat` file and add it to `datalist` using the command\n",
    "\n",
    "> `datalist.append(loadedFile)`\n",
    "\n",
    "where `loadedFile` is the variable we've assigned the file to after loading it in. "
   ]
  },
  {
   "cell_type": "code",
   "execution_count": null,
   "metadata": {
    "colab": {
     "base_uri": "https://localhost:8080/",
     "height": 185
    },
    "id": "VqizsSJRw0Y4",
    "outputId": "63fe61f0-9db0-4084-e879-3152a58820de"
   },
   "outputs": [],
   "source": [
    "loadedFile = np.loadtxt('./lecture2_data/c1.dat')\n",
    "datalist.append(loadedFile)"
   ]
  },
  {
   "cell_type": "markdown",
   "metadata": {
    "id": "nsxshJMjw0Y4"
   },
   "source": [
    "*Instructor:* Now it's your turn. Can you figure out how to load the rest of the data files into `datalist` automatically?"
   ]
  },
  {
   "cell_type": "markdown",
   "metadata": {
    "id": "1KjzZuYZrTnr"
   },
   "source": [
    "In the cell below, use a loop of some kind to load the rest of the files and add them to `datalist`.\n",
    "\n",
    "Hint: The names of the remaining files are are `c2.dat`, `c3.dat`, `c4.dat`, `c5.dat`, and `c6.dat`. What is the only thing that changes among these names? Can you think of a way to generate this part separately and combine it with the rest of the string?"
   ]
  },
  {
   "cell_type": "code",
   "execution_count": null,
   "metadata": {
    "id": "GneoyTUhw0Y4"
   },
   "outputs": [],
   "source": [
    "# Your code here\n",
    "i = 2\n",
    "while i <= 6:\n",
    "    datalist.append(np.loadtxt('./lecture2_data/c' + str(i) + '.dat'))\n",
    "    i = i+1"
   ]
  },
  {
   "cell_type": "markdown",
   "metadata": {
    "id": "40xoidx0w0Y4"
   },
   "source": [
    "This is **just one way** to load and save multiple files; there are lots of different ways, and none of them are right or wrong. Depending on your project and the types of data you will be using, your adviser might teach you different ways to load in your data. Some of us may use the [`glob` module](https://docs.python.org/3/library/glob.html) to accomplish the task above, for example. There are also lots of different file formats besides ASCII (plain human-readable text, such as `.dat` or `.txt`) or Numpy's `.npy`: some of us `pickle` our data, some of us use FITS files more often, and some of us save to `.csv` files. They all have their advantages and disadvantages, and your adviser will tell you why you might use a particular one for your project (and if they don't, you can ask!).\n",
    "\n",
    "So, to summarize, not only can you manipulate arrays, but now you can save them and load them. In a way, those are some of the most important skills in scientific computing. Almost everything you'll be doing requires you know this, and now that you've mastered it, you're well on your way to being an expert in computational physics and astronomy!"
   ]
  },
  {
   "cell_type": "markdown",
   "metadata": {
    "id": "KXecogv19m0z"
   },
   "source": [
    "# **Summary/References**\n",
    "<a id='summary'></a>"
   ]
  },
  {
   "cell_type": "markdown",
   "metadata": {
    "id": "S7LRuY3VCmuy"
   },
   "source": [
    "## Arrays\n",
    "* Create [arrays](#array) from lists using [`np.array(listname)`](https://numpy.org/doc/stable/reference/generated/numpy.ndarray.html)\n",
    "* Create [evenly spaced arrays](#ranges) of numbers using:\n",
    "  * [`np.arange(start, stop, stepsize)`](https://numpy.org/doc/stable/reference/generated/numpy.arange.html)\n",
    "  * [`np.linspace(start, stop, num_points)`](https://numpy.org/doc/stable/reference/generated/numpy.linspace.html)\n",
    "* Create [\"empty\" arrays](#empty) using:\n",
    "  * [`np.zeros(size)`](https://numpy.org/doc/stable/reference/generated/numpy.zeros.html) for an array of all 0\n",
    "  * [`np.ones(size)`](https://numpy.org/doc/stable/reference/generated/numpy.ones.html) for an array of all 1\n",
    "  * [`np.empty(size)`](https://numpy.org/doc/stable/reference/generated/numpy.empty.html) for a quickly generated array of nonspecific values\n",
    "* [Index](#indexing) and [slice](#slicing) your arrays using brackets, colon notation, and [conditional statements](#conditional), e.g.:\n",
    "  * `myarray[0]` for the first (zeroth) element\n",
    "  * `myarray[-1]` for the last element\n",
    "  * `myarray[:]` for the whole array\n",
    "  * `myarray[5:]` for everything after and including the 5th element (element at index 5, thus the 6th value in the array)\n",
    "  * `myarray[:20]` for everything up to but not including the 20th element\n",
    "  * `myarray[myarray > 10]` for all values greater than 10 in your array\n",
    "  * `mymatrix[:, 0]` for all values in the first column of a [matrix](#matrix) (2D array)\n",
    "  * See [here](https://www.google.com/url?q=https://stackoverflow.com/a/4729334&sa=D&ust=1608320322998000&usg=AFQjCNGmI429xTVOP87NgDrSRyL3xRkVgg) for another series of explanations of slicing and indexing lists/arrays in Python!\n",
    "* Determine the [size and shape](#shape) of your array using [`myarray.shape`](https://numpy.org/doc/stable/reference/generated/numpy.ndarray.shape.html)\n"
   ]
  },
  {
   "cell_type": "markdown",
   "metadata": {
    "id": "aYjvNwHN37ZX"
   },
   "source": [
    "## Functions\n",
    "* Use (and find) [built-in](#built-in) numpy functions and variables\n",
    "  * [`np.sin(x)`](https://numpy.org/doc/stable/reference/generated/numpy.sin.html), [`np.cos(x)`](https://numpy.org/doc/stable/reference/generated/numpy.cos.html)\n",
    "  * [`np.exp(x)`](https://numpy.org/doc/stable/reference/generated/numpy.exp.html), [`np.log(x)`](https://numpy.org/doc/stable/reference/generated/numpy.log.html)\n",
    "  * [`np.sqrt(x)`](https://numpy.org/doc/stable/reference/generated/numpy.sqrt.html)\n",
    "  * [`np.pi` (and other constants)](https://numpy.org/doc/stable/reference/constants.html)\n",
    "* [Create](#user-def) functions using the following format:\n",
    "```python\n",
    "def <function name> (input1, input2, ...):\n",
    "    <some code here>\n",
    "    return output1, output2, ...\n",
    "```\n",
    "* Make [multi-line comments](#multi-line) surrounded by `\"\"\"` triple quotes\n",
    "  * See the first answer at [this page](https://stackoverflow.com/questions/7696924/is-there-a-way-to-create-multiline-comments-in-python) for an example."
   ]
  },
  {
   "cell_type": "markdown",
   "metadata": {
    "id": "yRsOgQua4DJT"
   },
   "source": [
    "## Loading & Saving Data\n",
    "* Define a [path to a file](#path) with notation like `\"./subfolder/filename\"`, where `.` means your current directory\n",
    "  * See [this page](https://docs.oracle.com/javase/tutorial/essential/io/path.html) for a brief description of paths (written for java, but still applicable!)\n",
    "  * See the [pathlib](https://docs.python.org/3/library/pathlib.html) module for how it's supposed to be done in Python3, (and [this](https://medium.com/@ageitgey/python-3-quick-tip-the-easy-way-to-deal-with-file-paths-on-windows-mac-and-linux-11a072b58d5f) beginner-friendly article) if you're interested!\n",
    "* [Load data](#loadtxt) from a text file with [`np.loadtxt(FilePath)`](https://numpy.org/doc/stable/reference/generated/numpy.loadtxt.html)\n",
    "* [Save data](#save) to a text file with [`np.savetxt(FilePath, ArrayName)`](https://numpy.org/doc/stable/reference/generated/numpy.savetxt.html)\n",
    "* (And do the same with `.npy` [Python specific files](#save) using [`np.load`](https://numpy.org/doc/stable/reference/generated/numpy.load.html) and [`np.save`](https://numpy.org/doc/stable/reference/generated/numpy.save.html) and the same arguments)\n",
    "  * (AND use things like the [pickle](https://docs.python.org/3/library/pickle.html) and [dill](https://pypi.org/project/dill/) modules, once you want to get *fancy*)\n",
    "   * Also see these usage examples/tutorials for [pickle](https://www.datacamp.com/community/tutorials/pickle-python-tutorial) and [dill](https://stackoverflow.com/questions/42168420/how-to-dill-pickle-to-file), if you're interested\n",
    "* Use lists and loops to load several files with regular naming schemes\n",
    "  * This includes [string concatenation](#sec_load) with the format: `'str1' + 'str2' = 'str1str2'`\n",
    "  * See [exercise in Section D](#exercise_load)"
   ]
  }
 ],
 "metadata": {
  "anaconda-cloud": {},
  "colab": {
   "collapsed_sections": [
    "tIhqm1n7w0Y2",
    "CuEwq0Uuw0Y2"
   ],
   "name": "Lecture2_Instructor.ipynb",
   "provenance": [],
   "toc_visible": true
  },
  "kernelspec": {
   "display_name": "Python 3 (ipykernel)",
   "language": "python",
   "name": "python3"
  },
  "language_info": {
   "codemirror_mode": {
    "name": "ipython",
    "version": 3
   },
   "file_extension": ".py",
   "mimetype": "text/x-python",
   "name": "python",
   "nbconvert_exporter": "python",
   "pygments_lexer": "ipython3",
   "version": "3.10.6"
  }
 },
 "nbformat": 4,
 "nbformat_minor": 1
}
