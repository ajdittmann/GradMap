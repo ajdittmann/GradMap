{
 "cells": [
  {
   "cell_type": "markdown",
   "metadata": {
    "id": "yXi0l2XpclEA"
   },
   "source": [
    "# Contents\n",
    "\n",
    "\n",
    "\n",
    "1.   [**Review**](#Review)\n",
    "\n",
    "2.   [**Intro to Numpy Arrays**](#intro)\n",
    "  \n",
    "      a. Negative Indexing [Exercise](#neg_ex)\n",
    "\n",
    "      b. Ranges [Exercise](#range_ex)\n",
    "\n",
    "      c. Indexing & Slicing [Exercises](#slice_ex)\n",
    "  \n",
    "3. [**Functions in Numpy**](#numpy_funcs)\n",
    "\n",
    "      a. Numpy Trig Function [Exercises](#trig_ex)\n",
    "\n",
    "4. [**User-Defined Functions**](#user_funcs)\n",
    "\n",
    "      a. Path Length Function [Exercises](#ex_pathlen)\n",
    "\n",
    "5. [**Loading and Saving Numpy Arrays**](#load_save)\n",
    "\n",
    "      a. Time-Series Data [Exercises](#ex_timeseries)\n",
    "\n",
    "6. [**Loading Data \"Automatically\"**](#sec_load)\n",
    "\n",
    "7. [**Summary and Further Resources!**](#summary)"
   ]
  },
  {
   "cell_type": "markdown",
   "metadata": {
    "id": "wlxE9uISw0Yv"
   },
   "source": [
    "## Review from the previous lecture\n",
    "<a id='Review'></a>\n",
    "\n",
    "\n",
    "The previous lecture covered basic mathematical operations, variables, and lists. Last lecture also introduced you to conditional statements, loops, and basic plotting using matplotlib. Before moving forward, here is a quick review."
   ]
  },
  {
   "cell_type": "code",
   "execution_count": 1,
   "metadata": {
    "id": "gODpUW41w0Yw"
   },
   "outputs": [],
   "source": [
    "ourList = [0, 1, 2, 3, 4, 5, 6, 7, 8, 9]"
   ]
  },
  {
   "cell_type": "markdown",
   "metadata": {
    "id": "tyj8M4Tbw0Yw"
   },
   "source": [
    " **Loops** with **dummy variables** are useful to iterate over lists and perform operations on each element."
   ]
  },
  {
   "cell_type": "code",
   "execution_count": 2,
   "metadata": {
    "id": "hTYBYH_Ww0Yw"
   },
   "outputs": [
    {
     "name": "stdout",
     "output_type": "stream",
     "text": [
      "0\n",
      "10\n",
      "20\n",
      "30\n",
      "40\n",
      "50\n",
      "60\n",
      "70\n",
      "80\n",
      "90\n"
     ]
    }
   ],
   "source": [
    "i = 0\n",
    "while i < len(ourList):\n",
    "    num = ourList[i] * 10\n",
    "    print(num)\n",
    "    i = i+1"
   ]
  },
  {
   "cell_type": "markdown",
   "metadata": {
    "id": "T12P3qJ7w0Yw"
   },
   "source": [
    "Conditional statements like **if** and **else** are used to implement more complex logic."
   ]
  },
  {
   "cell_type": "code",
   "execution_count": 3,
   "metadata": {
    "id": "Odjh-Z-Sw0Yw"
   },
   "outputs": [
    {
     "name": "stdout",
     "output_type": "stream",
     "text": [
      "0\n",
      "1\n",
      "2\n",
      "3\n",
      "4\n",
      "I only print numbers less than 5!\n",
      "I only print numbers less than 5!\n",
      "I only print numbers less than 5!\n",
      "I only print numbers less than 5!\n",
      "I only print numbers less than 5!\n"
     ]
    }
   ],
   "source": [
    "i = 0\n",
    "while i < len(ourList):\n",
    "    num = ourList[i]\n",
    "    if num < 5:\n",
    "        print(num)\n",
    "    else:\n",
    "        print(\"I only print numbers less than 5!\")\n",
    "    i = i+1"
   ]
  },
  {
   "cell_type": "markdown",
   "metadata": {
    "id": "yCyvx4yWMGKT"
   },
   "source": [
    "The other kind of loop that you might encounter more often while working in Python is the `for` loop. A for-loop has the dummy variable \"built in,\" in a sense."
   ]
  },
  {
   "cell_type": "code",
   "execution_count": 4,
   "metadata": {
    "id": "-YjZ_Rn7MZF-"
   },
   "outputs": [
    {
     "name": "stdout",
     "output_type": "stream",
     "text": [
      "0\n",
      "1\n",
      "2\n",
      "3\n",
      "4\n",
      "5\n",
      "6\n",
      "7\n",
      "8\n",
      "9\n"
     ]
    }
   ],
   "source": [
    "for num in ourList:\n",
    "    print(num)"
   ]
  },
  {
   "cell_type": "markdown",
   "metadata": {
    "id": "oKUpRTFXMv1N"
   },
   "source": [
    "The `range` function can be iterated over to produce a regular sequence of numbers."
   ]
  },
  {
   "cell_type": "markdown",
   "metadata": {
    "id": "gJkQuou8M5x9"
   },
   "source": [
    "`range` can be used as `range(end_)`, or as `range(start_, end_)`, or as `range(start_, end_, step_)`. Here's the [official documentation](https://docs.python.org/3/library/functions.html#func-range) as well as an [easier-to-read explainer webpage](https://www.w3schools.com/python/ref_func_range.asp)."
   ]
  },
  {
   "cell_type": "code",
   "execution_count": 5,
   "metadata": {
    "id": "r0-kbZDTM1qL"
   },
   "outputs": [
    {
     "name": "stdout",
     "output_type": "stream",
     "text": [
      "0\n",
      "1\n",
      "2\n",
      "3\n",
      "4\n",
      "5\n",
      "6\n",
      "7\n",
      "8\n",
      "9\n"
     ]
    }
   ],
   "source": [
    "for num in range(10):\n",
    "    print(num)"
   ]
  },
  {
   "cell_type": "markdown",
   "metadata": {
    "id": "qQtT2SSTYmv6"
   },
   "source": [
    "Now try it yourself!"
   ]
  },
  {
   "cell_type": "markdown",
   "metadata": {},
   "source": [
    "Try using a for-loop and the range function to print even numbers between 10 and 20 (you don't have to include 20)."
   ]
  },
  {
   "cell_type": "code",
   "execution_count": 6,
   "metadata": {
    "id": "uWR9e5CnNTPU"
   },
   "outputs": [],
   "source": [
    "#Your code goes here"
   ]
  },
  {
   "cell_type": "markdown",
   "metadata": {
    "id": "y7scwvhLw0Yw"
   },
   "source": [
    "Finally, recall that the **matplotlib** module can be used to plot data.\n",
    "\n",
    "First, import the module - this is always the first step whenever you're using a python module, but it's easy to forget! Then, we use a magic command that makes the figure appear within the cell."
   ]
  },
  {
   "cell_type": "code",
   "execution_count": 7,
   "metadata": {
    "id": "nyQHClgow0Yw"
   },
   "outputs": [
    {
     "data": {
      "image/png": "[encoded data removed]",
      "text/plain": [
       "<Figure size 432x288 with 1 Axes>"
      ]
     },
     "metadata": {
      "needs_background": "light"
     },
     "output_type": "display_data"
    }
   ],
   "source": [
    "import matplotlib.pyplot as plt  #importing module into python and naming it plt\n",
    "%matplotlib inline \n",
    "\n",
    "squareList = [0, 1, 4, 9, 16, 25, 36, 49, 64, 81]\n",
    "\n",
    "plt.plot(ourList,squareList)\n",
    "plt.show()"
   ]
  },
  {
   "cell_type": "markdown",
   "metadata": {
    "id": "Q82yTzDTw0Yx"
   },
   "source": [
    "# Lecture 2 - NumPy, Functions, and Data\n",
    "\n",
    "Today, we will learn about NumPy, learn how to define our own functions, and learn about handling data in Python.\n",
    "\n",
    "1. An introduction to **numpy** and **numpy arrays** and a discussion of their usefulness in solving real problems\n",
    "2. **Functions** and how to define new ones. \n",
    "3. **Reading in data** from text and numpy file formats, along with creating your own outputs to be used later\n",
    "    "
   ]
  },
  {
   "cell_type": "markdown",
   "metadata": {
    "id": "eWoP8Tfuw0Yy"
   },
   "source": [
    "## A. Introduction to Numpy Arrays - Initialization and Advanced Indexing\n",
    "<a id='intro'></a>"
   ]
  },
  {
   "cell_type": "markdown",
   "metadata": {
    "id": "3DR1oDfEw0Yy"
   },
   "source": [
    "The Python `list` is a fast and flexible built-in data type, but because of its flexbility, it is limited in the operations we can perform on it. A popular scientific computing package called `numpy`, short for \"numerical Python\", can help by way of its incredibly powerful object type: the `array`."
   ]
  },
  {
   "cell_type": "code",
   "execution_count": 8,
   "metadata": {
    "id": "DKWCEZRKw0Yy"
   },
   "outputs": [],
   "source": [
    "c = list(range(10))"
   ]
  },
  {
   "cell_type": "markdown",
   "metadata": {
    "id": "6oyPgobScrOM"
   },
   "source": [
    "**POLL** -- Wait for the instructor to open polling before running the next block of code!"
   ]
  },
  {
   "cell_type": "code",
   "execution_count": 9,
   "metadata": {
    "colab": {
     "base_uri": "https://localhost:8080/",
     "height": 190
    },
    "id": "ra9Iga_sw0Yz",
    "outputId": "85a4354a-804b-4215-e810-199d62702069"
   },
   "outputs": [
    {
     "ename": "TypeError",
     "evalue": "unsupported operand type(s) for ** or pow(): 'list' and 'int'",
     "output_type": "error",
     "traceback": [
      "\u001b[0;31m---------------------------------------------------------------------------\u001b[0m",
      "\u001b[0;31mTypeError\u001b[0m                                 Traceback (most recent call last)",
      "\u001b[0;32m/tmp/ipykernel_5914/78922717.py\u001b[0m in \u001b[0;36m<module>\u001b[0;34m\u001b[0m\n\u001b[0;32m----> 1\u001b[0;31m \u001b[0md\u001b[0m \u001b[0;34m=\u001b[0m \u001b[0mc\u001b[0m\u001b[0;34m**\u001b[0m\u001b[0;36m2\u001b[0m\u001b[0;34m\u001b[0m\u001b[0;34m\u001b[0m\u001b[0m\n\u001b[0m\u001b[1;32m      2\u001b[0m \u001b[0mprint\u001b[0m\u001b[0;34m(\u001b[0m\u001b[0md\u001b[0m\u001b[0;34m)\u001b[0m\u001b[0;34m\u001b[0m\u001b[0;34m\u001b[0m\u001b[0m\n",
      "\u001b[0;31mTypeError\u001b[0m: unsupported operand type(s) for ** or pow(): 'list' and 'int'"
     ]
    }
   ],
   "source": [
    "d = c**2\n",
    "print(d)"
   ]
  },
  {
   "cell_type": "markdown",
   "metadata": {
    "id": "KLVB6o30cEKW"
   },
   "source": [
    "First, import the numpy module. We typically abbreviate it as `np`.\n",
    "\n",
    "To convert the list to a numpy array, use `np.array()`.\n",
    "<a id='array'></a>"
   ]
  },
  {
   "cell_type": "code",
   "execution_count": null,
   "metadata": {
    "id": "IX82Khm_w0Yz"
   },
   "outputs": [],
   "source": [
    "# Import the numpy module\n",
    "import numpy as np"
   ]
  },
  {
   "cell_type": "code",
   "execution_count": null,
   "metadata": {
    "id": "u8dlnbV3w0Yz"
   },
   "outputs": [],
   "source": [
    "# convert the list c to an array\n",
    "c = np.array(c)"
   ]
  },
  {
   "cell_type": "markdown",
   "metadata": {
    "id": "iRq_yyTGc_aj"
   },
   "source": [
    "**POLL** -- Wait for the instructor to open polling before running the next block of code!"
   ]
  },
  {
   "cell_type": "code",
   "execution_count": null,
   "metadata": {
    "id": "UFqeZJ-Kw0Yz"
   },
   "outputs": [],
   "source": [
    "d = c**2\n",
    "print(d)"
   ]
  },
  {
   "cell_type": "markdown",
   "metadata": {
    "id": "J8hqYtbYw0Yz"
   },
   "source": [
    "<a id='ranges'></a>\n",
    "There are a few easier ways to create arrays besides creating a list and turning it into a numpy array. These include:\n",
    "* `np.arange(start_,stop_,step_)`\n",
    "* `np.linspace(first_,last_,num_)`\n",
    "\n",
    "(And the accompanying official documentation pages: [numpy.arange](https://numpy.org/doc/stable/reference/generated/numpy.arange.html), [numpy.linspace](https://numpy.org/doc/stable/reference/generated/numpy.linspace.html#numpy.linspace))\n",
    "\n",
    "These create arrays of numbers within a range with a fixed step-size between each consecutive number in the array. You can try these out below.\n",
    "\n",
    "`np.arange(start_,stop_,step_)` works just like the `range` function we introduced at the beginning of this lesson! But instead of the mysterious `range` object type, the numpy function returns a nice, neat numpy array."
   ]
  },
  {
   "cell_type": "code",
   "execution_count": null,
   "metadata": {
    "id": "xDhsW07Fw0Yz"
   },
   "outputs": [],
   "source": [
    "np.arange(0, 10, 1)"
   ]
  },
  {
   "cell_type": "code",
   "execution_count": null,
   "metadata": {
    "id": "_Ooc_Ia5w0Yz"
   },
   "outputs": [],
   "source": [
    "np.linspace(0, 10, 11)"
   ]
  },
  {
   "cell_type": "markdown",
   "metadata": {
    "id": "j62mXK4xw0Yz"
   },
   "source": [
    "<a id='empty'></a>\n",
    "Sometimes it is handy to create an array of all constant values, which can then be replaced later with data. This can be done in several ways by using the following commands (click the sample function name to go to the documentation page):\n",
    "\n",
    "* [`np.zeros(size_)`](https://numpy.org/doc/stable/reference/generated/numpy.zeros.html) To fill the array with zeros\n",
    "* [`np.ones(size_)`](https://numpy.org/doc/stable/reference/generated/numpy.oness.html) To fill the array with ones\n",
    "* [`np.empty(size_)`](https://numpy.org/doc/stable/reference/generated/numpy.empty.html) To fill the array with arbitrary values\n",
    "\n",
    "These create arrays of the given size, filled with zeros, ones, or arbitrary values, depending on your specific needs. Great for initializing an array to store important data in later!"
   ]
  },
  {
   "cell_type": "code",
   "execution_count": null,
   "metadata": {
    "id": "xj08PatOw0Yz"
   },
   "outputs": [],
   "source": [
    "data = np.zeros(10)\n",
    "print(data)"
   ]
  },
  {
   "cell_type": "markdown",
   "metadata": {
    "collapsed": true,
    "id": "h9_sUv6iw0Yz"
   },
   "source": [
    "<a id='indexing'></a>\n",
    "We can also assign new values to elements of existing arrays, using the following \"square bracket\" notation. This is the same as the list indexing we taught you in Lecture #1!\n",
    "> `array_name[index_number] = value` \n",
    "\n",
    "This command will replace whatever value is currently in the position corresponding to ``index_number`` in the array called ``array_name`` with the value stored in ``value``.\n",
    "\n",
    "Recall that arrays are numbered starting from 0, such that\n",
    "\n",
    "* Index of first position = 0\n",
    "* Index of second position = 1\n",
    "* Index of third position = 2\n",
    "* etc.\n"
   ]
  },
  {
   "cell_type": "code",
   "execution_count": null,
   "metadata": {
    "id": "xmMeeKOzw0Yz"
   },
   "outputs": [],
   "source": [
    "data[0] = #\n",
    "print(data[0])"
   ]
  },
  {
   "cell_type": "markdown",
   "metadata": {
    "id": "SFN325_pw0Yz"
   },
   "source": [
    "**Negative indexing** is the same as normal indexing, but backward, in the sense that you start with the last element of the array and count toward the first.  More explicitly, for any array:\n",
    "\n",
    "* array[-1] = last element of array\n",
    "* array[-2] = second to last element of the array\n",
    "* array[-3] = third to last element of the array\n",
    "* etc"
   ]
  },
  {
   "cell_type": "markdown",
   "metadata": {
    "id": "ykJvqGYki-60"
   },
   "source": [
    "### **Exercise**: Negative Indexing\n",
    "<a id='neg_ex'></a>\n"
   ]
  },
  {
   "cell_type": "markdown",
   "metadata": {
    "id": "s83A7lKmkaDu"
   },
   "source": [
    "Create an array with 10 elements using `np.arange()` and print out the last and second-to-last elements using negative indexing!"
   ]
  },
  {
   "cell_type": "code",
   "execution_count": null,
   "metadata": {
    "id": "nHDQLDKpw0Yz"
   },
   "outputs": [],
   "source": [
    "#Your code goes here"
   ]
  },
  {
   "cell_type": "markdown",
   "metadata": {
    "id": "oT7kzVoTw0Yz"
   },
   "source": [
    "Sometimes it's useful to access more than one element of an array. Let's say that we have an array spanning the range [0,10] (including endpoints), with a step size of 0.1. If you recall, this can be done via the `np.linspace()` or `np.arange()` functions."
   ]
  },
  {
   "cell_type": "markdown",
   "metadata": {
    "id": "IhK6eu2bw0Yz"
   },
   "source": [
    "<a id='slicing'></a>\n",
    "In order to get a range of elements in an array, rather than simply a single one, use **array slicing**:\n",
    "\n",
    "* `array_name[start_index:end_index]` To grab all of the values from `start_index` to `end_index - 1`\n",
    "* `array_name[:end_index]` To grab all of the values up to `end_index-1`\n",
    "* `array_name[start_index:]` To grab all of the values from `start_index` and beyond\n",
    "\n",
    "In this notation, \":\" means you want everything between your start and end indices, including the value to the left but excluding the value to the right."
   ]
  },
  {
   "cell_type": "markdown",
   "metadata": {
    "id": "gOG4eEu4l17Z"
   },
   "source": [
    "### **Exercise**: `np.linspace` and `np.arange`\n",
    "<a id='range_ex'></a>\n"
   ]
  },
  {
   "cell_type": "markdown",
   "metadata": {
    "id": "V2Nr0LiHkmVz"
   },
   "source": [
    "Create an array named `x` of values from 0 to 10 (including 10) in steps of 0.1. *(Hint: use `np.arange` or `np.linspace`)*"
   ]
  },
  {
   "cell_type": "code",
   "execution_count": null,
   "metadata": {
    "id": "OPd_0Zffw0Yz",
    "scrolled": true
   },
   "outputs": [],
   "source": [
    "#Your code here"
   ]
  },
  {
   "cell_type": "markdown",
   "metadata": {
    "id": "2kHmtmQ_G8wh"
   },
   "source": [
    "Once you're done above, think about what these slices should print, but don't run them yet! **Wait for the instructor** to ask for answers."
   ]
  },
  {
   "cell_type": "code",
   "execution_count": null,
   "metadata": {
    "id": "46plKnZtw0Yz"
   },
   "outputs": [],
   "source": [
    "x[1:4]\n",
    "\n",
    "x[90:]\n",
    "\n",
    "x[:25]"
   ]
  },
  {
   "cell_type": "markdown",
   "metadata": {
    "id": "2YRR7FmdnZCk"
   },
   "source": [
    "## **Exercise 1**: Indexing and slicing \n",
    "<a id='slice_ex'></a>\n"
   ]
  },
  {
   "cell_type": "markdown",
   "metadata": {
    "id": "Gkn9iwvQw0Yz"
   },
   "source": [
    "\n",
    "So, let's say that you would want everything up to and including the tenth element of the array $x$ which we created above. How would you do that?\n",
    "\n",
    "(Remember, the tenth element has an index of 9)"
   ]
  },
  {
   "cell_type": "code",
   "execution_count": null,
   "metadata": {
    "id": "OI0RRhV6w0Yz"
   },
   "outputs": [],
   "source": [
    "#Your code goes here"
   ]
  },
  {
   "cell_type": "markdown",
   "metadata": {
    "id": "Tm6NGKp5w0Y0"
   },
   "source": [
    "Now try to select just the first half of the array. "
   ]
  },
  {
   "cell_type": "code",
   "execution_count": null,
   "metadata": {
    "id": "GB0GmxO-w0Y0"
   },
   "outputs": [],
   "source": [
    "#Your code goes here"
   ]
  },
  {
   "cell_type": "markdown",
   "metadata": {
    "id": "cN6BSHqpw0Y0"
   },
   "source": [
    "Then, pick out middle sixty elements of the array."
   ]
  },
  {
   "cell_type": "code",
   "execution_count": null,
   "metadata": {
    "id": "bir2j1ztw0Y0"
   },
   "outputs": [],
   "source": [
    "#Your code goes here"
   ]
  },
  {
   "cell_type": "markdown",
   "metadata": {
    "id": "Nd8BK-OwptIp"
   },
   "source": [
    "Let's try a few more. In the next block of code, perform the following actions on different lines:\n",
    "\n",
    "* Access all elements of your `x` up to, but not including the 17th element\n",
    "* Access the last 20 elements of `x`\n",
    "* Create a new array named `y` that contains the 12th through 38th elements of `x`, including the 38th element\n"
   ]
  },
  {
   "cell_type": "code",
   "execution_count": null,
   "metadata": {
    "id": "p1eH9J4np94W"
   },
   "outputs": [],
   "source": [
    "#Your code goes here"
   ]
  },
  {
   "cell_type": "markdown",
   "metadata": {
    "id": "zuFluWa6w0Y0"
   },
   "source": [
    "Finally, how would you get all of the elements in the array using colon notation?"
   ]
  },
  {
   "cell_type": "code",
   "execution_count": null,
   "metadata": {
    "id": "S-aNw-Miw0Y0"
   },
   "outputs": [],
   "source": [
    "#Your code goes here"
   ]
  },
  {
   "cell_type": "markdown",
   "metadata": {
    "id": "h5iseseK6c_h"
   },
   "source": [
    "## B. Functions\n",
    "<a id='sec_funcs'></a>\n"
   ]
  },
  {
   "cell_type": "markdown",
   "metadata": {
    "id": "Czoqiv9zlXo8"
   },
   "source": [
    "### More Numpy functions\n",
    "<a id='numpy_funcs'></a>\n",
    "\n",
    "The previous section introduces a built-in Python function, `range`, as well as a couple `numpy` module functions, `np.arange` and `np.linspace`, but there are many, many more functions that you'll encounter.\n",
    "Functions are the most fundamental way to process data in Python; they take some inputs, which they may alter, and they (usually) return a result.\n",
    "\n",
    "\\begin{gather}\n",
    "function(input) \\rightarrow output\n",
    "\\end{gather}"
   ]
  },
  {
   "cell_type": "code",
   "execution_count": 13,
   "metadata": {
    "id": "GXt3Ir2jw0Y2"
   },
   "outputs": [
    {
     "name": "stdout",
     "output_type": "stream",
     "text": [
      "5.0\n"
     ]
    }
   ],
   "source": [
    "import numpy as np\n",
    "\n",
    "print(np.sqrt(25))"
   ]
  },
  {
   "cell_type": "markdown",
   "metadata": {
    "id": "x-7rPD8Y-8n8"
   },
   "source": [
    "### **Exercise:** Numpy trig functions\n",
    "<a id='trig_ex'></a>\n"
   ]
  },
  {
   "cell_type": "markdown",
   "metadata": {
    "id": "30whhvSSlReT"
   },
   "source": [
    "Find a `numpy` function for the mathematical $sin$ function and use it to print the value of $sin(\\pi/2)$.\n",
    "\n",
    "Once you've found $sin$, see if you can find $cos$. *(Hint: try your first guess)*"
   ]
  },
  {
   "cell_type": "code",
   "execution_count": 14,
   "metadata": {
    "id": "6teWzbWz84CI"
   },
   "outputs": [
    {
     "name": "stdout",
     "output_type": "stream",
     "text": [
      "The value of pi is 3.141592653589793 and 2pi is 6.283185307179586\n"
     ]
    }
   ],
   "source": [
    "# the numpy package defines np.pi; it's just the precise value of pi stored as a \"float\". It's a variable you don't have to set yourself!\n",
    "print(\"The value of pi is\", np.pi, \"and 2pi is\", 2*np.pi)\n",
    "\n",
    "#Your code here"
   ]
  },
  {
   "cell_type": "markdown",
   "metadata": {
    "id": "oe0eQQo_ILbm"
   },
   "source": [
    "### **Exercise:** Combining Numpy range and trig functions\n",
    "Use one of the `numpy` array-generating functions from the previous section to create an array of values from $0$ to $4\\pi$ in incrememnts of $\\pi/8$. Then evaluate the cosine of all the values in this array.\n",
    "\n",
    "Use the plotting code included in the next cell to see what your array looks like.\n",
    "\n",
    "What's the **frequency** of your cosine? Try to change the frequency in your expression for the cosine array. Re-plot it, did it work?"
   ]
  },
  {
   "cell_type": "code",
   "execution_count": 15,
   "metadata": {
    "id": "7d0sDbqgIKnn"
   },
   "outputs": [],
   "source": [
    "#Your code here"
   ]
  },
  {
   "cell_type": "code",
   "execution_count": 16,
   "metadata": {
    "id": "tYR10JTSJl0t"
   },
   "outputs": [
    {
     "ename": "NameError",
     "evalue": "name 'x' is not defined",
     "output_type": "error",
     "traceback": [
      "\u001b[0;31m---------------------------------------------------------------------------\u001b[0m",
      "\u001b[0;31mNameError\u001b[0m                                 Traceback (most recent call last)",
      "\u001b[0;32m/tmp/ipykernel_5914/1614899528.py\u001b[0m in \u001b[0;36m<module>\u001b[0;34m\u001b[0m\n\u001b[1;32m      1\u001b[0m \u001b[0;32mimport\u001b[0m \u001b[0mmatplotlib\u001b[0m\u001b[0;34m.\u001b[0m\u001b[0mpyplot\u001b[0m \u001b[0;32mas\u001b[0m \u001b[0mplt\u001b[0m\u001b[0;34m\u001b[0m\u001b[0;34m\u001b[0m\u001b[0m\n\u001b[1;32m      2\u001b[0m \u001b[0mget_ipython\u001b[0m\u001b[0;34m(\u001b[0m\u001b[0;34m)\u001b[0m\u001b[0;34m.\u001b[0m\u001b[0mrun_line_magic\u001b[0m\u001b[0;34m(\u001b[0m\u001b[0;34m'matplotlib'\u001b[0m\u001b[0;34m,\u001b[0m \u001b[0;34m'inline'\u001b[0m\u001b[0;34m)\u001b[0m\u001b[0;34m\u001b[0m\u001b[0;34m\u001b[0m\u001b[0m\n\u001b[0;32m----> 3\u001b[0;31m \u001b[0mplt\u001b[0m\u001b[0;34m.\u001b[0m\u001b[0mplot\u001b[0m\u001b[0;34m(\u001b[0m\u001b[0mx\u001b[0m\u001b[0;34m,\u001b[0m \u001b[0my\u001b[0m\u001b[0;34m)\u001b[0m\u001b[0;34m\u001b[0m\u001b[0;34m\u001b[0m\u001b[0m\n\u001b[0m",
      "\u001b[0;31mNameError\u001b[0m: name 'x' is not defined"
     ]
    }
   ],
   "source": [
    "import matplotlib.pyplot as plt\n",
    "%matplotlib inline\n",
    "plt.plot(x, y)"
   ]
  },
  {
   "cell_type": "markdown",
   "metadata": {
    "id": "hovLawfpw0Y2"
   },
   "source": [
    "<a id='built-in'></a>\n",
    "In general, most common mathematical functions like sqrt, log, exp, sin, cos can be found in the numpy module.\n",
    "\n",
    "For more information, the documentation of many **built-in functions** that can be applied to integers and floats (i.e. single numbers), as well as **numpy arrays**, can be found here: https://numpy.org/doc/stable/reference/routines.math.html"
   ]
  },
  {
   "cell_type": "markdown",
   "metadata": {
    "id": "_hodpy14QYZb"
   },
   "source": [
    "When in need of a mathematical function like one of the above, or even a more complicated one (like the \"erf\" function, or \"Riemann zeta function\", if you've ever encountered those), **never** spend time writing it yourself. Nearly every mathematical function one can think of already exists in some well-documented module. Check [numpy](https://numpy.org/doc/stable/reference/) and [scipy](https://docs.scipy.org/doc/scipy/reference/); google search \"numpy `<function name>`\" or \"scipy `<function name>`\" and you should find your desired function.\n",
    "\n",
    "If `numpy` and `scipy` don't have your function, it is likely that someone has posted it on StackExchange or StackOverflow or somewhere.\n",
    "Google search \"python `<function name>`\".\n",
    "\n",
    "Copy+paste from the Internet is a very efficient way to code, and we do it all the time.\n",
    "If you're worried about things like plagiarism, you should paste the link to the webpage where you found the code as a comment in your notebook.\n",
    "Then you've cited your source!"
   ]
  },
  {
   "cell_type": "code",
   "execution_count": 17,
   "metadata": {
    "id": "-w0VmUurS9wc"
   },
   "outputs": [
    {
     "name": "stdout",
     "output_type": "stream",
     "text": [
      "1.0\n",
      "19.999099979189474\n",
      "10\n"
     ]
    }
   ],
   "source": [
    "# More numpy functions\n",
    "print(np.sin(np.pi/2))\n",
    "print(np.exp(np.pi)-np.pi)\n",
    "print(np.sum(np.arange(5))) # 0 + 1 + 2 + 3 + 4 + 5 = ..."
   ]
  },
  {
   "cell_type": "markdown",
   "metadata": {
    "id": "ltvMPy0iw0Y0"
   },
   "source": [
    "### Defining your own functions\n",
    "<a id='user_funcs'></a>\n",
    "\n",
    "\n",
    "Python allows you to define your own functions, too.\n",
    "**User-defined functions** allow you to clean up your code and apply the same set of operations to multiple variables.\n",
    "Organizing your code into functions is also a good way to write code that other people will use."
   ]
  },
  {
   "cell_type": "markdown",
   "metadata": {
    "id": "wtGjcQzCw0Y2"
   },
   "source": [
    "<a id='user-def'></a>\n",
    "The outline for a function is:\n",
    "```python\n",
    "def <function name> (<input variables>):\n",
    "    <some code here>\n",
    "    return <output variables>\n",
    "```"
   ]
  },
  {
   "cell_type": "code",
   "execution_count": 18,
   "metadata": {
    "id": "kVskdO_Tw0Y0",
    "scrolled": true
   },
   "outputs": [],
   "source": [
    "#Defining a square root function\n",
    "def sqrt(x):\n",
    "    if (x < 0):\n",
    "        print(\"Your input is not positive!\")\n",
    "    else: \n",
    "        return x**(0.5)"
   ]
  },
  {
   "cell_type": "code",
   "execution_count": 19,
   "metadata": {
    "id": "bm_N6HMUw0Y1"
   },
   "outputs": [],
   "source": [
    "#Your code here"
   ]
  },
  {
   "cell_type": "code",
   "execution_count": 20,
   "metadata": {
    "id": "n71GVxEyw0Y2"
   },
   "outputs": [],
   "source": [
    "#Your code here"
   ]
  },
  {
   "cell_type": "code",
   "execution_count": 21,
   "metadata": {
    "id": "HcZFFATS4UJ4"
   },
   "outputs": [],
   "source": [
    "#Your code goes here"
   ]
  },
  {
   "cell_type": "markdown",
   "metadata": {
    "id": "gfaLd1QRw0Y2"
   },
   "source": [
    "When defining your own functions, you can also use **multiple input variables**.\n"
   ]
  },
  {
   "cell_type": "code",
   "execution_count": 22,
   "metadata": {
    "id": "2-iD316Vw0Y2"
   },
   "outputs": [],
   "source": [
    "def length(x, y):\n",
    "    \"\"\"Calculates the length of a 2D vector (x,y) using the Pythagorean theorem.\"\"\"\n",
    "    return np.sqrt(x**2 + y**2)"
   ]
  },
  {
   "cell_type": "code",
   "execution_count": 23,
   "metadata": {
    "id": "LgoHh4Dsw0Y2"
   },
   "outputs": [],
   "source": [
    "#Your code goes here"
   ]
  },
  {
   "cell_type": "markdown",
   "metadata": {
    "id": "t1NeFU08VOam"
   },
   "source": [
    "<a id='multi-line'></a>\n",
    "A note about that funny looking comment line in that `length` function: it's good Python etiquette to comment the functions you write.\n",
    "Even if you never intend to share your code with anyone else, it is extremely useful to write yourself reminders about what your functions do.\n",
    "You can even include an example (this is pretty common in professional documentation).\n",
    "\n",
    "One common way to document the functions you write is with a \"**multi-line comment**\" immediately following the `def` line.\n",
    "A multi-line comment starts and ends with three double quotation marks."
   ]
  },
  {
   "cell_type": "code",
   "execution_count": 24,
   "metadata": {
    "id": "SODQjd6-WBsO"
   },
   "outputs": [],
   "source": [
    "def my_function(arg):\n",
    "    \"\"\"\n",
    "    This is my function. It's for doing this one important thing.\n",
    "    This function needs one argument, which should be a single number.\n",
    "    The function will return another number.\n",
    "\n",
    "    Example:\n",
    "    >>> my_function(3)\n",
    "    7\n",
    "    \"\"\"\n",
    "    return arg + 4\n"
   ]
  },
  {
   "cell_type": "markdown",
   "metadata": {
    "id": "dtdz1LMBw0Y2"
   },
   "source": [
    "In this lecture, we've learned about numpy arrays, loops, and defining functions. You'll have a chance to test these skills in the following exercises!"
   ]
  },
  {
   "cell_type": "markdown",
   "metadata": {
    "id": "tIhqm1n7w0Y2"
   },
   "source": [
    "## Exercise 2: Define a simple function"
   ]
  },
  {
   "cell_type": "markdown",
   "metadata": {
    "id": "EI0L0UOxk53y"
   },
   "source": [
    "Define a function that prints every even-indexed element of an array."
   ]
  },
  {
   "cell_type": "code",
   "execution_count": 25,
   "metadata": {
    "id": "rdEyywMXw0Y2"
   },
   "outputs": [],
   "source": [
    "#Your code here"
   ]
  },
  {
   "cell_type": "markdown",
   "metadata": {
    "id": "CuEwq0Uuw0Y2"
   },
   "source": [
    "## Exercise 3a: Path Length Function\n",
    "<a id='ex_pathlen'></a>\n"
   ]
  },
  {
   "cell_type": "markdown",
   "metadata": {
    "id": "0389_ykgw0Y2"
   },
   "source": [
    "For a given set of points, the **pathlength** $L$ from $(x_0,y_0)$ to $(x_n,y_n)$ is given by the following expression,\n",
    "\\begin{gather}\n",
    "L = \\sum_{i = 1}^n \\sqrt{ \\left(x_i - x_{i-1}\\right)^2 + \\left(y_i - y_{i-1} \\right)^2}\n",
    "\\end{gather}\n",
    "\n",
    "What this quantity represents is the sum of the **lengths** between $(x_{i-1},y_{i-1})$ and $(x_i,y_i)$ for $i$ between 1 and $n$.\n",
    "\n",
    "Write a function `pathLength` which computes $L$ given two numpy arrays `x_array` and `y_array` as input variables. You'll need this function later on to work on the challenge problem."
   ]
  },
  {
   "cell_type": "code",
   "execution_count": 26,
   "metadata": {
    "id": "3GGvPGR5w0Y2"
   },
   "outputs": [
    {
     "ename": "SyntaxError",
     "evalue": "incomplete input (1961226710.py, line 2)",
     "output_type": "error",
     "traceback": [
      "\u001b[0;36m  File \u001b[0;32m\"/tmp/ipykernel_5914/1961226710.py\"\u001b[0;36m, line \u001b[0;32m2\u001b[0m\n\u001b[0;31m    #Your code here!\u001b[0m\n\u001b[0m                    ^\u001b[0m\n\u001b[0;31mSyntaxError\u001b[0m\u001b[0;31m:\u001b[0m incomplete input\n"
     ]
    }
   ],
   "source": [
    "def pathLength(x_array,y_array):\n",
    "  #Your code here!"
   ]
  },
  {
   "cell_type": "markdown",
   "metadata": {
    "id": "UZVMZkWCw0Y2"
   },
   "source": [
    "Test your function on the example below. Your answer should come out to $4\\sqrt{2} \\approx 5.657$"
   ]
  },
  {
   "cell_type": "code",
   "execution_count": 27,
   "metadata": {
    "id": "6asqFL6yw0Y2"
   },
   "outputs": [
    {
     "ename": "NameError",
     "evalue": "name 'pathLength' is not defined",
     "output_type": "error",
     "traceback": [
      "\u001b[0;31m---------------------------------------------------------------------------\u001b[0m",
      "\u001b[0;31mNameError\u001b[0m                                 Traceback (most recent call last)",
      "\u001b[0;32m/tmp/ipykernel_5914/2691927828.py\u001b[0m in \u001b[0;36m<module>\u001b[0;34m\u001b[0m\n\u001b[1;32m      1\u001b[0m \u001b[0mx\u001b[0m \u001b[0;34m=\u001b[0m \u001b[0mnp\u001b[0m\u001b[0;34m.\u001b[0m\u001b[0marray\u001b[0m\u001b[0;34m(\u001b[0m\u001b[0;34m[\u001b[0m\u001b[0;36m1\u001b[0m\u001b[0;34m,\u001b[0m \u001b[0;36m2\u001b[0m\u001b[0;34m,\u001b[0m \u001b[0;36m3\u001b[0m\u001b[0;34m,\u001b[0m \u001b[0;36m4\u001b[0m\u001b[0;34m,\u001b[0m \u001b[0;36m5\u001b[0m\u001b[0;34m]\u001b[0m\u001b[0;34m)\u001b[0m\u001b[0;34m\u001b[0m\u001b[0;34m\u001b[0m\u001b[0m\n\u001b[1;32m      2\u001b[0m \u001b[0my\u001b[0m \u001b[0;34m=\u001b[0m \u001b[0mnp\u001b[0m\u001b[0;34m.\u001b[0m\u001b[0marray\u001b[0m\u001b[0;34m(\u001b[0m\u001b[0;34m[\u001b[0m\u001b[0;36m1\u001b[0m\u001b[0;34m,\u001b[0m \u001b[0;36m2\u001b[0m\u001b[0;34m,\u001b[0m \u001b[0;36m3\u001b[0m\u001b[0;34m,\u001b[0m \u001b[0;36m4\u001b[0m\u001b[0;34m,\u001b[0m \u001b[0;36m5\u001b[0m\u001b[0;34m]\u001b[0m\u001b[0;34m)\u001b[0m\u001b[0;34m\u001b[0m\u001b[0;34m\u001b[0m\u001b[0m\n\u001b[0;32m----> 3\u001b[0;31m \u001b[0mpathLength\u001b[0m\u001b[0;34m(\u001b[0m\u001b[0mx\u001b[0m\u001b[0;34m,\u001b[0m\u001b[0my\u001b[0m\u001b[0;34m)\u001b[0m\u001b[0;34m\u001b[0m\u001b[0;34m\u001b[0m\u001b[0m\n\u001b[0m",
      "\u001b[0;31mNameError\u001b[0m: name 'pathLength' is not defined"
     ]
    }
   ],
   "source": [
    "x = np.array([1, 2, 3, 4, 5])\n",
    "y = np.array([1, 2, 3, 4, 5])\n",
    "pathLength(x,y)"
   ]
  },
  {
   "cell_type": "markdown",
   "metadata": {
    "id": "7bnrE7O1aY0d"
   },
   "source": [
    "## Exercise 3b: Fix my path length function\n",
    "\n",
    "The instructors attempted Exercise 2a, but not everything went quite right. Try to de-bug their code!"
   ]
  },
  {
   "cell_type": "code",
   "execution_count": 28,
   "metadata": {
    "id": "ke5C5vTRRTzm"
   },
   "outputs": [
    {
     "ename": "TypeError",
     "evalue": "pathLength() missing 1 required positional argument: 'z_array'",
     "output_type": "error",
     "traceback": [
      "\u001b[0;31m---------------------------------------------------------------------------\u001b[0m",
      "\u001b[0;31mTypeError\u001b[0m                                 Traceback (most recent call last)",
      "\u001b[0;32m/tmp/ipykernel_5914/2696513161.py\u001b[0m in \u001b[0;36m<module>\u001b[0;34m\u001b[0m\n\u001b[1;32m     20\u001b[0m \u001b[0mx\u001b[0m \u001b[0;34m=\u001b[0m \u001b[0mnp\u001b[0m\u001b[0;34m.\u001b[0m\u001b[0marray\u001b[0m\u001b[0;34m(\u001b[0m\u001b[0;34m[\u001b[0m\u001b[0;36m1\u001b[0m\u001b[0;34m,\u001b[0m \u001b[0;36m2\u001b[0m\u001b[0;34m,\u001b[0m \u001b[0;36m3\u001b[0m\u001b[0;34m,\u001b[0m \u001b[0;36m4\u001b[0m\u001b[0;34m,\u001b[0m \u001b[0;36m5\u001b[0m\u001b[0;34m]\u001b[0m\u001b[0;34m)\u001b[0m\u001b[0;34m\u001b[0m\u001b[0;34m\u001b[0m\u001b[0m\n\u001b[1;32m     21\u001b[0m \u001b[0my\u001b[0m \u001b[0;34m=\u001b[0m \u001b[0mnp\u001b[0m\u001b[0;34m.\u001b[0m\u001b[0marray\u001b[0m\u001b[0;34m(\u001b[0m\u001b[0;34m[\u001b[0m\u001b[0;36m1\u001b[0m\u001b[0;34m,\u001b[0m \u001b[0;36m2\u001b[0m\u001b[0;34m,\u001b[0m \u001b[0;36m3\u001b[0m\u001b[0;34m,\u001b[0m \u001b[0;36m4\u001b[0m\u001b[0;34m,\u001b[0m \u001b[0;36m5\u001b[0m\u001b[0;34m]\u001b[0m\u001b[0;34m)\u001b[0m\u001b[0;34m\u001b[0m\u001b[0;34m\u001b[0m\u001b[0m\n\u001b[0;32m---> 22\u001b[0;31m \u001b[0mpathLength\u001b[0m\u001b[0;34m(\u001b[0m\u001b[0mx\u001b[0m\u001b[0;34m,\u001b[0m\u001b[0my\u001b[0m\u001b[0;34m)\u001b[0m \u001b[0;31m# Should print approximately 5.657\u001b[0m\u001b[0;34m\u001b[0m\u001b[0;34m\u001b[0m\u001b[0m\n\u001b[0m",
      "\u001b[0;31mTypeError\u001b[0m: pathLength() missing 1 required positional argument: 'z_array'"
     ]
    }
   ],
   "source": [
    "# Version as broken code\n",
    "def pathLength(x_array, y_array, z_array):\n",
    "    \"\"\"\n",
    "    This function returns the path length given the x and y arrays\n",
    "    It will print out a single number\n",
    "\n",
    "    It doesn't work right now...\n",
    "    \"\"\"\n",
    "    if len(x_array) == len(y_array):\n",
    "        raise Exception(\"Vectors do not have the same length\")\n",
    "        \n",
    "    n = len(x_array)\n",
    "    i = 1\n",
    "    L = 0\n",
    "    while (i < n):\n",
    "        L = L + length(x_array[i] - x_array[i-1], y_array[i] - y_array[i-1])\n",
    "    return L\n",
    "\n",
    "# Test case\n",
    "x = np.array([1, 2, 3, 4, 5])\n",
    "y = np.array([1, 2, 3, 4, 5])\n",
    "pathLength(x,y) # Should print approximately 5.657"
   ]
  },
  {
   "cell_type": "markdown",
   "metadata": {
    "id": "EnJRTohkZ5v5"
   },
   "source": [
    "There are always multiple valid ways to write a function. There are no wrong answers as long as the code works as intended.\n",
    "\n",
    "Here's that same function written using Numpy functions and advanced indexing.\n"
   ]
  },
  {
   "cell_type": "code",
   "execution_count": 29,
   "metadata": {
    "id": "RmmstDjGcaDT"
   },
   "outputs": [
    {
     "data": {
      "text/plain": [
       "5.656854249492381"
      ]
     },
     "execution_count": 29,
     "metadata": {},
     "output_type": "execute_result"
    }
   ],
   "source": [
    "import numpy as np\n",
    "\n",
    "def pathLength(x_array, y_array):\n",
    "    return np.sum(np.sqrt( (x_array[1:] - x_array[:-1])**2 + (y_array[1:] - y_array[:-1])**2 ))\n",
    "\n",
    "# Test case\n",
    "x = np.array([1, 2, 3, 4, 5])\n",
    "y = np.array([1, 2, 3, 4, 5])\n",
    "pathLength(x,y) # Should print approximately 5.657"
   ]
  },
  {
   "cell_type": "markdown",
   "metadata": {
    "id": "767Nt0y1w0Y2"
   },
   "source": [
    "## C. Loading And Saving Data Arrays\n",
    "<a id='load_save'></a>\n",
    "\n",
    "\n",
    "Up to now, the data that you have handled has been self-defined: you have constructed an array and fill that array with values that you operate on all in the same code. Often, in scientific programming, this is not the case. One program or piece of equipment creates and stores data, while another loads, operates on, and analyzes it. Thus it is essential to learn the ways that one can **load** and **save** data in python."
   ]
  },
  {
   "cell_type": "code",
   "execution_count": 30,
   "metadata": {
    "id": "nMYSvCfew0Y2"
   },
   "outputs": [],
   "source": [
    "import numpy as np\n",
    "#%matplotlib nbagg\n",
    "import matplotlib.pyplot as plt\n"
   ]
  },
  {
   "cell_type": "markdown",
   "metadata": {
    "id": "-DF0c0QEWlgQ"
   },
   "source": [
    "<a id='loadtxt'></a>\n",
    "The simplest way to **load data from a plain-text file** with numpy is using [`numpy.loadtext`](https://numpy.org/doc/stable/reference/generated/numpy.loadtxt.html). At its simplest, the usage is:\n",
    "* data_array_name = `np.loadtxt('path_to_file')`\n",
    "\n",
    "  (Note that the path should be listed as a string!)\n",
    "  \n",
    "From the documentation page, it seems there a lot of **optional arguments** that let you specify more precisely how you want to read the data, but at its most basic, the function will work the way we have shown above."
   ]
  },
  {
   "cell_type": "markdown",
   "metadata": {
    "id": "Q4oRvVC6YEoB"
   },
   "source": [
    "<a id='path'></a>\n",
    "A file's **path** is its specific location in the file structure of your computer. This is most often defined relative to your current place in the file structure. To specify the folder you are currently working in (your **current working directory**), use a single period followed by a forward slash. To specify a subfolder or file within a folder use the name of the subfolder or file, always following a folder name with a forward slash.\n",
    "\n",
    "* `./` = Path to the current folder that you are working in.\n",
    "* `./subfolder1/` = Path to a folder that exists inside of your current folder, named \"subfolder1\"\n",
    "* `./subfolder1/myfile` = Path to a file that exists inside of a folder that exists inside of your current folder\n",
    "* `../` = Path to the folder that contains the folder you are currently working in\n",
    "\n",
    "The above works as written for Linux and Mac systems. Windows systems are a little different, which you can [read more about](https://www.howtogeek.com/137096/6-ways-the-linux-file-system-is-different-from-the-windows-file-system/) if you'd like, but the general directory structure lessons remain the same."
   ]
  },
  {
   "cell_type": "markdown",
   "metadata": {
    "id": "7a0cchEPao52"
   },
   "source": [
    "Our data file is stored in a text file named `timeseries_data.txt` in the directory `lecture2_data`, which exists as a subfolder of the one we are currently working in."
   ]
  },
  {
   "cell_type": "code",
   "execution_count": 31,
   "metadata": {
    "id": "o_htwjeiw0Y3"
   },
   "outputs": [
    {
     "ename": "OSError",
     "evalue": "Your_Path_Here not found.",
     "output_type": "error",
     "traceback": [
      "\u001b[0;31m---------------------------------------------------------------------------\u001b[0m",
      "\u001b[0;31mOSError\u001b[0m                                   Traceback (most recent call last)",
      "\u001b[0;32m/tmp/ipykernel_5914/3331104004.py\u001b[0m in \u001b[0;36m<module>\u001b[0;34m\u001b[0m\n\u001b[1;32m      1\u001b[0m \u001b[0mpath\u001b[0m \u001b[0;34m=\u001b[0m \u001b[0;34m\"Your_Path_Here\"\u001b[0m\u001b[0;34m\u001b[0m\u001b[0;34m\u001b[0m\u001b[0m\n\u001b[0;32m----> 2\u001b[0;31m \u001b[0mtimeseriesData\u001b[0m \u001b[0;34m=\u001b[0m \u001b[0mnp\u001b[0m\u001b[0;34m.\u001b[0m\u001b[0mloadtxt\u001b[0m\u001b[0;34m(\u001b[0m\u001b[0mpath\u001b[0m\u001b[0;34m)\u001b[0m\u001b[0;34m\u001b[0m\u001b[0;34m\u001b[0m\u001b[0m\n\u001b[0m",
      "\u001b[0;32m/usr/lib/python3/dist-packages/numpy/lib/npyio.py\u001b[0m in \u001b[0;36mloadtxt\u001b[0;34m(fname, dtype, comments, delimiter, converters, skiprows, usecols, unpack, ndmin, encoding, max_rows, like)\u001b[0m\n\u001b[1;32m   1065\u001b[0m             \u001b[0mfname\u001b[0m \u001b[0;34m=\u001b[0m \u001b[0mos_fspath\u001b[0m\u001b[0;34m(\u001b[0m\u001b[0mfname\u001b[0m\u001b[0;34m)\u001b[0m\u001b[0;34m\u001b[0m\u001b[0;34m\u001b[0m\u001b[0m\n\u001b[1;32m   1066\u001b[0m         \u001b[0;32mif\u001b[0m \u001b[0m_is_string_like\u001b[0m\u001b[0;34m(\u001b[0m\u001b[0mfname\u001b[0m\u001b[0;34m)\u001b[0m\u001b[0;34m:\u001b[0m\u001b[0;34m\u001b[0m\u001b[0;34m\u001b[0m\u001b[0m\n\u001b[0;32m-> 1067\u001b[0;31m             \u001b[0mfh\u001b[0m \u001b[0;34m=\u001b[0m \u001b[0mnp\u001b[0m\u001b[0;34m.\u001b[0m\u001b[0mlib\u001b[0m\u001b[0;34m.\u001b[0m\u001b[0m_datasource\u001b[0m\u001b[0;34m.\u001b[0m\u001b[0mopen\u001b[0m\u001b[0;34m(\u001b[0m\u001b[0mfname\u001b[0m\u001b[0;34m,\u001b[0m \u001b[0;34m'rt'\u001b[0m\u001b[0;34m,\u001b[0m \u001b[0mencoding\u001b[0m\u001b[0;34m=\u001b[0m\u001b[0mencoding\u001b[0m\u001b[0;34m)\u001b[0m\u001b[0;34m\u001b[0m\u001b[0;34m\u001b[0m\u001b[0m\n\u001b[0m\u001b[1;32m   1068\u001b[0m             \u001b[0mfencoding\u001b[0m \u001b[0;34m=\u001b[0m \u001b[0mgetattr\u001b[0m\u001b[0;34m(\u001b[0m\u001b[0mfh\u001b[0m\u001b[0;34m,\u001b[0m \u001b[0;34m'encoding'\u001b[0m\u001b[0;34m,\u001b[0m \u001b[0;34m'latin1'\u001b[0m\u001b[0;34m)\u001b[0m\u001b[0;34m\u001b[0m\u001b[0;34m\u001b[0m\u001b[0m\n\u001b[1;32m   1069\u001b[0m             \u001b[0mfh\u001b[0m \u001b[0;34m=\u001b[0m \u001b[0miter\u001b[0m\u001b[0;34m(\u001b[0m\u001b[0mfh\u001b[0m\u001b[0;34m)\u001b[0m\u001b[0;34m\u001b[0m\u001b[0;34m\u001b[0m\u001b[0m\n",
      "\u001b[0;32m/usr/lib/python3/dist-packages/numpy/lib/_datasource.py\u001b[0m in \u001b[0;36mopen\u001b[0;34m(path, mode, destpath, encoding, newline)\u001b[0m\n\u001b[1;32m    191\u001b[0m \u001b[0;34m\u001b[0m\u001b[0m\n\u001b[1;32m    192\u001b[0m     \u001b[0mds\u001b[0m \u001b[0;34m=\u001b[0m \u001b[0mDataSource\u001b[0m\u001b[0;34m(\u001b[0m\u001b[0mdestpath\u001b[0m\u001b[0;34m)\u001b[0m\u001b[0;34m\u001b[0m\u001b[0;34m\u001b[0m\u001b[0m\n\u001b[0;32m--> 193\u001b[0;31m     \u001b[0;32mreturn\u001b[0m \u001b[0mds\u001b[0m\u001b[0;34m.\u001b[0m\u001b[0mopen\u001b[0m\u001b[0;34m(\u001b[0m\u001b[0mpath\u001b[0m\u001b[0;34m,\u001b[0m \u001b[0mmode\u001b[0m\u001b[0;34m,\u001b[0m \u001b[0mencoding\u001b[0m\u001b[0;34m=\u001b[0m\u001b[0mencoding\u001b[0m\u001b[0;34m,\u001b[0m \u001b[0mnewline\u001b[0m\u001b[0;34m=\u001b[0m\u001b[0mnewline\u001b[0m\u001b[0;34m)\u001b[0m\u001b[0;34m\u001b[0m\u001b[0;34m\u001b[0m\u001b[0m\n\u001b[0m\u001b[1;32m    194\u001b[0m \u001b[0;34m\u001b[0m\u001b[0m\n\u001b[1;32m    195\u001b[0m \u001b[0;34m\u001b[0m\u001b[0m\n",
      "\u001b[0;32m/usr/lib/python3/dist-packages/numpy/lib/_datasource.py\u001b[0m in \u001b[0;36mopen\u001b[0;34m(self, path, mode, encoding, newline)\u001b[0m\n\u001b[1;32m    531\u001b[0m                                       encoding=encoding, newline=newline)\n\u001b[1;32m    532\u001b[0m         \u001b[0;32melse\u001b[0m\u001b[0;34m:\u001b[0m\u001b[0;34m\u001b[0m\u001b[0;34m\u001b[0m\u001b[0m\n\u001b[0;32m--> 533\u001b[0;31m             \u001b[0;32mraise\u001b[0m \u001b[0mIOError\u001b[0m\u001b[0;34m(\u001b[0m\u001b[0;34m\"%s not found.\"\u001b[0m \u001b[0;34m%\u001b[0m \u001b[0mpath\u001b[0m\u001b[0;34m)\u001b[0m\u001b[0;34m\u001b[0m\u001b[0;34m\u001b[0m\u001b[0m\n\u001b[0m\u001b[1;32m    534\u001b[0m \u001b[0;34m\u001b[0m\u001b[0m\n\u001b[1;32m    535\u001b[0m \u001b[0;34m\u001b[0m\u001b[0m\n",
      "\u001b[0;31mOSError\u001b[0m: Your_Path_Here not found."
     ]
    }
   ],
   "source": [
    "path = \"Your_Path_Here\"\n",
    "timeseriesData = np.loadtxt(path) "
   ]
  },
  {
   "cell_type": "markdown",
   "metadata": {
    "id": "5Odeaaabw0Y3"
   },
   "source": [
    "<a id='shape'></a>\n",
    "One handy thing you can do after loading data into a numpy array is to use Python to find the dimensions of the array. This is done by using the [``array.shape``](https://numpy.org/doc/stable/reference/generated/numpy.ndarray.shape.html) method like so."
   ]
  },
  {
   "cell_type": "code",
   "execution_count": 32,
   "metadata": {
    "id": "1pj6SE2Jw0Y3"
   },
   "outputs": [
    {
     "ename": "NameError",
     "evalue": "name 'timeseriesData' is not defined",
     "output_type": "error",
     "traceback": [
      "\u001b[0;31m---------------------------------------------------------------------------\u001b[0m",
      "\u001b[0;31mNameError\u001b[0m                                 Traceback (most recent call last)",
      "\u001b[0;32m/tmp/ipykernel_5914/2244304427.py\u001b[0m in \u001b[0;36m<module>\u001b[0;34m\u001b[0m\n\u001b[0;32m----> 1\u001b[0;31m \u001b[0mtimeseriesData\u001b[0m\u001b[0;34m.\u001b[0m\u001b[0mshape\u001b[0m\u001b[0;34m\u001b[0m\u001b[0;34m\u001b[0m\u001b[0m\n\u001b[0m",
      "\u001b[0;31mNameError\u001b[0m: name 'timeseriesData' is not defined"
     ]
    }
   ],
   "source": [
    "timeseriesData.shape"
   ]
  },
  {
   "cell_type": "markdown",
   "metadata": {
    "id": "zm91VoAipJAZ"
   },
   "source": [
    "This is an example of a **2-dimensional array**, also known as a **matrix**. \n",
    "\n",
    "The first row of `timeseriesData` gives the time stamp of when each measurement was taken, while the second row gives the measured value of the brightness at that time."
   ]
  },
  {
   "cell_type": "markdown",
   "metadata": {
    "id": "QrPLgWRJpMqZ"
   },
   "source": [
    "Since `timeseriesData` is 2-dimensional, each element has two indices. "
   ]
  },
  {
   "cell_type": "code",
   "execution_count": 33,
   "metadata": {
    "id": "bDRJP-8Bw0Y3"
   },
   "outputs": [
    {
     "ename": "NameError",
     "evalue": "name 'timeseriesData' is not defined",
     "output_type": "error",
     "traceback": [
      "\u001b[0;31m---------------------------------------------------------------------------\u001b[0m",
      "\u001b[0;31mNameError\u001b[0m                                 Traceback (most recent call last)",
      "\u001b[0;32m/tmp/ipykernel_5914/38718126.py\u001b[0m in \u001b[0;36m<module>\u001b[0;34m\u001b[0m\n\u001b[0;32m----> 1\u001b[0;31m \u001b[0mt\u001b[0m \u001b[0;34m=\u001b[0m \u001b[0mtimeseriesData\u001b[0m\u001b[0;34m[\u001b[0m\u001b[0;36m0\u001b[0m\u001b[0;34m,\u001b[0m\u001b[0;34m:\u001b[0m\u001b[0;34m]\u001b[0m \u001b[0;31m# this represents the time\u001b[0m\u001b[0;34m\u001b[0m\u001b[0;34m\u001b[0m\u001b[0m\n\u001b[0m\u001b[1;32m      2\u001b[0m \u001b[0msignal\u001b[0m \u001b[0;34m=\u001b[0m \u001b[0mtimeseriesData\u001b[0m\u001b[0;34m[\u001b[0m\u001b[0;36m1\u001b[0m\u001b[0;34m,\u001b[0m\u001b[0;34m:\u001b[0m\u001b[0;34m]\u001b[0m \u001b[0;31m# this represents the brightness\u001b[0m\u001b[0;34m\u001b[0m\u001b[0;34m\u001b[0m\u001b[0m\n",
      "\u001b[0;31mNameError\u001b[0m: name 'timeseriesData' is not defined"
     ]
    }
   ],
   "source": [
    "t = timeseriesData[0,:] # this represents the time\n",
    "signal = timeseriesData[1,:] # this represents the brightness"
   ]
  },
  {
   "cell_type": "markdown",
   "metadata": {
    "id": "ZaGWIsaEw0Y3"
   },
   "source": [
    "<a id='matrix'></a>\n",
    "By convention, we first specify the row index followed by the column index.\n",
    "- `array_name[n,:]` is the n-th row, and all columns within that row.\n",
    "- `array_name[:,n]` is the n-th column, and all rows within that particular column."
   ]
  },
  {
   "cell_type": "markdown",
   "metadata": {
    "id": "fmIFWLgg5X_7"
   },
   "source": [
    "### **Exercise**: Plotting time-series data\n",
    "<a id='ex_timeseries'></a>\n",
    "\n",
    "\n",
    "Plot the loaded data with time on the x-axis and the signal on the y-axis\n"
   ]
  },
  {
   "cell_type": "code",
   "execution_count": 34,
   "metadata": {
    "id": "KUDst6VFw0Y3",
    "scrolled": false
   },
   "outputs": [],
   "source": [
    "#Your code goes here"
   ]
  },
  {
   "cell_type": "markdown",
   "metadata": {
    "id": "3ISm-jzMqivX"
   },
   "source": [
    "<a id='conditional'></a>\n",
    "In order to choose only the parts of an array that meet some criteria, you can use **conditional indexing** in place of normal indices. This involves taking a **conditional statement** (more on those later) and testing whether it evaluates to True on each element in the array.\n",
    "\n",
    "This gives an array of Booleans, which you can use as **logical indices** to select *only* the entries for which the logical statement is `True`. "
   ]
  },
  {
   "cell_type": "code",
   "execution_count": 35,
   "metadata": {
    "id": "jzNV6wMkw0Y3"
   },
   "outputs": [
    {
     "ename": "SyntaxError",
     "evalue": "invalid syntax (2031494123.py, line 1)",
     "output_type": "error",
     "traceback": [
      "\u001b[0;36m  File \u001b[0;32m\"/tmp/ipykernel_5914/2031494123.py\"\u001b[0;36m, line \u001b[0;32m1\u001b[0m\n\u001b[0;31m    cutOff = # Cutoff Value Here #\u001b[0m\n\u001b[0m             ^\u001b[0m\n\u001b[0;31mSyntaxError\u001b[0m\u001b[0;31m:\u001b[0m invalid syntax\n"
     ]
    }
   ],
   "source": [
    "cutOff = # Cutoff Value Here #\n",
    "signalFix = signal[signal < cutOff]"
   ]
  },
  {
   "cell_type": "markdown",
   "metadata": {
    "id": "sekGg0i-w0Y3"
   },
   "source": [
    "**Conditional indexing** keeps the data that the programmer deems \"good\" by their specified criteria.\n"
   ]
  },
  {
   "cell_type": "code",
   "execution_count": 36,
   "metadata": {
    "id": "-3a2m5KDg9n5"
   },
   "outputs": [
    {
     "ename": "NameError",
     "evalue": "name 'signal' is not defined",
     "output_type": "error",
     "traceback": [
      "\u001b[0;31m---------------------------------------------------------------------------\u001b[0m",
      "\u001b[0;31mNameError\u001b[0m                                 Traceback (most recent call last)",
      "\u001b[0;32m/tmp/ipykernel_5914/3408288029.py\u001b[0m in \u001b[0;36m<module>\u001b[0;34m\u001b[0m\n\u001b[0;32m----> 1\u001b[0;31m \u001b[0mprint\u001b[0m\u001b[0;34m(\u001b[0m\u001b[0msignal\u001b[0m \u001b[0;34m<\u001b[0m \u001b[0mcutOff\u001b[0m\u001b[0;34m)\u001b[0m\u001b[0;34m\u001b[0m\u001b[0;34m\u001b[0m\u001b[0m\n\u001b[0m",
      "\u001b[0;31mNameError\u001b[0m: name 'signal' is not defined"
     ]
    }
   ],
   "source": [
    "print(signal < cutOff)"
   ]
  },
  {
   "cell_type": "code",
   "execution_count": 37,
   "metadata": {
    "id": "KuR331hVw0Y3"
   },
   "outputs": [
    {
     "ename": "SyntaxError",
     "evalue": "incomplete input (3949070465.py, line 1)",
     "output_type": "error",
     "traceback": [
      "\u001b[0;36m  File \u001b[0;32m\"/tmp/ipykernel_5914/3949070465.py\"\u001b[0;36m, line \u001b[0;32m1\u001b[0m\n\u001b[0;31m    tFix = t[# Conditional Statement Here #]\u001b[0m\n\u001b[0m                                             ^\u001b[0m\n\u001b[0;31mSyntaxError\u001b[0m\u001b[0;31m:\u001b[0m incomplete input\n"
     ]
    }
   ],
   "source": [
    "tFix = t[# Conditional Statement Here #] "
   ]
  },
  {
   "cell_type": "markdown",
   "metadata": {
    "id": "ag6q8lRjw0Y3"
   },
   "source": [
    "### **Exercise**: Plotting filtered data"
   ]
  },
  {
   "cell_type": "markdown",
   "metadata": {
    "id": "Ehx5MFNPmCHe"
   },
   "source": [
    "Try to plot the \"fixed\" data!"
   ]
  },
  {
   "cell_type": "code",
   "execution_count": 38,
   "metadata": {
    "id": "IgMJ7Dnpw0Y3",
    "scrolled": true
   },
   "outputs": [
    {
     "ename": "NameError",
     "evalue": "name 'tFix' is not defined",
     "output_type": "error",
     "traceback": [
      "\u001b[0;31m---------------------------------------------------------------------------\u001b[0m",
      "\u001b[0;31mNameError\u001b[0m                                 Traceback (most recent call last)",
      "\u001b[0;32m/tmp/ipykernel_5914/3080821781.py\u001b[0m in \u001b[0;36m<module>\u001b[0;34m\u001b[0m\n\u001b[1;32m      1\u001b[0m \u001b[0;31m#Your code goes here\u001b[0m\u001b[0;34m\u001b[0m\u001b[0;34m\u001b[0m\u001b[0m\n\u001b[0;32m----> 2\u001b[0;31m \u001b[0mplt\u001b[0m\u001b[0;34m.\u001b[0m\u001b[0mplot\u001b[0m\u001b[0;34m(\u001b[0m\u001b[0mtFix\u001b[0m\u001b[0;34m,\u001b[0m\u001b[0msignalFix\u001b[0m\u001b[0;34m)\u001b[0m\u001b[0;34m\u001b[0m\u001b[0;34m\u001b[0m\u001b[0m\n\u001b[0m\u001b[1;32m      3\u001b[0m \u001b[0mplt\u001b[0m\u001b[0;34m.\u001b[0m\u001b[0mshow\u001b[0m\u001b[0;34m(\u001b[0m\u001b[0;34m)\u001b[0m\u001b[0;34m\u001b[0m\u001b[0;34m\u001b[0m\u001b[0m\n",
      "\u001b[0;31mNameError\u001b[0m: name 'tFix' is not defined"
     ]
    }
   ],
   "source": [
    "#Your code goes here\n",
    "plt.plot(tFix,signalFix)\n",
    "plt.show()"
   ]
  },
  {
   "cell_type": "markdown",
   "metadata": {
    "id": "_Cx5ha6cuo4m"
   },
   "source": [
    "First, package your two cleaned up arrays into one again. This can be done simply with the `np.array()` function."
   ]
  },
  {
   "cell_type": "code",
   "execution_count": 39,
   "metadata": {
    "id": "vhd19_gww0Y3"
   },
   "outputs": [
    {
     "ename": "NameError",
     "evalue": "name 'tFix' is not defined",
     "output_type": "error",
     "traceback": [
      "\u001b[0;31m---------------------------------------------------------------------------\u001b[0m",
      "\u001b[0;31mNameError\u001b[0m                                 Traceback (most recent call last)",
      "\u001b[0;32m/tmp/ipykernel_5914/2705760294.py\u001b[0m in \u001b[0;36m<module>\u001b[0;34m\u001b[0m\n\u001b[0;32m----> 1\u001b[0;31m \u001b[0mdataFix\u001b[0m \u001b[0;34m=\u001b[0m \u001b[0mnp\u001b[0m\u001b[0;34m.\u001b[0m\u001b[0marray\u001b[0m\u001b[0;34m(\u001b[0m\u001b[0;34m[\u001b[0m\u001b[0mtFix\u001b[0m\u001b[0;34m,\u001b[0m\u001b[0msignalFix\u001b[0m\u001b[0;34m]\u001b[0m\u001b[0;34m)\u001b[0m\u001b[0;34m\u001b[0m\u001b[0;34m\u001b[0m\u001b[0m\n\u001b[0m",
      "\u001b[0;31mNameError\u001b[0m: name 'tFix' is not defined"
     ]
    }
   ],
   "source": [
    "dataFix = np.array([tFix,signalFix])"
   ]
  },
  {
   "cell_type": "markdown",
   "metadata": {
    "id": "4COwODKvw0Y3"
   },
   "source": [
    "<a id='save'></a>\n",
    "Here we cover two main ways to **save data files** for use again later, one that is Python-specific, and the other a simple text format.\n",
    "\n",
    "* [`np.save('file_path', array_name)`](https://numpy.org/doc/stable/reference/generated/numpy.save.html) - Creates a `.npy` file (Python readable only!)\n",
    "* [`np.savetxt('file_path', array_name)`](https://numpy.org/doc/stable/reference/generated/numpy.savetxt.html#numpy.savetxt) - Creates a `plain text` (or `.txt`) file (more generally readable)\n",
    "\n",
    "The basic syntax is pretty much the same for each. What differs is the type of file that the functions create. Below is an example of how each function can be called to store the same data."
   ]
  },
  {
   "cell_type": "code",
   "execution_count": 40,
   "metadata": {
    "id": "IzbBliDow0Y4"
   },
   "outputs": [
    {
     "ename": "NameError",
     "evalue": "name 'dataFix' is not defined",
     "output_type": "error",
     "traceback": [
      "\u001b[0;31m---------------------------------------------------------------------------\u001b[0m",
      "\u001b[0;31mNameError\u001b[0m                                 Traceback (most recent call last)",
      "\u001b[0;32m/tmp/ipykernel_5914/4004254889.py\u001b[0m in \u001b[0;36m<module>\u001b[0;34m\u001b[0m\n\u001b[0;32m----> 1\u001b[0;31m \u001b[0mnp\u001b[0m\u001b[0;34m.\u001b[0m\u001b[0msave\u001b[0m\u001b[0;34m(\u001b[0m\u001b[0;34m'./lecture2_data/dataFix.npy'\u001b[0m\u001b[0;34m,\u001b[0m\u001b[0mdataFix\u001b[0m\u001b[0;34m)\u001b[0m\u001b[0;34m\u001b[0m\u001b[0;34m\u001b[0m\u001b[0m\n\u001b[0m\u001b[1;32m      2\u001b[0m \u001b[0mnp\u001b[0m\u001b[0;34m.\u001b[0m\u001b[0msavetxt\u001b[0m\u001b[0;34m(\u001b[0m\u001b[0;34m'./lecture2_data/dataFix.txt'\u001b[0m\u001b[0;34m,\u001b[0m\u001b[0mdataFix\u001b[0m\u001b[0;34m)\u001b[0m\u001b[0;34m\u001b[0m\u001b[0;34m\u001b[0m\u001b[0m\n",
      "\u001b[0;31mNameError\u001b[0m: name 'dataFix' is not defined"
     ]
    }
   ],
   "source": [
    "np.save('./lecture2_data/dataFix.npy',dataFix)\n",
    "np.savetxt('./lecture2_data/dataFix.txt',dataFix)"
   ]
  },
  {
   "cell_type": "markdown",
   "metadata": {
    "id": "PYcGereew0Y4"
   },
   "source": [
    "After saving a data file, you can load it up again using `np.loadtxt()` and `np.load()` for .txt and .npy files respectively. "
   ]
  },
  {
   "cell_type": "code",
   "execution_count": 41,
   "metadata": {
    "id": "J42ZKCXYw0Y4"
   },
   "outputs": [
    {
     "data": {
      "image/png": "[encoded data removed]",
      "text/plain": [
       "<Figure size 432x288 with 1 Axes>"
      ]
     },
     "metadata": {
      "needs_background": "light"
     },
     "output_type": "display_data"
    }
   ],
   "source": [
    "data = np.load('./lecture2_data/dataFix.npy')\n",
    "t = data[0,:]\n",
    "signal = data[1,:]\n",
    "plt.plot(t,signal)\n",
    "plt.show()"
   ]
  },
  {
   "cell_type": "markdown",
   "metadata": {
    "id": "o_XowDBKw0Y4"
   },
   "source": [
    "### **Exercise**: Load data from a .txt file"
   ]
  },
  {
   "cell_type": "markdown",
   "metadata": {
    "id": "2QWbVpZWnef-"
   },
   "source": [
    "See if you can do the same thing, but with the .txt file that we saved."
   ]
  },
  {
   "cell_type": "code",
   "execution_count": 42,
   "metadata": {
    "id": "Jqh-N9ATw0Y4"
   },
   "outputs": [],
   "source": [
    "#Your code goes here"
   ]
  },
  {
   "cell_type": "markdown",
   "metadata": {
    "id": "CAsYNg89w0Y4"
   },
   "source": [
    "## D. Loading data files automatically\n",
    "<a id='sec_load'></a>\n",
    "\n",
    "\n",
    "We can combine what we learned about loops to make our data workflow more efficient. Suppose we have a set of data saved in separate text files that we would like to load automatically. For our example, in `./lecture2_data/` you will find files `c1.dat`, `c2.dat`, `c3.dat`, `c4.dat`, `c5.dat`, `c6.dat`. \n",
    "\n",
    "Rather than loading each of these files individually, you can use a for (or while) loop, constructing a string at each iteration corresponding to each of these files. \n",
    "\n",
    "In Python you can use `+` to concatenate strings together, as shown below:"
   ]
  },
  {
   "cell_type": "code",
   "execution_count": 43,
   "metadata": {
    "id": "IjLT3d3pw0Y4"
   },
   "outputs": [
    {
     "name": "stdout",
     "output_type": "stream",
     "text": [
      "ab\n"
     ]
    }
   ],
   "source": [
    "first_string = 'a'\n",
    "second_string = 'b'\n",
    "print(first_string + second_string)"
   ]
  },
  {
   "cell_type": "markdown",
   "metadata": {
    "id": "66f_I_eqw0Y4"
   },
   "source": [
    "You can also cast an integer to a string using the `str` command."
   ]
  },
  {
   "cell_type": "code",
   "execution_count": 44,
   "metadata": {
    "id": "kH5gRHrsw0Y4"
   },
   "outputs": [
    {
     "name": "stdout",
     "output_type": "stream",
     "text": [
      "a1\n"
     ]
    }
   ],
   "source": [
    "first_string = 'a'\n",
    "second_string = str(1)\n",
    "print(first_string + second_string)"
   ]
  },
  {
   "cell_type": "markdown",
   "metadata": {
    "id": "SZXsbcBgw0Y4"
   },
   "source": [
    "## Exercise 4: Load multiple files\n",
    "<a id='exercise_load'></a>\n",
    "\n",
    "Your goal in this task is to write some code to load in this set of 6 `.dat` files as numpy arrays. \n",
    "\n",
    "We will define an empty list (call it `datalist`) that will store the data. \n"
   ]
  },
  {
   "cell_type": "code",
   "execution_count": 45,
   "metadata": {
    "id": "LlMoNMW6w0Y4"
   },
   "outputs": [],
   "source": [
    "datalist = []"
   ]
  },
  {
   "cell_type": "markdown",
   "metadata": {
    "id": "0X_FcYMxw0Y4"
   },
   "source": [
    "This is an odd idea, defining a list variable without any elements, so instead think of it as a basket without anything inside of it yet. We will use the `append()` class function to fill it.\n",
    "\n",
    "Next, we call `np.loadtxt` on a single `.dat` file and add it to `datalist` using the command\n",
    "\n",
    "> `datalist.append(loadedFile)`\n",
    "\n",
    "where `loadedFile` is the variable we've assigned the file to after loading it in. "
   ]
  },
  {
   "cell_type": "code",
   "execution_count": 46,
   "metadata": {
    "id": "VqizsSJRw0Y4"
   },
   "outputs": [],
   "source": [
    "loadedFile = np.loadtxt('./lecture2_data/c1.dat')\n",
    "datalist.append(loadedFile)"
   ]
  },
  {
   "cell_type": "markdown",
   "metadata": {
    "id": "1KjzZuYZrTnr"
   },
   "source": [
    "In the cell below, use a loop of some kind to load the rest of the files and add them to `datalist`.\n",
    "\n",
    "Hint: The names of the remaining files are are `c2.dat`, `c3.dat`, `c4.dat`, `c5.dat`, and `c6.dat`. What is the only thing that changes among these names? Can you think of a way to generate this part separately and combine it with the rest of the string?"
   ]
  },
  {
   "cell_type": "code",
   "execution_count": 47,
   "metadata": {
    "id": "GneoyTUhw0Y4"
   },
   "outputs": [],
   "source": [
    "# Your code here"
   ]
  },
  {
   "cell_type": "markdown",
   "metadata": {
    "id": "40xoidx0w0Y4"
   },
   "source": [
    "This is **just one way** to load and save multiple files; there are lots of different ways, and none of them are right or wrong. Depending on your project and the types of data you will be using, your adviser might teach you different ways to load in your data. Some of us may use the [`glob` module](https://docs.python.org/3/library/glob.html) to accomplish the task above, for example. There are also lots of different file formats besides ASCII (plain human-readable text, such as `.dat` or `.txt`) or Numpy's `.npy`: some of us `pickle` our data, some of us use FITS files more often, and some of us save to `.csv` files. They all have their advantages and disadvantages, and your adviser will tell you why you might use a particular one for your project (and if they don't, you can ask!).\n",
    "\n",
    "So, to summarize, not only can you manipulate arrays, but now you can save them and load them. In a way, those are some of the most important skills in scientific computing. Almost everything you'll be doing requires you know this, and now that you've mastered it, you're well on your way to being an expert in computational physics and astronomy!"
   ]
  },
  {
   "cell_type": "markdown",
   "metadata": {
    "id": "KXecogv19m0z"
   },
   "source": [
    "# **Summary/References**\n",
    "<a id='summary'></a>"
   ]
  },
  {
   "cell_type": "markdown",
   "metadata": {
    "id": "S7LRuY3VCmuy"
   },
   "source": [
    "## Arrays\n",
    "* Create [arrays](#array) from lists using [`np.array(listname)`](https://numpy.org/doc/stable/reference/generated/numpy.ndarray.html)\n",
    "* Create [evenly spaced arrays](#ranges) of numbers using:\n",
    "  * [`np.arange(start, stop, stepsize)`](https://numpy.org/doc/stable/reference/generated/numpy.arange.html)\n",
    "  * [`np.linspace(start, stop, num_points)`](https://numpy.org/doc/stable/reference/generated/numpy.linspace.html)\n",
    "* Create [\"empty\" arrays](#empty) using:\n",
    "  * [`np.zeros(size)`](https://numpy.org/doc/stable/reference/generated/numpy.zeros.html) for an array of all 0\n",
    "  * [`np.ones(size)`](https://numpy.org/doc/stable/reference/generated/numpy.ones.html) for an array of all 1\n",
    "  * [`np.empty(size)`](https://numpy.org/doc/stable/reference/generated/numpy.empty.html) for a quickly generated array of nonspecific values\n",
    "* [Index](#indexing) and [slice](#slicing) your arrays using brackets, colon notation, and [conditional statements](#conditional), e.g.:\n",
    "  * `myarray[0]` for the first (zeroth) element\n",
    "  * `myarray[-1]` for the last element\n",
    "  * `myarray[:]` for the whole array\n",
    "  * `myarray[5:]` for everything after and including the 5th element (element at index 5, thus the 6th value in the array)\n",
    "  * `myarray[:20]` for everything up to but not including the 20th element\n",
    "  * `myarray[myarray > 10]` for all values greater than 10 in your array\n",
    "  * `mymatrix[:, 0]` for all values in the first column of a [matrix](#matrix) (2D array)\n",
    "  * See [here](https://www.google.com/url?q=https://stackoverflow.com/a/4729334&sa=D&ust=1608320322998000&usg=AFQjCNGmI429xTVOP87NgDrSRyL3xRkVgg) for another series of explanations of slicing and indexing lists/arrays in Python!\n",
    "* Determine the [size and shape](#shape) of your array using [`myarray.shape`](https://numpy.org/doc/stable/reference/generated/numpy.ndarray.shape.html)\n"
   ]
  },
  {
   "cell_type": "markdown",
   "metadata": {
    "id": "aYjvNwHN37ZX"
   },
   "source": [
    "## Functions\n",
    "* Use (and find) [built-in](#built-in) numpy functions and variables\n",
    "  * [`np.sin(x)`](https://numpy.org/doc/stable/reference/generated/numpy.sin.html), [`np.cos(x)`](https://numpy.org/doc/stable/reference/generated/numpy.cos.html)\n",
    "  * [`np.exp(x)`](https://numpy.org/doc/stable/reference/generated/numpy.exp.html), [`np.log(x)`](https://numpy.org/doc/stable/reference/generated/numpy.log.html)\n",
    "  * [`np.sqrt(x)`](https://numpy.org/doc/stable/reference/generated/numpy.sqrt.html)\n",
    "  * [`np.pi` (and other constants)](https://numpy.org/doc/stable/reference/constants.html)\n",
    "* [Create](#user-def) functions using the following format:\n",
    "```python\n",
    "def <function name> (input1, input2, ...):\n",
    "    <some code here>\n",
    "    return output1, output2, ...\n",
    "```\n",
    "* Make [multi-line comments](#multi-line) surrounded by `\"\"\"` triple quotes\n",
    "  * See the first answer at [this page](https://stackoverflow.com/questions/7696924/is-there-a-way-to-create-multiline-comments-in-python) for an example."
   ]
  },
  {
   "cell_type": "markdown",
   "metadata": {
    "id": "yRsOgQua4DJT"
   },
   "source": [
    "## Loading & Saving Data\n",
    "* Define a [path to a file](#path) with notation like `\"./subfolder/filename\"`, where `.` means your current directory\n",
    "  * See [this page](https://docs.oracle.com/javase/tutorial/essential/io/path.html) for a brief description of paths (written for java, but still applicable!)\n",
    "  * See the [pathlib](https://docs.python.org/3/library/pathlib.html) module for how it's supposed to be done in Python3, (and [this](https://medium.com/@ageitgey/python-3-quick-tip-the-easy-way-to-deal-with-file-paths-on-windows-mac-and-linux-11a072b58d5f) beginner-friendly article) if you're interested!\n",
    "* [Load data](#loadtxt) from a text file with [`np.loadtxt(FilePath)`](https://numpy.org/doc/stable/reference/generated/numpy.loadtxt.html)\n",
    "* [Save data](#save) to a text file with [`np.savetxt(FilePath, ArrayName)`](https://numpy.org/doc/stable/reference/generated/numpy.savetxt.html)\n",
    "* (And do the same with `.npy` [Python specific files](#save) using [`np.load`](https://numpy.org/doc/stable/reference/generated/numpy.load.html) and [`np.save`](https://numpy.org/doc/stable/reference/generated/numpy.save.html) and the same arguments)\n",
    "  * (AND use things like the [pickle](https://docs.python.org/3/library/pickle.html) and [dill](https://pypi.org/project/dill/) modules, once you want to get *fancy*)\n",
    "   * Also see these usage examples/tutorials for [pickle](https://www.datacamp.com/community/tutorials/pickle-python-tutorial) and [dill](https://stackoverflow.com/questions/42168420/how-to-dill-pickle-to-file), if you're interested\n",
    "* Use lists and loops to load several files with regular naming schemes\n",
    "  * This includes [string concatenation](#sec_load) with the format: `'str1' + 'str2' = 'str1str2'`\n",
    "  * See [exercise in Section D](#exercise_load)"
   ]
  }
 ],
 "metadata": {
  "anaconda-cloud": {},
  "colab": {
   "collapsed_sections": [],
   "name": "Lecture2_Student.ipynb",
   "provenance": [],
   "toc_visible": true
  },
  "kernelspec": {
   "display_name": "Python 3 (ipykernel)",
   "language": "python",
   "name": "python3"
  },
  "language_info": {
   "codemirror_mode": {
    "name": "ipython",
    "version": 3
   },
   "file_extension": ".py",
   "mimetype": "text/x-python",
   "name": "python",
   "nbconvert_exporter": "python",
   "pygments_lexer": "ipython3",
   "version": "3.10.6"
  }
 },
 "nbformat": 4,
 "nbformat_minor": 1
}
