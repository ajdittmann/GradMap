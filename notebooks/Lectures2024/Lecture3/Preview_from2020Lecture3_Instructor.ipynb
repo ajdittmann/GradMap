{
 "cells": [
  {
   "cell_type": "markdown",
   "metadata": {},
   "source": [
    "## Review from the previous lecture\n",
    "In yesterday's Lecture 2, you learned how to use the `numpy` module, how to make your own functions, and how to import and export data. Below is a quick review before we move on to Lecture 3."
   ]
  },
  {
   "cell_type": "markdown",
   "metadata": {},
   "source": [
    "Remember, to use the `numpy` module, first it must be imported:"
   ]
  },
  {
   "cell_type": "code",
   "execution_count": null,
   "metadata": {},
   "outputs": [],
   "source": [
    "import numpy as np"
   ]
  },
  {
   "cell_type": "markdown",
   "metadata": {},
   "source": [
    "You can do a lot with the `numpy` module. Below is an example to jog your memory:"
   ]
  },
  {
   "cell_type": "code",
   "execution_count": null,
   "metadata": {},
   "outputs": [],
   "source": [
    "np.linspace(0,10,11)"
   ]
  },
  {
   "cell_type": "markdown",
   "metadata": {},
   "source": [
    "Do you remember loops? Let's use a `while` loop to make an array of 10 numbers. Let's have each element be increased by 2 compared with the previous element. Let's also have the first element of the array be 1."
   ]
  },
  {
   "cell_type": "code",
   "execution_count": null,
   "metadata": {},
   "outputs": [],
   "source": [
    "# your code here\n",
    "\n",
    "#start by defining the length of the array\n",
    "arrayLength = 10\n",
    "\n",
    "#let's set the array to currently be an array of 0s\n",
    "myArray = np.zeros(arrayLength) #make a numpy array of 10 zeros\n",
    "\n",
    "# Let's define the first element of the array\n",
    "myArray[0] = 1\n",
    "\n",
    "i = 1 #with the first element defined, we can calculate the rest of the sequence beginning with the 2nd element\n",
    "while i < arrayLength:\n",
    "    myArray[i] = myArray[i-1]+2\n",
    "    i = i + 1\n",
    "    \n",
    "print(myArray)"
   ]
  },
  {
   "cell_type": "markdown",
   "metadata": {},
   "source": [
    "There's your quick review of `numpy` and a while loop. Now we can move on to the content of Lecture 3."
   ]
  },
  {
   "cell_type": "markdown",
   "metadata": {},
   "source": [
    "# Distributions and Histograms\n",
    "\n",
    "In the previous lecture, you learned how to import the module `numpy` and how to use many of its associated functions. As you've seen, `numpy` gives us the ability to generate arrays of numbers using commands usch as `np.linspace` and others.\n",
    "\n",
    "In addition to these commands, you can also use `numpy` to generate distributions of numbers. The two most frequently used distributions are the following:\n",
    "\n",
    "- the uniform distribution: `np.random.rand`\n",
    "- the normal (Gaussian) distribution: `np.random.randn`\n",
    "(*notice the \"n\" that distinguishes the functions for generating normal vs. uniform distributions*)"
   ]
  },
  {
   "cell_type": "markdown",
   "metadata": {},
   "source": [
    "# A. Generating distributions"
   ]
  },
  {
   "cell_type": "markdown",
   "metadata": {},
   "source": [
    "## Let's start with the uniform distribution (rand), which gives numbers uniformly distributed over the interval [0,1).\n",
    "\n",
    "If you haven't already, import the `numpy` module."
   ]
  },
  {
   "cell_type": "code",
   "execution_count": null,
   "metadata": {},
   "outputs": [],
   "source": [
    "import numpy as np"
   ]
  },
  {
   "cell_type": "markdown",
   "metadata": {},
   "source": [
    "Let's generate a numpy array of length 5 populated with uniformly distributed random numbers. The function `np.random.rand` takes the array output size as an argument (in this case, 5)."
   ]
  },
  {
   "cell_type": "code",
   "execution_count": null,
   "metadata": {},
   "outputs": [],
   "source": [
    "np.random.rand(5)"
   ]
  },
  {
   "cell_type": "markdown",
   "metadata": {},
   "source": [
    "Additionally, you are not limited to one-dimensional arrays! Let's make a 5x5, two-dimensional array:"
   ]
  },
  {
   "cell_type": "code",
   "execution_count": null,
   "metadata": {},
   "outputs": [],
   "source": [
    "np.random.rand(5,5)"
   ]
  },
  {
   "cell_type": "markdown",
   "metadata": {},
   "source": [
    "Great, so now you have a handle on generating uniform distributions. Let's quickly look at one more type of distribution."
   ]
  },
  {
   "cell_type": "markdown",
   "metadata": {},
   "source": [
    "## The normal distribution (randn) selects numbers from a Gaussian curve, sometimes called a bell curve, also from the interval [0,1).\n",
    "\n",
    "The equation for a Gaussian curve is the following:\n",
    "\n",
    "$f(x) = \\frac{1}{\\sqrt{2\\pi\\sigma^2}}e^{\\frac{-(x-\\mu)^2}{2\\sigma^2}}$\n",
    "\n",
    "where $\\mu$ is the mean and $\\sigma$ is the standard deviation. "
   ]
  },
  {
   "cell_type": "markdown",
   "metadata": {},
   "source": [
    "Don't worry about memorizing this equation, but do know that it exists and that numbers can be randomly drawn from it.\n",
    "\n",
    "In python, the command `np.random.randn` selects numbers from the \"standard\" normal distribution.\n",
    "\n",
    "All this means is that, in the equation above, $\\mu$ (mean) = 0 and $\\sigma$ (standard deviation ) 1. `randn` takes the size of the output as an argument just like `rand` does.\n",
    "\n",
    "Try running the cell below to see the numbers you get from a normal distribution."
   ]
  },
  {
   "cell_type": "code",
   "execution_count": null,
   "metadata": {
    "scrolled": true
   },
   "outputs": [],
   "source": [
    "np.random.randn(5)"
   ]
  },
  {
   "cell_type": "markdown",
   "metadata": {},
   "source": [
    "So these numbers probably don't mean that much to you. Don't worry; they don't mean much to me either! \n",
    "\n",
    "Instead of trying to derive meaning from a list of numbers, let's actually plot these outputs and see what they look like. This will allow us to determine whether or not these distributions actually look like what we are expecting. How do we do that? The answer is with histograms!"
   ]
  },
  {
   "cell_type": "markdown",
   "metadata": {},
   "source": [
    "# B. Plotting distributions"
   ]
  },
  {
   "cell_type": "markdown",
   "metadata": {},
   "source": [
    "Histogram documentation: http://matplotlib.org/1.2.1/api/pyplot_api.html?highlight=hist#matplotlib.pyplot.hist\n",
    "\n",
    "Understanding distributions is perhaps best done by plotting them in a histogram. Lucky for us, `matplotlib` makes that very simple for us.\n"
   ]
  },
  {
   "cell_type": "markdown",
   "metadata": {},
   "source": [
    "To make a histogram, we use the command `plt.hist`, which takes -- at minimum -- a vector of values that we want to plot as a histogram. We can also specify the number of bins."
   ]
  },
  {
   "cell_type": "markdown",
   "metadata": {},
   "source": [
    "First things first: let's import `matplotlib`:"
   ]
  },
  {
   "cell_type": "code",
   "execution_count": null,
   "metadata": {},
   "outputs": [],
   "source": [
    "import matplotlib.pyplot as plt\n",
    "%matplotlib inline"
   ]
  },
  {
   "cell_type": "markdown",
   "metadata": {},
   "source": [
    "## Now, let's plot a uniform distribution and take a look."
   ]
  },
  {
   "cell_type": "markdown",
   "metadata": {},
   "source": [
    "Use what you learned above to define your variable `X` as a uniformly distributed array with 5000 elements."
   ]
  },
  {
   "cell_type": "code",
   "execution_count": null,
   "metadata": {},
   "outputs": [],
   "source": [
    "#your code here\n",
    "X = np.random.rand(5000)"
   ]
  },
  {
   "cell_type": "markdown",
   "metadata": {},
   "source": [
    "Now, let's use `plt.hist` to see what `X` looks like. First, run the cell below. Then, vary `bins` -- doing so will either increase or decrease the apparent effect of noise in your distribution."
   ]
  },
  {
   "cell_type": "code",
   "execution_count": null,
   "metadata": {},
   "outputs": [],
   "source": [
    "plt.hist(X, bins=20)"
   ]
  },
  {
   "cell_type": "markdown",
   "metadata": {},
   "source": [
    "Nice job! Do you see why the \"uniform distribution\" is referred to as such?"
   ]
  },
  {
   "cell_type": "markdown",
   "metadata": {},
   "source": [
    "## Next, let's take a look at the Gaussian distribution using histograms."
   ]
  },
  {
   "cell_type": "markdown",
   "metadata": {},
   "source": [
    "In the cell below, generate a vector of length 5000, called `X`, from the normal (Gaussian) distribution and plot a histogram with 50 bins.\n",
    "\n",
    "HINT: You will use a similar format as above when you defined and plotted a uniform distribution. "
   ]
  },
  {
   "cell_type": "code",
   "execution_count": null,
   "metadata": {},
   "outputs": [],
   "source": [
    "#your code here\n",
    "X = np.random.randn(5000)\n",
    "plt.hist(X, bins=50)"
   ]
  },
  {
   "cell_type": "markdown",
   "metadata": {},
   "source": [
    "Nice job! You just plotted a Gaussian distribution with mean of 0 and a standard deviation of 1.\n",
    "\n",
    "As a reminder, this is considered the \"standard\" normal distribution, and it's not particularly interesting. We can transform the distribution given by `np.random.randn` (and make it more interesting!) using simple arithmetic.\n",
    "\n",
    "Run the cell below to see. How is the code below different from the code you've already written?"
   ]
  },
  {
   "cell_type": "code",
   "execution_count": null,
   "metadata": {},
   "outputs": [],
   "source": [
    "mu = 10 #the mean of the distribution\n",
    "sigma = 1 #the standard deviation\n",
    "\n",
    "X = sigma * np.random.randn(5000) + mu\n",
    "plt.hist(X,bins=50)"
   ]
  },
  {
   "cell_type": "markdown",
   "metadata": {},
   "source": [
    "Before moving onto the next section, vary the values of `mu` and `sigma` in the above code to see how your histogram changes. You should find that changing `mu` (the mean) affects the center of the distribution while changing `sigma` (the standard deviation) affects the width of the distribution."
   ]
  },
  {
   "cell_type": "markdown",
   "metadata": {},
   "source": [
    "## Take a look at the histograms you have generated and compare them. Do the histograms of the uniform and normal (Gaussian) distributions look different? If so, how? Describe your observations in the cell below."
   ]
  },
  {
   "cell_type": "code",
   "execution_count": null,
   "metadata": {},
   "outputs": [],
   "source": [
    "#write your observations here\n"
   ]
  },
  {
   "cell_type": "markdown",
   "metadata": {},
   "source": [
    "For simplicity's sake, we've used `plt.hist` without generating any return variables. Remember that `plt.hist` takes in your data (`X`) and the number of bins, and it makes histograms from it. In the process, `plt.hist` generates variables that you can store; we just haven't thus far. Run the cell below to see -- it should replot the Gaussian from above while also generating the output variables."
   ]
  },
  {
   "cell_type": "code",
   "execution_count": null,
   "metadata": {},
   "outputs": [],
   "source": [
    "N,bins,patches = plt.hist(X, bins=50)\n",
    "len(N)\n",
    "len(bins)\n",
    "print(N)\n",
    "print(bins)"
   ]
  },
  {
   "cell_type": "markdown",
   "metadata": {},
   "source": [
    "Something that might be useful to you is that you can make use of variables outputted by `plt.hist` -- particularly `bins` and `N`.\n",
    "\n",
    "The bins array returned by `plt.hist` is longer (by one element) than the actual number of bins. Why? Because the bins array contains all the edges of the bins. For example, if you have 2 bins, you will have 3 edges. Does this make sense?\n",
    "\n",
    "So you can generate these outputs, but what can you do with them? You can average consecutive elements from the `bins` output to get, in a sense, a location of the center of a bin. Let's call it `bin_avg`. Then you can plot the number of observations in that bin (`N`) against the bin location (`bin_avg`)."
   ]
  },
  {
   "cell_type": "code",
   "execution_count": null,
   "metadata": {},
   "outputs": [],
   "source": [
    "bin_avg = (bins[1:]+bins[:-1])/2\n",
    "plt.plot(bin_avg, N, 'r*')\n",
    "plt.show()"
   ]
  },
  {
   "cell_type": "markdown",
   "metadata": {},
   "source": [
    "The plot above (red stars) should look like it overlays the histogram plot above it. If that's what you see, nice job! If not, let your instructor and/or TAs know before moving onto the next section."
   ]
  },
  {
   "cell_type": "markdown",
   "metadata": {},
   "source": [
    "# C. Checking your distributions with statistics"
   ]
  },
  {
   "cell_type": "markdown",
   "metadata": {},
   "source": [
    "If you ever want to check that your distributions are giving you what you expect, you can use `numpy` to calculate the mean and standard deviation of your distribution. Let's do this for `X`, our Gaussian distribution, and print the results.\n",
    "\n",
    "Run the cell below. Are your mean and standard deviation what you expect them to be?"
   ]
  },
  {
   "cell_type": "code",
   "execution_count": null,
   "metadata": {},
   "outputs": [],
   "source": [
    "mean = np.mean(X)\n",
    "std = np.std(X)\n",
    "print('mean: '+ repr(mean) )\n",
    "print('standard deviation: ' + repr(std))"
   ]
  },
  {
   "cell_type": "markdown",
   "metadata": {},
   "source": [
    "So you've learned how to generate distributions of numbers, plot them, and generate statistics on them. This is a great starting point, but let's try working with some real data!"
   ]
  },
  {
   "cell_type": "markdown",
   "metadata": {},
   "source": [
    "# D. Visualizing and understanding real data"
   ]
  },
  {
   "cell_type": "markdown",
   "metadata": {},
   "source": [
    "Hope you're excited -- we're about to get our hands on some real data! Let's import a list of fluorescence lifetimes in nanoseconds from Nitrogen-Vacancy defects in diamond.\n",
    "\n",
    "(While it is not at all necessary to understand the physics behind this, know that this is indeed real data! You can read more about it at http://www.nature.com/articles/ncomms11820 if you are so inclined. This data is from Fig. 6a)."
   ]
  },
  {
   "cell_type": "markdown",
   "metadata": {},
   "source": [
    "Do you remember learning how to import data in yesterday's Lecture 2? The command you want to use is `np.loadtxt`. The data we'll be working with is called `LifetimeData.txt`, and it's located in the `Data` folder."
   ]
  },
  {
   "cell_type": "code",
   "execution_count": null,
   "metadata": {},
   "outputs": [],
   "source": [
    "lifetimes = np.loadtxt('Data/LifetimeData.txt')"
   ]
  },
  {
   "cell_type": "markdown",
   "metadata": {},
   "source": [
    "Next, plot a histogram of this data set (play around with the number of bins, too)."
   ]
  },
  {
   "cell_type": "code",
   "execution_count": null,
   "metadata": {},
   "outputs": [],
   "source": [
    "#your code here\n",
    "N,bins,patches = plt.hist(lifetimes,bins=40)"
   ]
  },
  {
   "cell_type": "markdown",
   "metadata": {},
   "source": [
    "Now, calculate and print the mean and standard deviation of this distribution."
   ]
  },
  {
   "cell_type": "code",
   "execution_count": null,
   "metadata": {},
   "outputs": [],
   "source": [
    "#your code here\n",
    "mean = np.mean(lifetimes)\n",
    "std = np.std(lifetimes)\n",
    "print(\"mean: \"+repr(mean))\n",
    "print(\"standard deviation: \"+repr(std))"
   ]
  },
  {
   "cell_type": "markdown",
   "metadata": {},
   "source": [
    "Nice job! You have completed this review. We hope that this gave you a nice primer for working with and understanding how real data can described through distributions and visualized through histograms."
   ]
  }
 ],
 "metadata": {
  "anaconda-cloud": {},
  "kernelspec": {
   "display_name": "Python 3",
   "language": "python",
   "name": "python3"
  },
  "language_info": {
   "codemirror_mode": {
    "name": "ipython",
    "version": 3
   },
   "file_extension": ".py",
   "mimetype": "text/x-python",
   "name": "python",
   "nbconvert_exporter": "python",
   "pygments_lexer": "ipython3",
   "version": "3.9.0"
  }
 },
 "nbformat": 4,
 "nbformat_minor": 4
}
