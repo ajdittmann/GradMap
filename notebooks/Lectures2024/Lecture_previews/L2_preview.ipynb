{
 "cells": [
  {
   "cell_type": "markdown",
   "metadata": {
    "id": "wlxE9uISw0Yv"
   },
   "source": [
    "## Review from the previous lecture\n",
    "\n",
    "The previous lecture covered basic mathematical operations, variables, and lists. Last lecture also introduced you to conditional statements, loops, and basic plotting using matplotlib. Before moving forward, here is a quick review."
   ]
  },
  {
   "cell_type": "markdown",
   "metadata": {
    "id": "tyj8M4Tbw0Yw"
   },
   "source": [
    " **Loops** with **dummy variables** are useful to iterate over lists and perform operations on each element."
   ]
  },
  {
   "cell_type": "markdown",
   "metadata": {
    "id": "T12P3qJ7w0Yw"
   },
   "source": [
    "Conditional statements like **if** and **else** are used to implement more complex logic."
   ]
  },
  {
   "cell_type": "markdown",
   "metadata": {
    "id": "yCyvx4yWMGKT"
   },
   "source": [
    "The other kind of loop that you might encounter more often while working in Python is the `for` loop. A for-loop has the dummy variable \"built in,\" in a sense."
   ]
  },
  {
   "cell_type": "markdown",
   "metadata": {
    "id": "oKUpRTFXMv1N"
   },
   "source": [
    "The `range` function can be iterated over to produce a regular sequence of numbers."
   ]
  },
  {
   "cell_type": "markdown",
   "metadata": {
    "id": "gJkQuou8M5x9"
   },
   "source": [
    "`range` can be used as `range(end_)`, or as `range(start_, end_)`, or as `range(start_, end_, step_)`. Here's the [official documentation](https://docs.python.org/3/library/functions.html#func-range) as well as an [easier-to-read explainer webpage](https://www.w3schools.com/python/ref_func_range.asp)."
   ]
  },
  {
   "cell_type": "markdown",
   "metadata": {
    "id": "y7scwvhLw0Yw"
   },
   "source": [
    "Finally, recall that the **matplotlib** module can be used to plot data.\n",
    "\n",
    "First, import the module - this is always the first step whenever you're using a python module, but it's easy to forget! Then, we use a magic command that makes the figure appear within the cell."
   ]
  },
  {
   "cell_type": "markdown",
   "metadata": {
    "id": "Q82yTzDTw0Yx"
   },
   "source": [
    "# Lecture 2 - NumPy, Functions, and Data\n",
    "\n",
    "Today, we will learn about NumPy, learn how to define our own functions, and learn about handling data in Python.\n",
    "\n",
    "1. An introduction to **numpy** and **numpy arrays** and a discussion of their usefulness in solving real problems\n",
    "2. **Functions** and how to define new ones. \n",
    "3. Reading in **data** from text and numpy file formats, along with creating your own outputs to be used later\n",
    "    "
   ]
  },
  {
   "cell_type": "markdown",
   "metadata": {
    "id": "eWoP8Tfuw0Yy"
   },
   "source": [
    "## A. Introduction to Numpy Arrays - Initialization and Advanced Indexing"
   ]
  },
  {
   "cell_type": "markdown",
   "metadata": {
    "id": "3DR1oDfEw0Yy"
   },
   "source": [
    "The Python `list` is a fast and flexible built-in data type, but because of its flexbility, it is limited in the operations we can perform on it. A popular scientific computing package called `numpy`, short for \"numerical Python\", can help by way of its incredibly powerful object type: the `array`."
   ]
  },
  {
   "cell_type": "code",
   "execution_count": null,
   "metadata": {
    "id": "DKWCEZRKw0Yy"
   },
   "outputs": [],
   "source": [
    "c = list(range(10))"
   ]
  },
  {
   "cell_type": "markdown",
   "metadata": {
    "id": "J8hqYtbYw0Yz"
   },
   "source": [
    "<a id='ranges'></a>\n",
    "There are a few easier ways to create arrays besides creating a list and turning it into a numpy array. These include:\n",
    "* `np.arange(start_,stop_,step_)`\n",
    "* `np.linspace(first_,last_,num_)`\n",
    "\n",
    "(And the accompanying official documentation pages: [numpy.arange](https://numpy.org/doc/stable/reference/generated/numpy.arange.html), [numpy.linspace](https://numpy.org/doc/stable/reference/generated/numpy.linspace.html#numpy.linspace))\n",
    "\n",
    "These create arrays of numbers within a range with a fixed step-size between each consecutive number in the array.\n",
    "\n",
    "`np.arange(start_,stop_,step_)` works just like the `range` function we introduced at the beginning of this lesson! But instead of the mysterious `range` object type, the numpy function returns a nice, neat numpy array."
   ]
  },
  {
   "cell_type": "markdown",
   "metadata": {
    "id": "j62mXK4xw0Yz"
   },
   "source": [
    "<a id='empty'></a>\n",
    "Sometimes it is handy to create an array of all constant values, which can then be replaced later with data. This can be done in several ways by using the following commands:\n",
    "\n",
    "* [`np.zeros(size_)`](https://numpy.org/doc/stable/reference/generated/numpy.zeros.html) To fill the array with zeros\n",
    "* [`np.ones(size_)`](https://numpy.org/doc/stable/reference/generated/numpy.oness.html) To fill the array with ones\n",
    "* [`np.empty(size_)`](https://numpy.org/doc/stable/reference/generated/numpy.empty.html) To fill the array with arbitrary values\n",
    "\n",
    "These create arrays of the given size, filled with zeros, ones, or arbitrary values, depending on your specific needs. Great for initializing an array to store important data in later!"
   ]
  },
  {
   "cell_type": "markdown",
   "metadata": {
    "collapsed": true,
    "id": "h9_sUv6iw0Yz"
   },
   "source": [
    "<a id='indexing'></a>\n",
    "We can also assign new values to elements of existing arrays, using the following \"square bracket\" notation. This is the same as the list indexing we taught you in Lecture #1!\n",
    "> `array_name[index_number] = value` \n",
    "\n",
    "This command will replace whatever value is currently in the position corresponding to ``index_number`` in the array called ``array_name`` with the value stored in ``value``.\n",
    "\n",
    "Recall that arrays are numbered starting from 0, such that\n",
    "\n",
    "* Index of first position = 0\n",
    "* Index of second position = 1\n",
    "* Index of third position = 2\n",
    "* etc.\n"
   ]
  },
  {
   "cell_type": "markdown",
   "metadata": {
    "id": "SFN325_pw0Yz"
   },
   "source": [
    "**Negative indexing** is the same as normal indexing, but backward, in the sense that you start with the last element of the array and count forward.  More explicitly, for any array:\n",
    "\n",
    "* array[-1] = last element of array\n",
    "* array[-2] = second to last element of the array\n",
    "* array[-3] = third to last element of the array\n",
    "* etc"
   ]
  },
  {
   "cell_type": "markdown",
   "metadata": {
    "id": "oT7kzVoTw0Yz"
   },
   "source": [
    "Sometimes it's useful to access more than one element of an array. Let's say that we have an array spanning the range [0,10] (including endpoints), with a step size of 0.1. If you recall, this can be done via the `np.linspace()` or `np.arange()` functions."
   ]
  },
  {
   "cell_type": "markdown",
   "metadata": {
    "id": "IhK6eu2bw0Yz"
   },
   "source": [
    "<a id='slicing'></a>\n",
    "In order to get a range of elements in an array, rather than simply a single one, use **array slicing**:\n",
    "\n",
    "* `array_name[start_index:end_index]` To grab all of the values from `start_index` to `end_index - 1`\n",
    "* `array_name[:end_index]` To grab all of the values up to `end_index-1`\n",
    "* `array_name[start_index:]` To grab all of the values from `start_index` and beyond\n",
    "\n",
    "In this notation, \":\" means you want everything between your start and end indices, including the value to the left but excluding the value to the right."
   ]
  },
  {
   "cell_type": "markdown",
   "metadata": {
    "id": "h5iseseK6c_h"
   },
   "source": [
    "## B. Functions"
   ]
  },
  {
   "cell_type": "markdown",
   "metadata": {
    "id": "Czoqiv9zlXo8"
   },
   "source": [
    "### More Numpy functions\n",
    "\n",
    "The previous section introduces a built-in Python function, `range`, as well as a couple `numpy` module functions, `np.arange` and `np.linspace`, but there are many, many more functions that you'll encounter.\n",
    "Functions are the most fundamental way to process data in Python; they take some inputs, which they may alter, and they (usually) return a result.\n",
    "\n",
    "\\begin{gather}\n",
    "function(input) \\rightarrow output\n",
    "\\end{gather}"
   ]
  },
  {
   "cell_type": "markdown",
   "metadata": {
    "id": "hovLawfpw0Y2"
   },
   "source": [
    "<a id='built-in'></a>\n",
    "In general, most common mathematical functions like sqrt, log, exp, sin, cos can be found in the numpy module.\n",
    "\n",
    "For more information, the documentation of many **built-in functions** that can be applied to integers and floats (i.e. single numbers), as well as **numpy arrays**, can be found here: https://docs.scipy.org/doc/numpy/reference/routines.math.html"
   ]
  },
  {
   "cell_type": "markdown",
   "metadata": {
    "id": "_hodpy14QYZb"
   },
   "source": [
    "When in need of a mathematical function like one of the above, or even a more complicated one (like the \"erf\" function, or \"Riemann zeta function\", if you've ever encountered those), **never** spend time writing it yourself. Nearly every mathematical function one can think of already exists in some well-documented module. Check [numpy](https://numpy.org/doc/stable/reference/) and [scipy](https://docs.scipy.org/doc/scipy/reference/); google search \"numpy `<function name>`\" or \"scipy `<function name>`\" and you should find your desired function.\n",
    "\n",
    "If `numpy` and `scipy` don't have your function, it is likely that someone has posted it on StackExchange or StackOverflow or somewhere.\n",
    "Google search \"python `<function name>`\".\n",
    "\n",
    "Copy+paste from the Internet is a very efficient way to code, and we do it all the time.\n",
    "If you're worried about things like plagiarism, you should paste the link to the webpage where you found the code as a comment in your notebook.\n",
    "Then you've cited your source!"
   ]
  },
  {
   "cell_type": "markdown",
   "metadata": {
    "id": "ltvMPy0iw0Y0"
   },
   "source": [
    "### Defining your own functions\n",
    "\n",
    "Python allows you to define your own functions, too.\n",
    "**User-defined functions** allow you to clean up your code and apply the same set of operations to multiple variables.\n",
    "Organizing your code into functions is also a good way to write code that other people will use."
   ]
  },
  {
   "cell_type": "markdown",
   "metadata": {
    "id": "wtGjcQzCw0Y2"
   },
   "source": [
    "<a id='user-def'></a>\n",
    "The outline for a function is:\n",
    "```python\n",
    "def <function name> (<input variables>):\n",
    "    <some code here>\n",
    "    return <output variables>\n",
    "```"
   ]
  },
  {
   "cell_type": "markdown",
   "metadata": {
    "id": "gfaLd1QRw0Y2"
   },
   "source": [
    "When defining your own functions, you can also use **multiple input variables**.\n"
   ]
  },
  {
   "cell_type": "markdown",
   "metadata": {
    "id": "t1NeFU08VOam"
   },
   "source": [
    "<a id='multi-line'></a>\n",
    "A note about comments: it's good Python etiquette to comment the functions you write.\n",
    "Even if you never intend to share your code with anyone else, it is extremely useful to write yourself reminders about what your functions do.\n",
    "You can even include an example (this is pretty common in professional documentation).\n",
    "\n",
    "One common way to document the functions you write is with a \"**multi-line comment**\" immediately following the `def` line.\n",
    "A multi-line comment starts and ends with three double quotation marks."
   ]
  },
  {
   "cell_type": "code",
   "execution_count": null,
   "metadata": {
    "id": "SODQjd6-WBsO"
   },
   "outputs": [],
   "source": [
    "def my_function(arg):\n",
    "\"\"\"\n",
    "This is my function. It's for doing this one important thing.\n",
    "This function needs one argument, which should be a single number.\n",
    "The function will return another number.\n",
    "\n",
    "Example:\n",
    ">>> my_function(3)\n",
    "7\n",
    "\"\"\"\n",
    "    return arg + 4\n"
   ]
  },
  {
   "cell_type": "markdown",
   "metadata": {
    "id": "767Nt0y1w0Y2"
   },
   "source": [
    "## C. Loading And Saving Data Arrays\n",
    "\n",
    "Up to now, the data that you have handled has been self-defined: you have constructed an array and fill that array with values that you operate on all in the same code. Often, in scientific programming, this is not the case. One program or piece of equipment creates and stores data, while another loads, operates on, and analyzes it. Thus it is essential to learn the ways that one can **load** and **save** data in python."
   ]
  },
  {
   "cell_type": "markdown",
   "metadata": {
    "id": "-DF0c0QEWlgQ"
   },
   "source": [
    "<a id='loadtxt'></a>\n",
    "The simplest way to **load data from a plain-text file** with numpy is using [`numpy.loadtext`](https://numpy.org/doc/stable/reference/generated/numpy.loadtxt.html). At its simplest, the usage is:\n",
    "* data_array_name = `np.loadtxt('path_to_file')`\n",
    "\n",
    "  (Note that the path should be listed as a string!)\n",
    "  \n",
    "From the documentation page, it seems there a lot of **optional arguments** that let you specify more precisely how you want to read the data, but at its most basic, the function will work the way we have shown above."
   ]
  },
  {
   "cell_type": "markdown",
   "metadata": {
    "id": "Q4oRvVC6YEoB"
   },
   "source": [
    "<a id='path'></a>\n",
    "A file's **path** is its specific location in the file structure of your computer. This is most often defined relative to your current place in the file structure. To specify the folder you are currently working in (your **current working directory**), use a single period followed by a forward slash. To specify a subfolder or file within a folder use the name of the subfolder or file, always following a folder name with a forward slash.\n",
    "\n",
    "* `./` = Path to the current folder that you are working in.\n",
    "* `./subfolder1/` = Path to a folder that exists inside of your current folder, named \"subfolder1\"\n",
    "* `./subfolder1/myfile` = Path to a file that exists inside of a folder tht exists inside of your current folder\n",
    "* `../` = Path to the folder that contains the folder you are currently working in"
   ]
  },
  {
   "cell_type": "markdown",
   "metadata": {
    "id": "ZaGWIsaEw0Y3"
   },
   "source": [
    "<a id='matrix'></a>\n",
    "By convention, we first specify the row index followed by the column index.\n",
    "- `array_name[n,:]` is the n-th row, and all columns within that row.\n",
    "- `array_name[:,n]` is the n-th column, and all rows within that particular column."
   ]
  },
  {
   "cell_type": "markdown",
   "metadata": {
    "id": "3ISm-jzMqivX"
   },
   "source": [
    "<a id='conditional'></a>\n",
    "In order to choose only the parts of an array that meeto some criteria, you can use **conditional indexing** in place of normal indices. This involves taking a **conditional statement** (more on those later) and testing whether it evaluates to True on each element in the array.\n",
    "\n",
    "This gives an array of Booleans, which you can use as **logical indices** to select *only* the entries for which the logical statement is `True`. "
   ]
  },
  {
   "cell_type": "markdown",
   "metadata": {
    "id": "4COwODKvw0Y3"
   },
   "source": [
    "<a id='save'></a>\n",
    "Here we cover two main ways to **save data files** for use again later, one that is Python-specific, and the other a simple text format.\n",
    "\n",
    "* [`np.save('file_path', array_name)`](https://numpy.org/doc/stable/reference/generated/numpy.save.html) - Creates a `.npy` file (Python readable only!)\n",
    "* [`np.savetxt('file_path', array_name)`](https://numpy.org/doc/stable/reference/generated/numpy.savetxt.html#numpy.savetxt) - Creates a `plain text` (or `.txt`) file (more generally readable)\n",
    "\n",
    "The basic syntax is pretty much the same for each. What differs is the type of file that the functions create. Below is an example of how each function can be called to store the same data."
   ]
  },
  {
   "cell_type": "markdown",
   "metadata": {
    "id": "PYcGereew0Y4"
   },
   "source": [
    "After saving a data file, you can load it up again using `np.loadtxt()` and `np.load()` for .txt and .npy files respectively. "
   ]
  },
  {
   "cell_type": "markdown",
   "metadata": {
    "id": "CAsYNg89w0Y4"
   },
   "source": [
    "## D. Loading data files automatically\n",
    "\n",
    "Let's combine what we learned about loops to make our data workflow more efficient. Suppose we have a set of data saved in separate text files that we would like to load automatically. For example, in `./lecture2_data/` you will find files `c1.dat`, `c2.dat`, `c3.dat`, `c4.dat`, `c5.dat`, `c6.dat`. \n",
    "\n",
    "Rather than loading each of these files individually, you can use a for (or while) loop, constructing a string at each iteration corresponding to each of these files. \n",
    "\n",
    "In Python you can use `+` to concatenate strings together. Here's an example. "
   ]
  },
  {
   "cell_type": "code",
   "execution_count": null,
   "metadata": {
    "colab": {
     "base_uri": "https://localhost:8080/"
    },
    "id": "IjLT3d3pw0Y4",
    "outputId": "24cbda0d-b5c9-4352-9725-ce2654a69d98"
   },
   "outputs": [
    {
     "name": "stdout",
     "output_type": "stream",
     "text": [
      "ab\n"
     ]
    }
   ],
   "source": [
    "first_string = 'a'\n",
    "second_string = 'b'\n",
    "print(first_string + second_string)"
   ]
  },
  {
   "cell_type": "markdown",
   "metadata": {
    "id": "66f_I_eqw0Y4"
   },
   "source": [
    "You can also cast an integer to a string using the `str` command."
   ]
  },
  {
   "cell_type": "code",
   "execution_count": null,
   "metadata": {
    "colab": {
     "base_uri": "https://localhost:8080/"
    },
    "id": "kH5gRHrsw0Y4",
    "outputId": "d153a8c7-9a07-4425-b95b-a2b6c7f44569"
   },
   "outputs": [
    {
     "name": "stdout",
     "output_type": "stream",
     "text": [
      "a1\n"
     ]
    }
   ],
   "source": [
    "first_string = 'a'\n",
    "second_string = str(1)\n",
    "print(first_string + second_string)"
   ]
  },
  {
   "cell_type": "markdown",
   "metadata": {
    "id": "40xoidx0w0Y4"
   },
   "source": [
    "You can use these \"string manipulation\" techniques to automatically generate filenames to quickly save multiple arrays to individual files.\n",
    "\n",
    "So, to summarize, not only can you manipulate arrays, but now you can save them and load them. In a way, those are some of the most important skills in scientific computing. Almost everything you'll be doing requires you know this, and now that you've mastered it, you're well on your way to being an expert in computational physics and astronomy!"
   ]
  },
  {
   "cell_type": "markdown",
   "metadata": {
    "id": "KXecogv19m0z"
   },
   "source": [
    "# Summary/References\n",
    "<a id='summary'></a>"
   ]
  },
  {
   "cell_type": "markdown",
   "metadata": {
    "id": "S7LRuY3VCmuy"
   },
   "source": [
    "## Arrays\n",
    "* Create [arrays](#array) from lists using [`np.array(listname)`](https://numpy.org/doc/stable/reference/generated/numpy.ndarray.html)\n",
    "* Create [evenly spaced arrays](#ranges) of numbers using:\n",
    "  * [`np.arange(start, stop, stepsize)`](https://numpy.org/doc/stable/reference/generated/numpy.arange.html)\n",
    "  * [`np.linspace(start, stop, num_points)`](https://numpy.org/doc/stable/reference/generated/numpy.linspace.html)\n",
    "* Create [\"empty\" arrays](#empty) using:\n",
    "  * [`np.zeros(size)`](https://numpy.org/doc/stable/reference/generated/numpy.zeros.html) for an array of all 0\n",
    "  * [`np.ones(size)`](https://numpy.org/doc/stable/reference/generated/numpy.ones.html) for an array of all 1\n",
    "  * [`np.empty(size)`](https://numpy.org/doc/stable/reference/generated/numpy.empty.html) for a quickly generated array of nonspecific values\n",
    "* [Index](#indexing) and [slice](#slicing) your arrays using brackets, colon notation, and [conditional statements](#conditional), e.g.:\n",
    "  * `myarray[0]` for the first (zeroth) element\n",
    "  * `myarray[-1]` for the last element\n",
    "  * `myarray[:]` for the whole array\n",
    "  * `myarray[5:]` for everything after and including the 5th element\n",
    "  * `myarray[:20]` for everything up to but not including the 20th element\n",
    "  * `myarray[myarray > 10]` for all values greater than 10 in your array\n",
    "  * `mymatrix[:, 0]` for all values in the first column of a [matrix](#matrix) (2D array)\n",
    "  * See [here](https://www.google.com/url?q=https://stackoverflow.com/a/4729334&sa=D&ust=1608320322998000&usg=AFQjCNGmI429xTVOP87NgDrSRyL3xRkVgg) for another series of explanations of slicing and indexing lists/arrays in Python!\n",
    "* Determine the [size and shape](#shape) of your array using [`myarray.shape`](https://numpy.org/doc/stable/reference/generated/numpy.ndarray.shape.html)\n"
   ]
  },
  {
   "cell_type": "markdown",
   "metadata": {
    "id": "aYjvNwHN37ZX"
   },
   "source": [
    "## Functions\n",
    "* Use (and find) [built-in](#built-in) numpy functions and variables\n",
    "  * [`np.sin(x)`](https://numpy.org/doc/stable/reference/generated/numpy.sin.html), [`np.cos(x)`](https://numpy.org/doc/stable/reference/generated/numpy.cos.html)\n",
    "  * [`np.exp(x)`](https://numpy.org/doc/stable/reference/generated/numpy.exp.html), [`np.log(x)`](https://numpy.org/doc/stable/reference/generated/numpy.log.html)\n",
    "  * [`np.sqrt(x)`](https://numpy.org/doc/stable/reference/generated/numpy.sqrt.html)\n",
    "  * [`np.pi` (and other constants)](https://numpy.org/doc/stable/reference/constants.html)\n",
    "* [Create](#user-def) functions using the following format:\n",
    "```python\n",
    "def <function name> (input1, input2, ...):\n",
    "    <some code here>\n",
    "    return output1, output2, ...\n",
    "```\n",
    "* Make [multi-line comments](#multi-line) surrounded by `\"\"\"` triple quotes\n",
    "  * See the first answer at [this page](https://stackoverflow.com/questions/7696924/is-there-a-way-to-create-multiline-comments-in-python) for an example."
   ]
  },
  {
   "cell_type": "markdown",
   "metadata": {
    "id": "yRsOgQua4DJT"
   },
   "source": [
    "## Loading & Saving Data\n",
    "* Define a [path to a file](#path) with notation like `\"./subfolder/filename\"`, where `.` means your current directory\n",
    "  * See [this page](https://docs.oracle.com/javase/tutorial/essential/io/path.html) for a brief description of paths (written for java, but still applicable!)\n",
    "  * See the [pathlib](https://docs.python.org/3/library/pathlib.html) module for how it's supposed to be done in Python3, (and [this](https://medium.com/@ageitgey/python-3-quick-tip-the-easy-way-to-deal-with-file-paths-on-windows-mac-and-linux-11a072b58d5f) beginner-friendly article) if you're interested!\n",
    "* [Load data](#loadtxt) from a text file with [`np.loadtxt(FilePath)`](https://numpy.org/doc/stable/reference/generated/numpy.loadtxt.html)\n",
    "* [Save data](#save) to a text file with [`np.savetxt(FilePath, ArrayName)`](https://numpy.org/doc/stable/reference/generated/numpy.savetxt.html)\n",
    "* (And do the same with `.npy` [Python specific files](#save) using [`np.load`](https://numpy.org/doc/stable/reference/generated/numpy.load.html) and [`np.save`](https://numpy.org/doc/stable/reference/generated/numpy.save.html) and the same arguments)\n",
    "* Use lists and loops to load several files with regular naming schemes\n",
    "  * See final exercise above"
   ]
  }
 ],
 "metadata": {
  "anaconda-cloud": {},
  "colab": {
   "collapsed_sections": [
    "wlxE9uISw0Yv"
   ],
   "name": "Lecture2_Preview.ipynb",
   "provenance": [],
   "toc_visible": true
  },
  "kernelspec": {
   "display_name": "Python 3",
   "language": "python",
   "name": "python3"
  },
  "language_info": {
   "codemirror_mode": {
    "name": "ipython",
    "version": 3
   },
   "file_extension": ".py",
   "mimetype": "text/x-python",
   "name": "python",
   "nbconvert_exporter": "python",
   "pygments_lexer": "ipython3",
   "version": "3.8.5"
  }
 },
 "nbformat": 4,
 "nbformat_minor": 1
}
